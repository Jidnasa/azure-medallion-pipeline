{
 "cells": [
  {
   "cell_type": "code",
   "execution_count": 0,
   "metadata": {
    "application/vnd.databricks.v1+cell": {
     "cellMetadata": {
      "byteLimit": 2048000,
      "rowLimit": 10000
     },
     "inputWidgets": {},
     "nuid": "19b43c89-acf7-4430-bfbf-88904ee8aaa0",
     "showTitle": false,
     "tableResultSettingsMap": {},
     "title": ""
    }
   },
   "outputs": [
    {
     "output_type": "display_data",
     "data": {
      "text/html": [
       "<style scoped>\n",
       "  .ansiout {\n",
       "    display: block;\n",
       "    unicode-bidi: embed;\n",
       "    white-space: pre-wrap;\n",
       "    word-wrap: break-word;\n",
       "    word-break: break-all;\n",
       "    font-family: \"Menlo\", \"Monaco\", \"Consolas\", \"Ubuntu Mono\", \"Source Code Pro\", monospace;\n",
       "    font-size: 13px;\n",
       "    color: #555;\n",
       "    margin-left: 4px;\n",
       "    line-height: 19px;\n",
       "  }\n",
       "</style>\n",
       "<div class=\"ansiout\"></div>"
      ]
     },
     "metadata": {
      "application/vnd.databricks.v1+output": {
       "addedWidgets": {},
       "arguments": {},
       "data": "<div class=\"ansiout\"></div>",
       "datasetInfos": [],
       "metadata": {},
       "removedWidgets": [],
       "type": "html"
      }
     },
     "output_type": "display_data"
    }
   ],
   "source": [
    "from pyspark.sql import functions as F, types as T\n",
    "\n",
    "BRONZE_PATH = \"abfss://retail-input-data@streaminputsa01.dfs.core.windows.net/delta/bronze_product_reviews\"\n",
    "SILVER_PATH = \"abfss://retail-input-data@streaminputsa01.dfs.core.windows.net/delta/silver_product_reviews\"\n",
    "CHK_SILVER  = \"abfss://retail-input-data@streaminputsa01.dfs.core.windows.net/_chk/eh_consumer_simple/silver\"\n",
    "\n",
    "schema = T.StructType([\n",
    "    T.StructField(\"Id\",   T.IntegerType()),\n",
    "    T.StructField(\"ProductId\", T.StringType()),\n",
    "    T.StructField(\"UserId\",  T.StringType()),\n",
    "    T.StructField(\"ProfileName\", T.StringType()),\n",
    "    T.StructField(\"HelpfulnessNumerator\", T.StringType()),\n",
    "    T.StructField(\"HelpfulnessDenominator\", T.StringType()),\n",
    "    T.StructField(\"Score\", T.IntegerType()),\n",
    "    T.StructField(\"Time\", T.TimestampType()),\n",
    "    T.StructField(\"Summary\", T.StringType()),\n",
    "    T.StructField(\"Text\",T.StringType())\n",
    "])"
   ]
  },
  {
   "cell_type": "code",
   "execution_count": 0,
   "metadata": {
    "application/vnd.databricks.v1+cell": {
     "cellMetadata": {
      "byteLimit": 2048000,
      "rowLimit": 10000
     },
     "inputWidgets": {},
     "nuid": "cee42d2d-0e3f-41cf-a4ce-7175f0c89e5b",
     "showTitle": false,
     "tableResultSettingsMap": {},
     "title": ""
    }
   },
   "outputs": [
    {
     "output_type": "display_data",
     "data": {
      "text/html": [
       "<style scoped>\n",
       "  .ansiout {\n",
       "    display: block;\n",
       "    unicode-bidi: embed;\n",
       "    white-space: pre-wrap;\n",
       "    word-wrap: break-word;\n",
       "    word-break: break-all;\n",
       "    font-family: \"Menlo\", \"Monaco\", \"Consolas\", \"Ubuntu Mono\", \"Source Code Pro\", monospace;\n",
       "    font-size: 13px;\n",
       "    color: #555;\n",
       "    margin-left: 4px;\n",
       "    line-height: 19px;\n",
       "  }\n",
       "</style>\n",
       "<div class=\"ansiout\"></div>"
      ]
     },
     "metadata": {
      "application/vnd.databricks.v1+output": {
       "addedWidgets": {},
       "arguments": {},
       "data": "<div class=\"ansiout\"></div>",
       "datasetInfos": [],
       "metadata": {},
       "removedWidgets": [],
       "type": "html"
      }
     },
     "output_type": "display_data"
    }
   ],
   "source": [
    "spark.conf.set(\n",
    "    \"fs.azure.account.key.streaminputsa01.dfs.core.windows.net\",\n",
    "    $value\n",
    ")\n"
   ]
  },
  {
   "cell_type": "code",
   "execution_count": 0,
   "metadata": {
    "application/vnd.databricks.v1+cell": {
     "cellMetadata": {
      "byteLimit": 2048000,
      "rowLimit": 10000
     },
     "inputWidgets": {},
     "nuid": "9b1d3d14-213f-425f-b3cc-fcdc9d826026",
     "showTitle": false,
     "tableResultSettingsMap": {},
     "title": ""
    }
   },
   "outputs": [
    {
     "output_type": "display_data",
     "data": {
      "text/html": [
       "<style scoped>\n",
       "  .ansiout {\n",
       "    display: block;\n",
       "    unicode-bidi: embed;\n",
       "    white-space: pre-wrap;\n",
       "    word-wrap: break-word;\n",
       "    word-break: break-all;\n",
       "    font-family: \"Menlo\", \"Monaco\", \"Consolas\", \"Ubuntu Mono\", \"Source Code Pro\", monospace;\n",
       "    font-size: 13px;\n",
       "    color: #555;\n",
       "    margin-left: 4px;\n",
       "    line-height: 19px;\n",
       "  }\n",
       "</style>\n",
       "<div class=\"ansiout\"></div>"
      ]
     },
     "metadata": {
      "application/vnd.databricks.v1+output": {
       "addedWidgets": {},
       "arguments": {},
       "data": "<div class=\"ansiout\"></div>",
       "datasetInfos": [],
       "metadata": {},
       "removedWidgets": [],
       "type": "html"
      }
     },
     "output_type": "display_data"
    }
   ],
   "source": [
    "bronze_stream = spark.readStream.format(\"delta\").load(BRONZE_PATH)"
   ]
  },
  {
   "cell_type": "code",
   "execution_count": 0,
   "metadata": {
    "application/vnd.databricks.v1+cell": {
     "cellMetadata": {
      "byteLimit": 2048000,
      "rowLimit": 10000
     },
     "inputWidgets": {},
     "nuid": "c3042849-26db-4241-850f-34efa59e0097",
     "showTitle": false,
     "tableResultSettingsMap": {},
     "title": ""
    }
   },
   "outputs": [
    {
     "output_type": "display_data",
     "data": {
      "text/html": [
       "<style scoped>\n",
       "  .ansiout {\n",
       "    display: block;\n",
       "    unicode-bidi: embed;\n",
       "    white-space: pre-wrap;\n",
       "    word-wrap: break-word;\n",
       "    word-break: break-all;\n",
       "    font-family: \"Menlo\", \"Monaco\", \"Consolas\", \"Ubuntu Mono\", \"Source Code Pro\", monospace;\n",
       "    font-size: 13px;\n",
       "    color: #555;\n",
       "    margin-left: 4px;\n",
       "    line-height: 19px;\n",
       "  }\n",
       "</style>"
      ]
     },
     "metadata": {
      "application/vnd.databricks.v1+output": {
       "arguments": {},
       "data": "",
       "errorSummary": "The cluster was unhealthy or has been terminated. Please restart the cluster or attach this notebook to a different cluster.",
       "errorTraceType": null,
       "metadata": {},
       "type": "ipynbError"
      }
     },
     "output_type": "display_data"
    }
   ],
   "source": [
    "display(bronze_stream)"
   ]
  },
  {
   "cell_type": "code",
   "execution_count": 0,
   "metadata": {
    "application/vnd.databricks.v1+cell": {
     "cellMetadata": {
      "byteLimit": 2048000,
      "rowLimit": 10000
     },
     "inputWidgets": {},
     "nuid": "d8fa8134-beb9-4094-8129-5d19070e31c9",
     "showTitle": false,
     "tableResultSettingsMap": {},
     "title": ""
    }
   },
   "outputs": [
    {
     "output_type": "display_data",
     "data": {
      "text/html": [
       "<style scoped>\n",
       "  .ansiout {\n",
       "    display: block;\n",
       "    unicode-bidi: embed;\n",
       "    white-space: pre-wrap;\n",
       "    word-wrap: break-word;\n",
       "    word-break: break-all;\n",
       "    font-family: \"Menlo\", \"Monaco\", \"Consolas\", \"Ubuntu Mono\", \"Source Code Pro\", monospace;\n",
       "    font-size: 13px;\n",
       "    color: #555;\n",
       "    margin-left: 4px;\n",
       "    line-height: 19px;\n",
       "  }\n",
       "</style>\n",
       "<div class=\"ansiout\"></div>"
      ]
     },
     "metadata": {
      "application/vnd.databricks.v1+output": {
       "addedWidgets": {},
       "arguments": {},
       "data": "<div class=\"ansiout\"></div>",
       "datasetInfos": [],
       "metadata": {},
       "removedWidgets": [],
       "type": "html"
      }
     },
     "output_type": "display_data"
    }
   ],
   "source": [
    "silver_stream = (\n",
    "    bronze_stream\n",
    "      .withColumn(\"json_str\", F.col(\"payload\").cast(\"string\"))\n",
    "      .withColumn(\"parsed\",   F.from_json(\"json_str\", schema))\n",
    "      .where(F.col(\"parsed\").isNotNull())\n",
    "      .select(\"parsed.*\")                         # keep only parsed columns\n",
    "      .withWatermark(\"Time\", \"10 minutes\")  # late data guard\n",
    "      .dropDuplicates([\"Id\"])              # idempotency\n",
    ")\n"
   ]
  },
  {
   "cell_type": "code",
   "execution_count": 0,
   "metadata": {
    "application/vnd.databricks.v1+cell": {
     "cellMetadata": {
      "byteLimit": 2048000,
      "rowLimit": 10000
     },
     "inputWidgets": {},
     "nuid": "182fe9e4-aa5f-4605-9091-13520315d2c3",
     "showTitle": false,
     "tableResultSettingsMap": {},
     "title": ""
    }
   },
   "outputs": [
    {
     "output_type": "display_data",
     "data": {
      "text/html": [
       "<style scoped>\n",
       "  .ansiout {\n",
       "    display: block;\n",
       "    unicode-bidi: embed;\n",
       "    white-space: pre-wrap;\n",
       "    word-wrap: break-word;\n",
       "    word-break: break-all;\n",
       "    font-family: \"Menlo\", \"Monaco\", \"Consolas\", \"Ubuntu Mono\", \"Source Code Pro\", monospace;\n",
       "    font-size: 13px;\n",
       "    color: #555;\n",
       "    margin-left: 4px;\n",
       "    line-height: 19px;\n",
       "  }\n",
       "</style>\n",
       "<div class=\"ansiout\"></div>"
      ]
     },
     "metadata": {
      "application/vnd.databricks.v1+output": {
       "addedWidgets": {},
       "arguments": {},
       "data": "<div class=\"ansiout\"></div>",
       "datasetInfos": [],
       "metadata": {},
       "removedWidgets": [],
       "type": "html"
      }
     },
     "output_type": "display_data"
    }
   ],
   "source": [
    "q_silver = (\n",
    "    silver_stream.writeStream\n",
    "      .format(\"delta\")\n",
    "      .option(\"checkpointLocation\", CHK_SILVER)\n",
    "      .outputMode(\"append\")\n",
    "      .start(SILVER_PATH)\n",
    ")"
   ]
  },
  {
   "cell_type": "code",
   "execution_count": 0,
   "metadata": {
    "application/vnd.databricks.v1+cell": {
     "cellMetadata": {
      "byteLimit": 2048000,
      "rowLimit": 10000
     },
     "inputWidgets": {},
     "nuid": "c1de52a7-2306-45ed-9f28-b5f9895af7f7",
     "showTitle": false,
     "tableResultSettingsMap": {},
     "title": ""
    }
   },
   "outputs": [
    {
     "output_type": "display_data",
     "data": {
      "text/html": [
       "<style scoped>\n",
       "  .ansiout {\n",
       "    display: block;\n",
       "    unicode-bidi: embed;\n",
       "    white-space: pre-wrap;\n",
       "    word-wrap: break-word;\n",
       "    word-break: break-all;\n",
       "    font-family: \"Menlo\", \"Monaco\", \"Consolas\", \"Ubuntu Mono\", \"Source Code Pro\", monospace;\n",
       "    font-size: 13px;\n",
       "    color: #555;\n",
       "    margin-left: 4px;\n",
       "    line-height: 19px;\n",
       "  }\n",
       "</style>\n",
       "<div class=\"ansiout\">Out[25]: {&#39;id&#39;: &#39;11d20083-c677-4580-b94f-234f978eea00&#39;,\n",
       " &#39;runId&#39;: &#39;11d7001a-3e42-4206-8a0f-62dceae88418&#39;,\n",
       " &#39;name&#39;: None,\n",
       " &#39;timestamp&#39;: &#39;2025-08-10T14:35:25.000Z&#39;,\n",
       " &#39;batchId&#39;: 2,\n",
       " &#39;numInputRows&#39;: 0,\n",
       " &#39;inputRowsPerSecond&#39;: 0.0,\n",
       " &#39;processedRowsPerSecond&#39;: 0.0,\n",
       " &#39;durationMs&#39;: {&#39;latestOffset&#39;: 9, &#39;triggerExecution&#39;: 9},\n",
       " &#39;eventTime&#39;: {&#39;watermark&#39;: &#39;2012-10-25T23:50:00.000Z&#39;},\n",
       " &#39;stateOperators&#39;: [],\n",
       " &#39;sources&#39;: [{&#39;description&#39;: &#39;DeltaSource[abfss://retail-input-data@streaminputsa01.dfs.core.windows.net/delta/bronze_product_reviews]&#39;,\n",
       "   &#39;startOffset&#39;: {&#39;sourceVersion&#39;: 1,\n",
       "    &#39;reservoirId&#39;: &#39;ec8403ab-7eb7-443d-95cd-cf3e67a677d3&#39;,\n",
       "    &#39;reservoirVersion&#39;: 21,\n",
       "    &#39;index&#39;: 42,\n",
       "    &#39;isStartingVersion&#39;: True},\n",
       "   &#39;endOffset&#39;: {&#39;sourceVersion&#39;: 1,\n",
       "    &#39;reservoirId&#39;: &#39;ec8403ab-7eb7-443d-95cd-cf3e67a677d3&#39;,\n",
       "    &#39;reservoirVersion&#39;: 21,\n",
       "    &#39;index&#39;: 42,\n",
       "    &#39;isStartingVersion&#39;: True},\n",
       "   &#39;latestOffset&#39;: None,\n",
       "   &#39;numInputRows&#39;: 0,\n",
       "   &#39;inputRowsPerSecond&#39;: 0.0,\n",
       "   &#39;processedRowsPerSecond&#39;: 0.0,\n",
       "   &#39;metrics&#39;: {&#39;numBytesOutstanding&#39;: &#39;0&#39;, &#39;numFilesOutstanding&#39;: &#39;0&#39;}}],\n",
       " &#39;sink&#39;: {&#39;description&#39;: &#39;DeltaSink[abfss://retail-input-data@streaminputsa01.dfs.core.windows.net/delta/silver_product_reviews]&#39;,\n",
       "  &#39;numOutputRows&#39;: -1}}</div>"
      ]
     },
     "metadata": {
      "application/vnd.databricks.v1+output": {
       "addedWidgets": {},
       "arguments": {},
       "data": "<div class=\"ansiout\">Out[25]: {&#39;id&#39;: &#39;11d20083-c677-4580-b94f-234f978eea00&#39;,\n &#39;runId&#39;: &#39;11d7001a-3e42-4206-8a0f-62dceae88418&#39;,\n &#39;name&#39;: None,\n &#39;timestamp&#39;: &#39;2025-08-10T14:35:25.000Z&#39;,\n &#39;batchId&#39;: 2,\n &#39;numInputRows&#39;: 0,\n &#39;inputRowsPerSecond&#39;: 0.0,\n &#39;processedRowsPerSecond&#39;: 0.0,\n &#39;durationMs&#39;: {&#39;latestOffset&#39;: 9, &#39;triggerExecution&#39;: 9},\n &#39;eventTime&#39;: {&#39;watermark&#39;: &#39;2012-10-25T23:50:00.000Z&#39;},\n &#39;stateOperators&#39;: [],\n &#39;sources&#39;: [{&#39;description&#39;: &#39;DeltaSource[abfss://retail-input-data@streaminputsa01.dfs.core.windows.net/delta/bronze_product_reviews]&#39;,\n   &#39;startOffset&#39;: {&#39;sourceVersion&#39;: 1,\n    &#39;reservoirId&#39;: &#39;ec8403ab-7eb7-443d-95cd-cf3e67a677d3&#39;,\n    &#39;reservoirVersion&#39;: 21,\n    &#39;index&#39;: 42,\n    &#39;isStartingVersion&#39;: True},\n   &#39;endOffset&#39;: {&#39;sourceVersion&#39;: 1,\n    &#39;reservoirId&#39;: &#39;ec8403ab-7eb7-443d-95cd-cf3e67a677d3&#39;,\n    &#39;reservoirVersion&#39;: 21,\n    &#39;index&#39;: 42,\n    &#39;isStartingVersion&#39;: True},\n   &#39;latestOffset&#39;: None,\n   &#39;numInputRows&#39;: 0,\n   &#39;inputRowsPerSecond&#39;: 0.0,\n   &#39;processedRowsPerSecond&#39;: 0.0,\n   &#39;metrics&#39;: {&#39;numBytesOutstanding&#39;: &#39;0&#39;, &#39;numFilesOutstanding&#39;: &#39;0&#39;}}],\n &#39;sink&#39;: {&#39;description&#39;: &#39;DeltaSink[abfss://retail-input-data@streaminputsa01.dfs.core.windows.net/delta/silver_product_reviews]&#39;,\n  &#39;numOutputRows&#39;: -1}}</div>",
       "datasetInfos": [],
       "metadata": {},
       "removedWidgets": [],
       "type": "html"
      }
     },
     "output_type": "display_data"
    }
   ],
   "source": [
    "q_silver.lastProgress"
   ]
  },
  {
   "cell_type": "code",
   "execution_count": 0,
   "metadata": {
    "application/vnd.databricks.v1+cell": {
     "cellMetadata": {
      "byteLimit": 2048000,
      "rowLimit": 10000
     },
     "inputWidgets": {},
     "nuid": "7c8b3ed8-c5db-45d5-93ab-c87ae97416ec",
     "showTitle": false,
     "tableResultSettingsMap": {},
     "title": ""
    }
   },
   "outputs": [
    {
     "output_type": "display_data",
     "data": {
      "text/html": [
       "<style scoped>\n",
       "  .ansiout {\n",
       "    display: block;\n",
       "    unicode-bidi: embed;\n",
       "    white-space: pre-wrap;\n",
       "    word-wrap: break-word;\n",
       "    word-break: break-all;\n",
       "    font-family: \"Menlo\", \"Monaco\", \"Consolas\", \"Ubuntu Mono\", \"Source Code Pro\", monospace;\n",
       "    font-size: 13px;\n",
       "    color: #555;\n",
       "    margin-left: 4px;\n",
       "    line-height: 19px;\n",
       "  }\n",
       "</style>\n",
       "<div class=\"ansiout\"></div>"
      ]
     },
     "metadata": {
      "application/vnd.databricks.v1+output": {
       "addedWidgets": {},
       "arguments": {},
       "data": "<div class=\"ansiout\"></div>",
       "datasetInfos": [],
       "metadata": {},
       "removedWidgets": [],
       "type": "html"
      }
     },
     "output_type": "display_data"
    }
   ],
   "source": [
    "silver_table = spark.read.format(\"delta\").load(SILVER_PATH).orderBy(F.desc(\"Time\"))"
   ]
  },
  {
   "cell_type": "code",
   "execution_count": 0,
   "metadata": {
    "application/vnd.databricks.v1+cell": {
     "cellMetadata": {
      "byteLimit": 2048000,
      "rowLimit": 10000
     },
     "inputWidgets": {},
     "nuid": "16f88f14-d134-4f41-9c0a-6efb97831d97",
     "showTitle": false,
     "tableResultSettingsMap": {},
     "title": ""
    }
   },
   "outputs": [
    {
     "output_type": "display_data",
     "data": {
      "text/html": [
       "<style scoped>\n",
       "  .ansiout {\n",
       "    display: block;\n",
       "    unicode-bidi: embed;\n",
       "    white-space: pre-wrap;\n",
       "    word-wrap: break-word;\n",
       "    word-break: break-all;\n",
       "    font-family: \"Menlo\", \"Monaco\", \"Consolas\", \"Ubuntu Mono\", \"Source Code Pro\", monospace;\n",
       "    font-size: 13px;\n",
       "    color: #555;\n",
       "    margin-left: 4px;\n",
       "    line-height: 19px;\n",
       "  }\n",
       "</style>\n",
       "<div class=\"ansiout\">+--------------------+\n",
       "HelpfulnessNumerator|\n",
       "+--------------------+\n",
       "                   0|\n",
       "+--------------------+\n",
       "\n",
       "</div>"
      ]
     },
     "metadata": {
      "application/vnd.databricks.v1+output": {
       "addedWidgets": {},
       "arguments": {},
       "data": "<div class=\"ansiout\">+--------------------+\n|HelpfulnessNumerator|\n+--------------------+\n|                   0|\n+--------------------+\n\n</div>",
       "datasetInfos": [],
       "metadata": {},
       "removedWidgets": [],
       "type": "html"
      }
     },
     "output_type": "display_data"
    }
   ],
   "source": [
    "silver_table.filter(silver_table.HelpfulnessNumerator>=0).select('HelpfulnessNumerator').distinct().show()"
   ]
  },
  {
   "cell_type": "code",
   "execution_count": 0,
   "metadata": {
    "application/vnd.databricks.v1+cell": {
     "cellMetadata": {
      "byteLimit": 2048000,
      "rowLimit": 10000
     },
     "inputWidgets": {},
     "nuid": "71cb7552-0ae0-45a5-b6a4-eb6940a1aca8",
     "showTitle": false,
     "tableResultSettingsMap": {},
     "title": ""
    }
   },
   "outputs": [
    {
     "output_type": "display_data",
     "data": {
      "text/html": [
       "<style scoped>\n",
       "  .table-result-container {\n",
       "    max-height: 300px;\n",
       "    overflow: auto;\n",
       "  }\n",
       "  table, th, td {\n",
       "    border: 1px solid black;\n",
       "    border-collapse: collapse;\n",
       "  }\n",
       "  th, td {\n",
       "    padding: 5px;\n",
       "  }\n",
       "  th {\n",
       "    text-align: left;\n",
       "  }\n",
       "</style><div class='table-result-container'><table class='table-result'><thead style='background-color: white'><tr><th>enq_ts</th><th>json</th></tr></thead><tbody><tr><td>2025-08-10T13:57:41.010+0000</td><td>{\"Id\":94401,\"ProductId\":\"B000EQYW0E\",\"UserId\":\"AS2OWHLJE8ROD\",\"ProfileName\":\"Trusted Tech\",\"HelpfulnessNumerator\":0,\"HelpfulnessDenominator\":0,\"Score\":2,\"Time\":1252454400,\"Summary\":\"Good, as long as they are still fresh\",\"Text\":\"I bought these chips in May 2009, and they were best eaten by 9\\/12\\/2009.  When I first got them, they were very tasty and exactly what I had expected.  I would have rated them 4 or 5 stars then.<br \\/><br \\/>However starting in early August, there was a definite odd taste that was starting to creep into the chip.  And here in early September they are totally inedible.  My guess is that the oils used have gone rancid in the chip, since they are using natural oils.  Normally this is a very good thing, but the longevity of the product is sacrificed due to it, which is a problem when you are buying chips in 12 bag packages!<br \\/><br \\/>So if you are purchasing these chips please make sure you are able to eat them quickly, they will not be any good about 1 month before the best eaten by date.  I had to throw away about 5 bags....\"}</td></tr><tr><td>2025-08-10T13:57:41.010+0000</td><td>{\"Id\":94410,\"ProductId\":\"B000EQYW0E\",\"UserId\":\"A2DM9OFZL6RR7S\",\"ProfileName\":\"Dr. Dawn\",\"HelpfulnessNumerator\":0,\"HelpfulnessDenominator\":0,\"Score\":5,\"Time\":1231545600,\"Summary\":\"Great snack!\",\"Text\":\"These chips are more expensive in the store, when you can even find them.  I have ordered them from Amazon a few times and have received them in good condition every time.  Amazon has a great return policy if you ever have a problem with the contents on receipt.\"}</td></tr><tr><td>2025-08-10T13:57:41.010+0000</td><td>{\"Id\":94402,\"ProductId\":\"B000EQYW0E\",\"UserId\":\"APP8XWYYV4PAA\",\"ProfileName\":\"Debra Chong \\\"ECommerceMaven\\\"\",\"HelpfulnessNumerator\":0,\"HelpfulnessDenominator\":0,\"Score\":5,\"Time\":1248480000,\"Summary\":\"Great healthier chip snack\",\"Text\":\"Great for a change in tortilla chips. Tasty and not bland like some blue chips. Not too salty. A bit healthier than most similar snacks.\"}</td></tr><tr><td>2025-08-10T13:57:41.010+0000</td><td>{\"Id\":94403,\"ProductId\":\"B000EQYW0E\",\"UserId\":\"A2J4IRVIMRWPSZ\",\"ProfileName\":\"A. Crank\",\"HelpfulnessNumerator\":0,\"HelpfulnessDenominator\":0,\"Score\":4,\"Time\":1243555200,\"Summary\":\"chips were stale, but my money was refunded\",\"Text\":\"I purchased these chips since they are so much cheaper than what they cost on the grocery.  they did not expire for about 2 months, but the first 2 or 3 bags we ate were stale, plus many were broken up.  I wrote amazon and they did give me a prompt refund, so their customer service is excellent.<br \\/>we have since opened some more bags and they do not seem as stale, but I still do not believe they taste as fresh as the ones from grocery.<br \\/>I may try reordering these since they are such a good deal and hopefully can give a better review the next time.\"}</td></tr><tr><td>2025-08-10T13:57:41.010+0000</td><td>{\"Id\":94404,\"ProductId\":\"B000EQYW0E\",\"UserId\":\"AF7DZ97VNSEWN\",\"ProfileName\":\"Michael L. Love \\\"free is a verb\\\"\",\"HelpfulnessNumerator\":0,\"HelpfulnessDenominator\":0,\"Score\":5,\"Time\":1236643200,\"Summary\":\"I agree with Richard, an excellent find\",\"Text\":\"Do without the salt.  These chips are great, and you can taste the excellent unique blue corn.  This company is very savvy, so that these chips are also very healthful for other reasons.  I eat some about every day.  They are really irresistable, so I like the healthful aspect.  Be careful not to eat too many!<br \\/><br \\/>Regards,<br \\/>proclus<br \\/>[...]\"}</td></tr><tr><td>2025-08-10T13:57:41.010+0000</td><td>{\"Id\":94405,\"ProductId\":\"B000EQYW0E\",\"UserId\":\"A1YKVTUDRNJZ7\",\"ProfileName\":\"Lee\",\"HelpfulnessNumerator\":0,\"HelpfulnessDenominator\":0,\"Score\":5,\"Time\":1236124800,\"Summary\":\"Blue Corn Chips Taste Really Good\",\"Text\":\"These corn chips are crispy and taste great. And very few broken chips in the bag (I like my chips whole). I just wish they weren't blue. Why would they go to the trouble of dying them blue?\"}</td></tr><tr><td>2025-08-10T13:57:41.010+0000</td><td>{\"Id\":94406,\"ProductId\":\"B000EQYW0E\",\"UserId\":\"AGHF93XN5A411\",\"ProfileName\":\"Dan Brehmer\",\"HelpfulnessNumerator\":0,\"HelpfulnessDenominator\":0,\"Score\":5,\"Time\":1234137600,\"Summary\":\"I love the sesame in these chips, you will too!\",\"Text\":\"I love sesame in general. It makes foods more satisfying. There are two brands of blue corn sesame chips I know of; this one and one by Kettle. I think I might prefer the Kettle brand a little over this one since they use sprouted corn. Somehow that improves the flavor a little. These are still a 5 star product though. Sadly, I just searched for the Kettle chips and found they have been discontinued, so not only are these a great choice for sesame blue goodness they are your only choice!<br \\/><br \\/>Of course chips like these are pretty high in fat, so it is not a good idea to eat them too often. They are quite addictive as well. For a little addition to a lunchtime meal you will not be disappointed. I hope you like them as much as I do.<br \\/><br \\/>-Dan\"}</td></tr><tr><td>2025-08-10T13:57:41.010+0000</td><td>{\"Id\":94407,\"ProductId\":\"B000EQYW0E\",\"UserId\":\"A3S8FG6DVBZLPU\",\"ProfileName\":\"Chip Champ\",\"HelpfulnessNumerator\":0,\"HelpfulnessDenominator\":0,\"Score\":3,\"Time\":1232928000,\"Summary\":\"NOT a Black Bean chip!\",\"Text\":\"Although labeled \\\"Black Bean Chips,\\\" unlike the (now unavailable) Trader Joe's version these are CORN chips with some black bean thrown in.  That's misleading.  They should be labeled Corn & Black Bean chips.  They don't taste bad, as far as chips go.  But they are definitely nowhere near as good as the old Trader Joe's variety.\"}</td></tr><tr><td>2025-08-10T13:57:41.010+0000</td><td>{\"Id\":94408,\"ProductId\":\"B000EQYW0E\",\"UserId\":\"A28GM4WTGV8ZHE\",\"ProfileName\":\"willmay \\\"willmay\\\"\",\"HelpfulnessNumerator\":0,\"HelpfulnessDenominator\":0,\"Score\":5,\"Time\":1232755200,\"Summary\":\"Good quality with a quaint, natural taste\",\"Text\":\"I've been eating these chips with my lunch every day for over two years now. I love the taste first of all. Unlike two other black bean corn chip products I have tried (and more and more chip makers seem to be making black bean corn chips now), these are what they say they are: corn chips with black beans in them - - no lime or herb or any other kind of \\\"flavor enhancer\\\".<br \\/><br \\/>I like the price of the chips here on Amazon. A 7.5 ounce bag sells for around $3 a bag, sometimes less when on sale.  Here, the case price works out to about $2.25 a bag,  - and delivery is free.\"}</td></tr><tr><td>2025-08-10T13:57:41.010+0000</td><td>{\"Id\":94409,\"ProductId\":\"B000EQYW0E\",\"UserId\":\"A2OAYIM13WIXCH\",\"ProfileName\":\"Mary D. Haper \\\"Gramma to 3 boys\\\"\",\"HelpfulnessNumerator\":0,\"HelpfulnessDenominator\":0,\"Score\":5,\"Time\":1232496000,\"Summary\":\"Multi Grain Chips good!\",\"Text\":\"These chips are very good in taste and with more than the usual grams of fiber, a good choice.  They came very fresh and in good shape--no crushed bags.\"}</td></tr></tbody></table></div>"
      ]
     },
     "metadata": {
      "application/vnd.databricks.v1+output": {
       "addedWidgets": {},
       "aggData": [],
       "aggError": "",
       "aggOverflow": false,
       "aggSchema": [],
       "aggSeriesLimitReached": false,
       "aggType": "",
       "arguments": {},
       "columnCustomDisplayInfos": {},
       "data": [
        [
         "2025-08-10T13:57:41.010+0000",
         "{\"Id\":94401,\"ProductId\":\"B000EQYW0E\",\"UserId\":\"AS2OWHLJE8ROD\",\"ProfileName\":\"Trusted Tech\",\"HelpfulnessNumerator\":0,\"HelpfulnessDenominator\":0,\"Score\":2,\"Time\":1252454400,\"Summary\":\"Good, as long as they are still fresh\",\"Text\":\"I bought these chips in May 2009, and they were best eaten by 9\\/12\\/2009.  When I first got them, they were very tasty and exactly what I had expected.  I would have rated them 4 or 5 stars then.<br \\/><br \\/>However starting in early August, there was a definite odd taste that was starting to creep into the chip.  And here in early September they are totally inedible.  My guess is that the oils used have gone rancid in the chip, since they are using natural oils.  Normally this is a very good thing, but the longevity of the product is sacrificed due to it, which is a problem when you are buying chips in 12 bag packages!<br \\/><br \\/>So if you are purchasing these chips please make sure you are able to eat them quickly, they will not be any good about 1 month before the best eaten by date.  I had to throw away about 5 bags....\"}"
        ],
        [
         "2025-08-10T13:57:41.010+0000",
         "{\"Id\":94410,\"ProductId\":\"B000EQYW0E\",\"UserId\":\"A2DM9OFZL6RR7S\",\"ProfileName\":\"Dr. Dawn\",\"HelpfulnessNumerator\":0,\"HelpfulnessDenominator\":0,\"Score\":5,\"Time\":1231545600,\"Summary\":\"Great snack!\",\"Text\":\"These chips are more expensive in the store, when you can even find them.  I have ordered them from Amazon a few times and have received them in good condition every time.  Amazon has a great return policy if you ever have a problem with the contents on receipt.\"}"
        ],
        [
         "2025-08-10T13:57:41.010+0000",
         "{\"Id\":94402,\"ProductId\":\"B000EQYW0E\",\"UserId\":\"APP8XWYYV4PAA\",\"ProfileName\":\"Debra Chong \\\"ECommerceMaven\\\"\",\"HelpfulnessNumerator\":0,\"HelpfulnessDenominator\":0,\"Score\":5,\"Time\":1248480000,\"Summary\":\"Great healthier chip snack\",\"Text\":\"Great for a change in tortilla chips. Tasty and not bland like some blue chips. Not too salty. A bit healthier than most similar snacks.\"}"
        ],
        [
         "2025-08-10T13:57:41.010+0000",
         "{\"Id\":94403,\"ProductId\":\"B000EQYW0E\",\"UserId\":\"A2J4IRVIMRWPSZ\",\"ProfileName\":\"A. Crank\",\"HelpfulnessNumerator\":0,\"HelpfulnessDenominator\":0,\"Score\":4,\"Time\":1243555200,\"Summary\":\"chips were stale, but my money was refunded\",\"Text\":\"I purchased these chips since they are so much cheaper than what they cost on the grocery.  they did not expire for about 2 months, but the first 2 or 3 bags we ate were stale, plus many were broken up.  I wrote amazon and they did give me a prompt refund, so their customer service is excellent.<br \\/>we have since opened some more bags and they do not seem as stale, but I still do not believe they taste as fresh as the ones from grocery.<br \\/>I may try reordering these since they are such a good deal and hopefully can give a better review the next time.\"}"
        ],
        [
         "2025-08-10T13:57:41.010+0000",
         "{\"Id\":94404,\"ProductId\":\"B000EQYW0E\",\"UserId\":\"AF7DZ97VNSEWN\",\"ProfileName\":\"Michael L. Love \\\"free is a verb\\\"\",\"HelpfulnessNumerator\":0,\"HelpfulnessDenominator\":0,\"Score\":5,\"Time\":1236643200,\"Summary\":\"I agree with Richard, an excellent find\",\"Text\":\"Do without the salt.  These chips are great, and you can taste the excellent unique blue corn.  This company is very savvy, so that these chips are also very healthful for other reasons.  I eat some about every day.  They are really irresistable, so I like the healthful aspect.  Be careful not to eat too many!<br \\/><br \\/>Regards,<br \\/>proclus<br \\/>[...]\"}"
        ],
        [
         "2025-08-10T13:57:41.010+0000",
         "{\"Id\":94405,\"ProductId\":\"B000EQYW0E\",\"UserId\":\"A1YKVTUDRNJZ7\",\"ProfileName\":\"Lee\",\"HelpfulnessNumerator\":0,\"HelpfulnessDenominator\":0,\"Score\":5,\"Time\":1236124800,\"Summary\":\"Blue Corn Chips Taste Really Good\",\"Text\":\"These corn chips are crispy and taste great. And very few broken chips in the bag (I like my chips whole). I just wish they weren't blue. Why would they go to the trouble of dying them blue?\"}"
        ],
        [
         "2025-08-10T13:57:41.010+0000",
         "{\"Id\":94406,\"ProductId\":\"B000EQYW0E\",\"UserId\":\"AGHF93XN5A411\",\"ProfileName\":\"Dan Brehmer\",\"HelpfulnessNumerator\":0,\"HelpfulnessDenominator\":0,\"Score\":5,\"Time\":1234137600,\"Summary\":\"I love the sesame in these chips, you will too!\",\"Text\":\"I love sesame in general. It makes foods more satisfying. There are two brands of blue corn sesame chips I know of; this one and one by Kettle. I think I might prefer the Kettle brand a little over this one since they use sprouted corn. Somehow that improves the flavor a little. These are still a 5 star product though. Sadly, I just searched for the Kettle chips and found they have been discontinued, so not only are these a great choice for sesame blue goodness they are your only choice!<br \\/><br \\/>Of course chips like these are pretty high in fat, so it is not a good idea to eat them too often. They are quite addictive as well. For a little addition to a lunchtime meal you will not be disappointed. I hope you like them as much as I do.<br \\/><br \\/>-Dan\"}"
        ],
        [
         "2025-08-10T13:57:41.010+0000",
         "{\"Id\":94407,\"ProductId\":\"B000EQYW0E\",\"UserId\":\"A3S8FG6DVBZLPU\",\"ProfileName\":\"Chip Champ\",\"HelpfulnessNumerator\":0,\"HelpfulnessDenominator\":0,\"Score\":3,\"Time\":1232928000,\"Summary\":\"NOT a Black Bean chip!\",\"Text\":\"Although labeled \\\"Black Bean Chips,\\\" unlike the (now unavailable) Trader Joe's version these are CORN chips with some black bean thrown in.  That's misleading.  They should be labeled Corn & Black Bean chips.  They don't taste bad, as far as chips go.  But they are definitely nowhere near as good as the old Trader Joe's variety.\"}"
        ],
        [
         "2025-08-10T13:57:41.010+0000",
         "{\"Id\":94408,\"ProductId\":\"B000EQYW0E\",\"UserId\":\"A28GM4WTGV8ZHE\",\"ProfileName\":\"willmay \\\"willmay\\\"\",\"HelpfulnessNumerator\":0,\"HelpfulnessDenominator\":0,\"Score\":5,\"Time\":1232755200,\"Summary\":\"Good quality with a quaint, natural taste\",\"Text\":\"I've been eating these chips with my lunch every day for over two years now. I love the taste first of all. Unlike two other black bean corn chip products I have tried (and more and more chip makers seem to be making black bean corn chips now), these are what they say they are: corn chips with black beans in them - - no lime or herb or any other kind of \\\"flavor enhancer\\\".<br \\/><br \\/>I like the price of the chips here on Amazon. A 7.5 ounce bag sells for around $3 a bag, sometimes less when on sale.  Here, the case price works out to about $2.25 a bag,  - and delivery is free.\"}"
        ],
        [
         "2025-08-10T13:57:41.010+0000",
         "{\"Id\":94409,\"ProductId\":\"B000EQYW0E\",\"UserId\":\"A2OAYIM13WIXCH\",\"ProfileName\":\"Mary D. Haper \\\"Gramma to 3 boys\\\"\",\"HelpfulnessNumerator\":0,\"HelpfulnessDenominator\":0,\"Score\":5,\"Time\":1232496000,\"Summary\":\"Multi Grain Chips good!\",\"Text\":\"These chips are very good in taste and with more than the usual grams of fiber, a good choice.  They came very fresh and in good shape--no crushed bags.\"}"
        ]
       ],
       "datasetInfos": [],
       "dbfsResultPath": null,
       "isJsonSchema": true,
       "metadata": {},
       "overflow": false,
       "plotOptions": {
        "customPlotOptions": {},
        "displayType": "table",
        "pivotAggregation": null,
        "pivotColumns": null,
        "xColumns": null,
        "yColumns": null
       },
       "removedWidgets": [],
       "schema": [
        {
         "metadata": "{}",
         "name": "enq_ts",
         "type": "\"timestamp\""
        },
        {
         "metadata": "{}",
         "name": "json",
         "type": "\"string\""
        }
       ],
       "type": "table"
      }
     },
     "output_type": "display_data"
    }
   ],
   "source": [
    "from pyspark.sql import functions as F\n",
    "\n",
    "BRONZE_PATH = \"abfss://retail-input-data@streaminputsa01.dfs.core.windows.net/delta/bronze_product_reviews\"\n",
    "\n",
    "raw_sample = (spark.read.format(\"delta\").load(BRONZE_PATH)\n",
    "              .select(F.col(\"enq_ts\"),\n",
    "                      F.col(\"payload\").cast(\"string\").alias(\"json\"))\n",
    "              .orderBy(F.desc(\"enq_ts\"))\n",
    "              .limit(10))\n",
    "\n",
    "display(raw_sample)\n"
   ]
  },
  {
   "cell_type": "code",
   "execution_count": 0,
   "metadata": {
    "application/vnd.databricks.v1+cell": {
     "cellMetadata": {
      "byteLimit": 2048000,
      "rowLimit": 10000
     },
     "inputWidgets": {},
     "nuid": "b3221222-9295-430d-ba9f-ef6802039ce5",
     "showTitle": false,
     "tableResultSettingsMap": {},
     "title": ""
    }
   },
   "outputs": [
    {
     "output_type": "display_data",
     "data": {
      "text/html": [
       "<style scoped>\n",
       "  .table-result-container {\n",
       "    max-height: 300px;\n",
       "    overflow: auto;\n",
       "  }\n",
       "  table, th, td {\n",
       "    border: 1px solid black;\n",
       "    border-collapse: collapse;\n",
       "  }\n",
       "  th, td {\n",
       "    padding: 5px;\n",
       "  }\n",
       "  th {\n",
       "    text-align: left;\n",
       "  }\n",
       "</style><div class='table-result-container'><table class='table-result'><thead style='background-color: white'><tr><th>json</th></tr></thead><tbody><tr><td>{\"Id\":283889,\"ProductId\":\"B001CWSK98\",\"UserId\":\"A7ZRAEBRCC3VH\",\"ProfileName\":\"R. Blease\",\"HelpfulnessNumerator\":0,\"HelpfulnessDenominator\":0,\"Score\":4,\"Time\":1284336000,\"Summary\":\"Pretty good! Better than most GF crackers.\",\"Text\":\"Try these if you can't have gluten. Crackers are one of the things I miss most and these are a nice platform for a good cheddar,  creamed herring, or smoked salmon. I like the fennel overtones. As anyone who has ever searched for a great (or even good) gluten free cracker it's difficult.<br \\/><br \\/>With that said, they often are broken and I hate the little foil pouches they come in - you can't reseal them or fold them over. I am looking forward to trying the vegetable Glutinos. I also wish they could be browned a little more - might give them a little more resistance to the teeth. At any rate, give 'em a try.\"}</td></tr><tr><td>{\"Id\":283891,\"ProductId\":\"B001CWSK98\",\"UserId\":\"A3TKK66EY5Z4SZ\",\"ProfileName\":\"S. Mitchell \\\"karmalaw\\\"\",\"HelpfulnessNumerator\":0,\"HelpfulnessDenominator\":0,\"Score\":5,\"Time\":1267660800,\"Summary\":\"Great Texture and Zingy Flavor.... Yum!\",\"Text\":\"Okay, some people don't like much flavor -- and if you're one of the vanilla middle-of-the-road types who'd never touch a piece of rye bread or add a dash of fennel to a dish, these crackers *may* not be for you.. BUT, that being said, they have a GREAT texture (think Ritz like flaky crunch) with an almost rye bread type of taste (yes -- it's from the fennel -- but the flavor is very close to what you might remember having in a piece of rye bread). The flavor is not overwhelming, but it's there as a lovely addition to a great cracker. I LOVE these crackers.  Try them with some salmon salad on top for a treat(use canned pink salmon in place of tuna to make your salad)... whatever you do, realize you're going to want to gobble them down so make sure you have enough of them!  If these aren't for you -- try the original or cheese version.  Just keep them away from your non-GF friends\\/family -- they're so good they'll eat them up before you have a chance to do so.\"}</td></tr><tr><td>{\"Id\":283888,\"ProductId\":\"B001CWSK98\",\"UserId\":\"A2V71AX1O3FISP\",\"ProfileName\":\"L. Croker \\\"Happy Hiker\\\"\",\"HelpfulnessNumerator\":0,\"HelpfulnessDenominator\":0,\"Score\":5,\"Time\":1285027200,\"Summary\":\"Very tasty\",\"Text\":\"I have served these crackers to family and friends with cheese, dip, etc. Not one of them could tell it was a special cracker! I would definitely recommend these -- very tasty!\"}</td></tr><tr><td>{\"Id\":283887,\"ProductId\":\"B001CWSK98\",\"UserId\":\"A1IGRXIFN9UTOI\",\"ProfileName\":\"glutenfreegal\",\"HelpfulnessNumerator\":0,\"HelpfulnessDenominator\":0,\"Score\":5,\"Time\":1304121600,\"Summary\":\"Best GF Crackers I've Tried\",\"Text\":\"I've been on a GF diet for almost a year now. Before being diagnosed with celiac disease, I loved eating crackers with soup, peanut butter, or other toppings. I was incredibly disappointed knowing I could never enjoy tasty crackers again. Well, after searching the market and trying (and wasting $ on) various GF crackers, I was alarmed. All the GF crackers I tried were terrible. They tasted more like a tortilla chip than a cracker. On a whim, I bought the Glutino crackers in Multigrain. Amazing! Not a ton of flavor, but will satiate most any palate. Great with other items. These are one of my new favorite GF items. I'm excited to try them with soup, or in casseroles. Enjoy!\"}</td></tr><tr><td>{\"Id\":283890,\"ProductId\":\"B001CWSK98\",\"UserId\":\"A2NCQBZ51UCV1S\",\"ProfileName\":\"Molly's & Kate's Momma\",\"HelpfulnessNumerator\":0,\"HelpfulnessDenominator\":0,\"Score\":4,\"Time\":1279670400,\"Summary\":\"Good Cracker - Strong, but not overwhelming fennel flavor\",\"Text\":\"Good solid cracker - I'd say it's like a water cracker with a strong fennel flavor. The fennel flavor was unexpected at first, but I've grown to like these.  They taste great with some plain brie.  I'll definitely buy these again.\"}</td></tr></tbody></table></div>"
      ]
     },
     "metadata": {
      "application/vnd.databricks.v1+output": {
       "addedWidgets": {},
       "aggData": [],
       "aggError": "",
       "aggOverflow": false,
       "aggSchema": [],
       "aggSeriesLimitReached": false,
       "aggType": "",
       "arguments": {},
       "columnCustomDisplayInfos": {},
       "data": [
        [
         "{\"Id\":283889,\"ProductId\":\"B001CWSK98\",\"UserId\":\"A7ZRAEBRCC3VH\",\"ProfileName\":\"R. Blease\",\"HelpfulnessNumerator\":0,\"HelpfulnessDenominator\":0,\"Score\":4,\"Time\":1284336000,\"Summary\":\"Pretty good! Better than most GF crackers.\",\"Text\":\"Try these if you can't have gluten. Crackers are one of the things I miss most and these are a nice platform for a good cheddar,  creamed herring, or smoked salmon. I like the fennel overtones. As anyone who has ever searched for a great (or even good) gluten free cracker it's difficult.<br \\/><br \\/>With that said, they often are broken and I hate the little foil pouches they come in - you can't reseal them or fold them over. I am looking forward to trying the vegetable Glutinos. I also wish they could be browned a little more - might give them a little more resistance to the teeth. At any rate, give 'em a try.\"}"
        ],
        [
         "{\"Id\":283891,\"ProductId\":\"B001CWSK98\",\"UserId\":\"A3TKK66EY5Z4SZ\",\"ProfileName\":\"S. Mitchell \\\"karmalaw\\\"\",\"HelpfulnessNumerator\":0,\"HelpfulnessDenominator\":0,\"Score\":5,\"Time\":1267660800,\"Summary\":\"Great Texture and Zingy Flavor.... Yum!\",\"Text\":\"Okay, some people don't like much flavor -- and if you're one of the vanilla middle-of-the-road types who'd never touch a piece of rye bread or add a dash of fennel to a dish, these crackers *may* not be for you.. BUT, that being said, they have a GREAT texture (think Ritz like flaky crunch) with an almost rye bread type of taste (yes -- it's from the fennel -- but the flavor is very close to what you might remember having in a piece of rye bread). The flavor is not overwhelming, but it's there as a lovely addition to a great cracker. I LOVE these crackers.  Try them with some salmon salad on top for a treat(use canned pink salmon in place of tuna to make your salad)... whatever you do, realize you're going to want to gobble them down so make sure you have enough of them!  If these aren't for you -- try the original or cheese version.  Just keep them away from your non-GF friends\\/family -- they're so good they'll eat them up before you have a chance to do so.\"}"
        ],
        [
         "{\"Id\":283888,\"ProductId\":\"B001CWSK98\",\"UserId\":\"A2V71AX1O3FISP\",\"ProfileName\":\"L. Croker \\\"Happy Hiker\\\"\",\"HelpfulnessNumerator\":0,\"HelpfulnessDenominator\":0,\"Score\":5,\"Time\":1285027200,\"Summary\":\"Very tasty\",\"Text\":\"I have served these crackers to family and friends with cheese, dip, etc. Not one of them could tell it was a special cracker! I would definitely recommend these -- very tasty!\"}"
        ],
        [
         "{\"Id\":283887,\"ProductId\":\"B001CWSK98\",\"UserId\":\"A1IGRXIFN9UTOI\",\"ProfileName\":\"glutenfreegal\",\"HelpfulnessNumerator\":0,\"HelpfulnessDenominator\":0,\"Score\":5,\"Time\":1304121600,\"Summary\":\"Best GF Crackers I've Tried\",\"Text\":\"I've been on a GF diet for almost a year now. Before being diagnosed with celiac disease, I loved eating crackers with soup, peanut butter, or other toppings. I was incredibly disappointed knowing I could never enjoy tasty crackers again. Well, after searching the market and trying (and wasting $ on) various GF crackers, I was alarmed. All the GF crackers I tried were terrible. They tasted more like a tortilla chip than a cracker. On a whim, I bought the Glutino crackers in Multigrain. Amazing! Not a ton of flavor, but will satiate most any palate. Great with other items. These are one of my new favorite GF items. I'm excited to try them with soup, or in casseroles. Enjoy!\"}"
        ],
        [
         "{\"Id\":283890,\"ProductId\":\"B001CWSK98\",\"UserId\":\"A2NCQBZ51UCV1S\",\"ProfileName\":\"Molly's & Kate's Momma\",\"HelpfulnessNumerator\":0,\"HelpfulnessDenominator\":0,\"Score\":4,\"Time\":1279670400,\"Summary\":\"Good Cracker - Strong, but not overwhelming fennel flavor\",\"Text\":\"Good solid cracker - I'd say it's like a water cracker with a strong fennel flavor. The fennel flavor was unexpected at first, but I've grown to like these.  They taste great with some plain brie.  I'll definitely buy these again.\"}"
        ]
       ],
       "datasetInfos": [],
       "dbfsResultPath": null,
       "isJsonSchema": true,
       "metadata": {},
       "overflow": false,
       "plotOptions": {
        "customPlotOptions": {},
        "displayType": "table",
        "pivotAggregation": null,
        "pivotColumns": null,
        "xColumns": null,
        "yColumns": null
       },
       "removedWidgets": [],
       "schema": [
        {
         "metadata": "{}",
         "name": "json",
         "type": "\"string\""
        }
       ],
       "type": "table"
      }
     },
     "output_type": "display_data"
    }
   ],
   "source": [
    "#Checking why numerator and denominator coming as 0 \n",
    "\n",
    "from pyspark.sql import functions as F\n",
    "\n",
    "BRONZE_PATH = \"abfss://retail-input-data@streaminputsa01.dfs.core.windows.net/delta/bronze_product_reviews\"\n",
    "\n",
    "raw = (spark.read.format(\"delta\").load(BRONZE_PATH)\n",
    "       .select(F.col(\"payload\").cast(\"string\").alias(\"json\"))\n",
    "       .orderBy(F.desc(\"enq_ts\"))\n",
    "       .limit(5))\n",
    "display(raw)"
   ]
  },
  {
   "cell_type": "code",
   "execution_count": 0,
   "metadata": {
    "application/vnd.databricks.v1+cell": {
     "cellMetadata": {
      "byteLimit": 2048000,
      "implicitDf": true,
      "rowLimit": 10000
     },
     "inputWidgets": {},
     "nuid": "cc95e1ed-68c1-4995-b86b-49646fcd4a7b",
     "showTitle": false,
     "tableResultSettingsMap": {},
     "title": ""
    }
   },
   "outputs": [
    {
     "output_type": "display_data",
     "data": {
      "text/html": [
       "<style scoped>\n",
       "  .table-result-container {\n",
       "    max-height: 300px;\n",
       "    overflow: auto;\n",
       "  }\n",
       "  table, th, td {\n",
       "    border: 1px solid black;\n",
       "    border-collapse: collapse;\n",
       "  }\n",
       "  th, td {\n",
       "    padding: 5px;\n",
       "  }\n",
       "  th {\n",
       "    text-align: left;\n",
       "  }\n",
       "</style><div class='table-result-container'><table class='table-result'><thead style='background-color: white'><tr></tr></thead><tbody></tbody></table></div>"
      ]
     },
     "metadata": {
      "application/vnd.databricks.v1+output": {
       "addedWidgets": {},
       "aggData": [],
       "aggError": "",
       "aggOverflow": false,
       "aggSchema": [],
       "aggSeriesLimitReached": false,
       "aggType": "",
       "arguments": {},
       "columnCustomDisplayInfos": {},
       "data": [],
       "datasetInfos": [],
       "dbfsResultPath": null,
       "isJsonSchema": true,
       "metadata": {},
       "overflow": false,
       "plotOptions": {
        "customPlotOptions": {},
        "displayType": "table",
        "pivotAggregation": null,
        "pivotColumns": null,
        "xColumns": null,
        "yColumns": null
       },
       "removedWidgets": [],
       "schema": [],
       "type": "table"
      }
     },
     "output_type": "display_data"
    }
   ],
   "source": [
    "%sql\n",
    "\n",
    "CREATE SCHEMA IF NOT EXISTS retail.clean;\n",
    "\n",
    "CREATE TABLE IF NOT EXISTS retail.clean.silver_reviews (\n",
    "  Id INT NOT NULL,\n",
    "  ProductId STRING NOT NULL,\n",
    "  UserId STRING,\n",
    "  ProfileName STRING,\n",
    "  HelpfulnessNumerator STRING,\n",
    "  HelpfulnessDenominator STRING,\n",
    "  Score INT,\n",
    "  Time TIMESTAMP,\n",
    "  Summary STRING,\n",
    "  Text STRING,\n",
    "  enq_ts TIMESTAMP,\n",
    "  rating DOUBLE,\n",
    "  summary_length INT,\n",
    "  word_count INT,\n",
    "  event_time TIMESTAMP,\n",
    "  event_date DATE      -- for partitioning\n",
    ")\n",
    "USING DELTA\n",
    "PARTITIONED BY (event_date)\n",
    "TBLPROPERTIES (\n",
    "  delta.enableChangeDataFeed = true,\n",
    "  delta.columnMapping.mode = 'name',\n",
    "  delta.minReaderVersion = 2,\n",
    "  delta.minWriterVersion = 5\n",
    ");\n",
    "\n",
    "-- Guardrails\n",
    "ALTER TABLE retail.clean.silver_reviews\n",
    "  SET TBLPROPERTIES (\n",
    "    'delta.dataSkippingNumIndexedCols'='3'\n",
    "  );\n",
    "\n"
   ]
  },
  {
   "cell_type": "code",
   "execution_count": 0,
   "metadata": {
    "application/vnd.databricks.v1+cell": {
     "cellMetadata": {
      "byteLimit": 2048000,
      "rowLimit": 10000
     },
     "inputWidgets": {},
     "nuid": "72da3a5b-f6b3-474e-9e23-c6d7fcb25f95",
     "showTitle": false,
     "tableResultSettingsMap": {},
     "title": ""
    }
   },
   "outputs": [
    {
     "output_type": "display_data",
     "data": {
      "text/html": [
       "<style scoped>\n",
       "  .ansiout {\n",
       "    display: block;\n",
       "    unicode-bidi: embed;\n",
       "    white-space: pre-wrap;\n",
       "    word-wrap: break-word;\n",
       "    word-break: break-all;\n",
       "    font-family: \"Menlo\", \"Monaco\", \"Consolas\", \"Ubuntu Mono\", \"Source Code Pro\", monospace;\n",
       "    font-size: 13px;\n",
       "    color: #555;\n",
       "    margin-left: 4px;\n",
       "    line-height: 19px;\n",
       "  }\n",
       "</style>\n",
       "<div class=\"ansiout\"></div>"
      ]
     },
     "metadata": {
      "application/vnd.databricks.v1+output": {
       "addedWidgets": {},
       "arguments": {},
       "data": "<div class=\"ansiout\"></div>",
       "datasetInfos": [],
       "metadata": {},
       "removedWidgets": [],
       "type": "html"
      }
     },
     "output_type": "display_data"
    }
   ],
   "source": [
    "#Streaming table with upserts  -  so that existing record if any change can be also altered \n",
    "\n",
    "from pyspark.sql import functions as F, types as T\n",
    "\n",
    "BRONZE_PATH = \"abfss://retail-input-data@streaminputsa01.dfs.core.windows.net/delta/bronze_product_reviews\"\n",
    "SILVER_PATH = \"abfss://retail-input-data@streaminputsa01.dfs.core.windows.net/delta/silver_product_reviews\"\n",
    "CHK_SILVER  = \"abfss://retail-input-data@streaminputsa01.dfs.core.windows.net/_chk/eh_consumer_simple/silver\"\n",
    "\n",
    "SILVER_TABLE = \"retail.clean.silver_reviews\"\n",
    "\n",
    "schema = T.StructType([\n",
    "    T.StructField(\"Id\",   T.IntegerType()),\n",
    "    T.StructField(\"ProductId\", T.StringType()),\n",
    "    T.StructField(\"UserId\",  T.StringType()),\n",
    "    T.StructField(\"ProfileName\", T.StringType()),\n",
    "    T.StructField(\"HelpfulnessNumerator\", T.StringType()),\n",
    "    T.StructField(\"HelpfulnessDenominator\", T.StringType()),\n",
    "    T.StructField(\"Score\", T.IntegerType()),\n",
    "    T.StructField(\"Time\", T.TimestampType()),\n",
    "    T.StructField(\"Summary\", T.StringType()),\n",
    "    T.StructField(\"Text\", T.StringType())\n",
    "])\n",
    "\n",
    "def clean(col):\n",
    "    return F.trim(F.regexp_replace(F.regexp_replace(col, r\"<br\\s*/?>\", \" \"), r\"<[^>]+>\", \"\"))\n",
    "\n",
    "bronze_stream = spark.readStream.format(\"delta\").load(BRONZE_PATH)\n",
    "\n",
    "silver_rows = (\n",
    "    bronze_stream\n",
    "      .withColumn(\"json_str\", F.col(\"payload\").cast(\"string\"))\n",
    "      .withColumn(\"p\", F.from_json(\"json_str\", schema))\n",
    "      .where(F.col(\"p\").isNotNull())\n",
    "      .select(\n",
    "          F.col(\"p.Id\").alias(\"Id\"),\n",
    "          F.col(\"p.ProductId\").alias(\"ProductId\"),\n",
    "          F.col(\"p.UserId\").alias(\"UserId\"),\n",
    "          F.col(\"p.ProfileName\").alias(\"ProfileName\"),\n",
    "          F.col(\"p.HelpfulnessNumerator\").alias(\"HelpfulnessNumerator\"),\n",
    "          F.col(\"p.HelpfulnessDenominator\").alias(\"HelpfulnessDenominator\"),\n",
    "          F.col(\"p.Score\").alias(\"Score\"),\n",
    "          F.col(\"p.Time\").alias(\"Time\"),\n",
    "          clean(F.col(\"p.Summary\")).alias(\"Summary\"),\n",
    "          clean(F.col(\"p.Text\")).alias(\"Text\"),\n",
    "          F.col(\"enq_ts\").alias(\"enq_ts\")\n",
    "      )\n",
    "      .withColumn(\"rating\",\n",
    "          F.when((F.col(\"Score\") >= 1) & (F.col(\"Score\") <= 5), F.col(\"Score\").cast(\"double\"))\n",
    "           .otherwise(F.lit(None).cast(\"double\"))\n",
    "      )\n",
    "      .withColumn(\"summary_length\", F.length(\"Summary\"))\n",
    "      .withColumn(\"word_count\", F.size(F.split(F.regexp_replace(F.col(\"Text\"), r\"\\s+\", \" \"), \" \")))\n",
    "      .withColumn(\"event_time\", F.coalesce(F.col(\"Time\"), F.col(\"enq_ts\")))\n",
    "      .withColumn(\"event_date\", F.to_date(F.col(\"event_time\")))\n",
    "      .where(F.col(\"Id\").isNotNull() & F.col(\"ProductId\").isNotNull())\n",
    "      .withWatermark(\"event_time\", \"30 minutes\")\n",
    "      .dropDuplicates([\"Id\"])  # micro-batch dedupe\n",
    ")\n",
    "\n",
    "def upsert_to_silver(micro_df, batch_id: int):\n",
    "    micro_df.createOrReplaceTempView(\"updates\")\n",
    "    spark.sql(f\"\"\"\n",
    "      MERGE INTO {SILVER_TABLE} t\n",
    "      USING updates u\n",
    "      ON t.Id = u.Id\n",
    "      WHEN MATCHED THEN UPDATE SET\n",
    "        ProductId = u.ProductId,\n",
    "        UserId = u.UserId,\n",
    "        ProfileName = u.ProfileName,\n",
    "        HelpfulnessNumerator = u.HelpfulnessNumerator,\n",
    "        HelpfulnessDenominator = u.HelpfulnessDenominator,\n",
    "        Score = u.Score,\n",
    "        Time = u.Time,\n",
    "        Summary = u.Summary,\n",
    "        Text = u.Text,\n",
    "        enq_ts = u.enq_ts,\n",
    "        rating = u.rating,\n",
    "        summary_length = u.summary_length,\n",
    "        word_count = u.word_count,\n",
    "        event_time = u.event_time,\n",
    "        event_date = u.event_date\n",
    "      WHEN NOT MATCHED THEN INSERT *\n",
    "    \"\"\")\n",
    "\n",
    "q = (silver_rows.writeStream\n",
    "      .trigger(processingTime=\"30 seconds\")   # tune as needed\n",
    "      .option(\"checkpointLocation\", CHK_SILVER)\n",
    "      .foreachBatch(upsert_to_silver)\n",
    "      .start())\n"
   ]
  },
  {
   "cell_type": "code",
   "execution_count": 0,
   "metadata": {
    "application/vnd.databricks.v1+cell": {
     "cellMetadata": {
      "byteLimit": 2048000,
      "rowLimit": 10000
     },
     "inputWidgets": {},
     "nuid": "58941c05-fe57-46dc-bd37-22a8e56636f9",
     "showTitle": false,
     "tableResultSettingsMap": {},
     "title": ""
    }
   },
   "outputs": [
    {
     "output_type": "display_data",
     "data": {
      "text/html": [
       "<style scoped>\n",
       "  .ansiout {\n",
       "    display: block;\n",
       "    unicode-bidi: embed;\n",
       "    white-space: pre-wrap;\n",
       "    word-wrap: break-word;\n",
       "    word-break: break-all;\n",
       "    font-family: \"Menlo\", \"Monaco\", \"Consolas\", \"Ubuntu Mono\", \"Source Code Pro\", monospace;\n",
       "    font-size: 13px;\n",
       "    color: #555;\n",
       "    margin-left: 4px;\n",
       "    line-height: 19px;\n",
       "  }\n",
       "</style>\n",
       "<div class=\"ansiout\"></div>"
      ]
     },
     "metadata": {
      "application/vnd.databricks.v1+output": {
       "addedWidgets": {},
       "arguments": {},
       "data": "<div class=\"ansiout\"></div>",
       "datasetInfos": [],
       "metadata": {},
       "removedWidgets": [],
       "type": "html"
      }
     },
     "output_type": "display_data"
    }
   ],
   "source": [
    "from pyspark.sql import functions as F, types as T\n",
    "\n",
    "BRONZE_PATH = \"abfss://retail-input-data@streaminputsa01.dfs.core.windows.net/delta/bronze_product_reviews\"\n",
    "CHK_SILVER_APPEND = \"abfss://retail-input-data@streaminputsa01.dfs.core.windows.net/_chk/eh_consumer_simple/silver_append\"\n",
    "SILVER_TABLE = \"retail.clean.silver_reviews\"\n",
    "\n",
    "schema = T.StructType([\n",
    "    T.StructField(\"Id\",   T.IntegerType()),\n",
    "    T.StructField(\"ProductId\", T.StringType()),\n",
    "    T.StructField(\"UserId\",  T.StringType()),\n",
    "    T.StructField(\"ProfileName\", T.StringType()),\n",
    "    T.StructField(\"HelpfulnessNumerator\", T.StringType()),\n",
    "    T.StructField(\"HelpfulnessDenominator\", T.StringType()),\n",
    "    T.StructField(\"Score\", T.IntegerType()),\n",
    "    T.StructField(\"Time\", T.TimestampType()),\n",
    "    T.StructField(\"Summary\", T.StringType()),\n",
    "    T.StructField(\"Text\", T.StringType())\n",
    "])\n",
    "\n",
    "def clean(col):\n",
    "    return F.trim(F.regexp_replace(F.regexp_replace(col, r\"<br\\s*/?>\", \" \"), r\"<[^>]+>\", \"\"))\n",
    "\n",
    "bronze_stream = spark.readStream.format(\"delta\").load(BRONZE_PATH)\n",
    "\n",
    "silver_rows = (\n",
    "    bronze_stream\n",
    "      .withColumn(\"json_str\", F.col(\"payload\").cast(\"string\"))\n",
    "      .withColumn(\"p\", F.from_json(\"json_str\", schema))\n",
    "      .where(F.col(\"p\").isNotNull())\n",
    "      .select(\n",
    "          F.col(\"p.Id\").alias(\"Id\"),\n",
    "          F.col(\"p.ProductId\").alias(\"ProductId\"),\n",
    "          F.col(\"p.UserId\").alias(\"UserId\"),\n",
    "          F.col(\"p.ProfileName\").alias(\"ProfileName\"),\n",
    "          F.col(\"p.HelpfulnessNumerator\").alias(\"HelpfulnessNumerator\"),\n",
    "          F.col(\"p.HelpfulnessDenominator\").alias(\"HelpfulnessDenominator\"),\n",
    "          F.col(\"p.Score\").alias(\"Score\"),\n",
    "          F.col(\"p.Time\").alias(\"Time\"),\n",
    "          clean(F.col(\"p.Summary\")).alias(\"Summary\"),\n",
    "          clean(F.col(\"p.Text\")).alias(\"Text\"),\n",
    "          F.col(\"enq_ts\").alias(\"enq_ts\")\n",
    "      )\n",
    "      .withColumn(\"rating\",\n",
    "          F.when((F.col(\"Score\") >= 1) & (F.col(\"Score\") <= 5), F.col(\"Score\").cast(\"double\"))\n",
    "           .otherwise(F.lit(None).cast(\"double\"))\n",
    "      )\n",
    "      .withColumn(\"summary_length\", F.length(\"Summary\"))\n",
    "      .withColumn(\"word_count\", F.size(F.split(F.regexp_replace(F.col(\"Text\"), r\"\\s+\", \" \"), \" \")))\n",
    "      .withColumn(\"event_time\", F.coalesce(F.col(\"Time\"), F.col(\"enq_ts\")))\n",
    "      .withColumn(\"event_date\", F.to_date(F.col(\"event_time\")))\n",
    "      .where(F.col(\"Id\").isNotNull() & F.col(\"ProductId\").isNotNull())\n",
    "      .withWatermark(\"event_time\", \"30 minutes\")\n",
    "      .withColumn(\"sentiment_label\",\n",
    "      F.when(F.col(\"Score\") >= 4, \"positive\")\n",
    "      .when(F.col(\"Score\") == 3, \"neutral\")\n",
    "      .when(F.col(\"Score\") <= 2, \"negative\")\n",
    "      .otherwise(\"neutral\")\n",
    "       )\n",
    "      .withColumn(\"sentiment_score\",\n",
    "      F.when(F.col(\"Score\") >= 4, F.lit(0.9))\n",
    "      .when(F.col(\"Score\") == 3, F.lit(0.0))\n",
    "      .when(F.col(\"Score\") <= 2, F.lit(-0.9))\n",
    "      .otherwise(F.lit(0.0)))\n",
    "      .dropDuplicates([\"Id\"])  # dedupe within watermark window only\n",
    ")\n",
    "\n",
    "q = (\n",
    "  silver_rows.writeStream\n",
    "    .trigger(processingTime=\"30 seconds\")\n",
    "    .option(\"checkpointLocation\", CHK_SILVER_APPEND)\n",
    "    .toTable(SILVER_TABLE)   # <-- simple append to UC table\n",
    ")\n"
   ]
  },
  {
   "cell_type": "code",
   "execution_count": 0,
   "metadata": {
    "application/vnd.databricks.v1+cell": {
     "cellMetadata": {},
     "inputWidgets": {},
     "nuid": "f423d282-7606-4c52-9206-eb9aee5df9ed",
     "showTitle": false,
     "tableResultSettingsMap": {},
     "title": ""
    }
   },
   "outputs": [],
   "source": []
  }
 ],
 "metadata": {
  "application/vnd.databricks.v1+notebook": {
   "computePreferences": null,
   "dashboards": [],
   "environmentMetadata": {
    "base_environment": "",
    "environment_version": "2"
   },
   "inputWidgetPreferences": null,
   "language": "python",
   "notebookMetadata": {
    "mostRecentlyExecutedCommandWithImplicitDF": {
     "commandId": 8941641606427929,
     "dataframes": [
      "_sqldf"
     ]
    },
    "pythonIndentUnit": 4
   },
   "notebookName": "Processing Bronze to Silver Records",
   "widgets": {}
  },
  "language_info": {
   "name": "python"
  }
 },
 "nbformat": 4,
 "nbformat_minor": 0
}