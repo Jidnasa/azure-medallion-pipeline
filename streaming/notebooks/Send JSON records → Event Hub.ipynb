{
 "cells": [
  {
   "cell_type": "code",
   "execution_count": 0,
   "metadata": {
    "application/vnd.databricks.v1+cell": {
     "cellMetadata": {
      "byteLimit": 2048000,
      "rowLimit": 10000
     },
     "inputWidgets": {},
     "nuid": "82a120ae-dcc6-4c19-b4f8-9c889eaa9095",
     "showTitle": false,
     "tableResultSettingsMap": {},
     "title": ""
    }
   },
   "outputs": [
    {
     "output_type": "display_data",
     "data": {
      "text/html": [
       "<style scoped>\n",
       "  .ansiout {\n",
       "    display: block;\n",
       "    unicode-bidi: embed;\n",
       "    white-space: pre-wrap;\n",
       "    word-wrap: break-word;\n",
       "    word-break: break-all;\n",
       "    font-family: \"Menlo\", \"Monaco\", \"Consolas\", \"Ubuntu Mono\", \"Source Code Pro\", monospace;\n",
       "    font-size: 13px;\n",
       "    color: #555;\n",
       "    margin-left: 4px;\n",
       "    line-height: 19px;\n",
       "  }\n",
       "</style>\n",
       "<div class=\"ansiout\">Python interpreter will be restarted.\n",
       "Collecting azure-eventhub\n",
       "  Downloading azure_eventhub-5.15.0-py3-none-any.whl (327 kB)\n",
       "Collecting azure-core&gt;=1.27.0\n",
       "  Downloading azure_core-1.33.0-py3-none-any.whl (207 kB)\n",
       "Collecting typing-extensions&gt;=4.0.1\n",
       "  Downloading typing_extensions-4.13.2-py3-none-any.whl (45 kB)\n",
       "Requirement already satisfied: requests&gt;=2.21.0 in /databricks/python3/lib/python3.8/site-packages (from azure-core&gt;=1.27.0-&gt;azure-eventhub) (2.25.1)\n",
       "Requirement already satisfied: six&gt;=1.11.0 in /databricks/python3/lib/python3.8/site-packages (from azure-core&gt;=1.27.0-&gt;azure-eventhub) (1.15.0)\n",
       "Requirement already satisfied: certifi&gt;=2017.4.17 in /databricks/python3/lib/python3.8/site-packages (from requests&gt;=2.21.0-&gt;azure-core&gt;=1.27.0-&gt;azure-eventhub) (2020.12.5)\n",
       "Requirement already satisfied: chardet&lt;5,&gt;=3.0.2 in /databricks/python3/lib/python3.8/site-packages (from requests&gt;=2.21.0-&gt;azure-core&gt;=1.27.0-&gt;azure-eventhub) (4.0.0)\n",
       "Requirement already satisfied: urllib3&lt;1.27,&gt;=1.21.1 in /databricks/python3/lib/python3.8/site-packages (from requests&gt;=2.21.0-&gt;azure-core&gt;=1.27.0-&gt;azure-eventhub) (1.25.11)\n",
       "Requirement already satisfied: idna&lt;3,&gt;=2.5 in /databricks/python3/lib/python3.8/site-packages (from requests&gt;=2.21.0-&gt;azure-core&gt;=1.27.0-&gt;azure-eventhub) (2.10)\n",
       "Installing collected packages: typing-extensions, azure-core, azure-eventhub\n",
       "Successfully installed azure-core-1.33.0 azure-eventhub-5.15.0 typing-extensions-4.13.2\n",
       "Python interpreter will be restarted.\n",
       "</div>"
      ]
     },
     "metadata": {
      "application/vnd.databricks.v1+output": {
       "addedWidgets": {},
       "arguments": {},
       "data": "<div class=\"ansiout\">Python interpreter will be restarted.\nCollecting azure-eventhub\n  Downloading azure_eventhub-5.15.0-py3-none-any.whl (327 kB)\nCollecting azure-core&gt;=1.27.0\n  Downloading azure_core-1.33.0-py3-none-any.whl (207 kB)\nCollecting typing-extensions&gt;=4.0.1\n  Downloading typing_extensions-4.13.2-py3-none-any.whl (45 kB)\nRequirement already satisfied: requests&gt;=2.21.0 in /databricks/python3/lib/python3.8/site-packages (from azure-core&gt;=1.27.0-&gt;azure-eventhub) (2.25.1)\nRequirement already satisfied: six&gt;=1.11.0 in /databricks/python3/lib/python3.8/site-packages (from azure-core&gt;=1.27.0-&gt;azure-eventhub) (1.15.0)\nRequirement already satisfied: certifi&gt;=2017.4.17 in /databricks/python3/lib/python3.8/site-packages (from requests&gt;=2.21.0-&gt;azure-core&gt;=1.27.0-&gt;azure-eventhub) (2020.12.5)\nRequirement already satisfied: chardet&lt;5,&gt;=3.0.2 in /databricks/python3/lib/python3.8/site-packages (from requests&gt;=2.21.0-&gt;azure-core&gt;=1.27.0-&gt;azure-eventhub) (4.0.0)\nRequirement already satisfied: urllib3&lt;1.27,&gt;=1.21.1 in /databricks/python3/lib/python3.8/site-packages (from requests&gt;=2.21.0-&gt;azure-core&gt;=1.27.0-&gt;azure-eventhub) (1.25.11)\nRequirement already satisfied: idna&lt;3,&gt;=2.5 in /databricks/python3/lib/python3.8/site-packages (from requests&gt;=2.21.0-&gt;azure-core&gt;=1.27.0-&gt;azure-eventhub) (2.10)\nInstalling collected packages: typing-extensions, azure-core, azure-eventhub\nSuccessfully installed azure-core-1.33.0 azure-eventhub-5.15.0 typing-extensions-4.13.2\nPython interpreter will be restarted.\n</div>",
       "datasetInfos": [],
       "metadata": {},
       "removedWidgets": [],
       "type": "html"
      }
     },
     "output_type": "display_data"
    }
   ],
   "source": [
    "%pip install azure-eventhub\n"
   ]
  },
  {
   "cell_type": "code",
   "execution_count": 0,
   "metadata": {
    "application/vnd.databricks.v1+cell": {
     "cellMetadata": {
      "byteLimit": 2048000,
      "rowLimit": 10000
     },
     "inputWidgets": {},
     "nuid": "32afa808-3799-401e-94bc-cda5319235b0",
     "showTitle": false,
     "tableResultSettingsMap": {},
     "title": ""
    }
   },
   "outputs": [
    {
     "output_type": "display_data",
     "data": {
      "text/html": [
       "<style scoped>\n",
       "  .ansiout {\n",
       "    display: block;\n",
       "    unicode-bidi: embed;\n",
       "    white-space: pre-wrap;\n",
       "    word-wrap: break-word;\n",
       "    word-break: break-all;\n",
       "    font-family: \"Menlo\", \"Monaco\", \"Consolas\", \"Ubuntu Mono\", \"Source Code Pro\", monospace;\n",
       "    font-size: 13px;\n",
       "    color: #555;\n",
       "    margin-left: 4px;\n",
       "    line-height: 19px;\n",
       "  }\n",
       "</style>\n",
       "<div class=\"ansiout\">UsageError: Line magic function `%restart_python` not found.\n",
       "</div>"
      ]
     },
     "metadata": {
      "application/vnd.databricks.v1+output": {
       "addedWidgets": {},
       "arguments": {},
       "data": "<div class=\"ansiout\">UsageError: Line magic function `%restart_python` not found.\n</div>",
       "datasetInfos": [],
       "metadata": {},
       "removedWidgets": [],
       "type": "html"
      }
     },
     "output_type": "display_data"
    }
   ],
   "source": [
    "%restart_python"
   ]
  },
  {
   "cell_type": "code",
   "execution_count": 0,
   "metadata": {
    "application/vnd.databricks.v1+cell": {
     "cellMetadata": {
      "byteLimit": 2048000,
      "rowLimit": 10000
     },
     "inputWidgets": {},
     "nuid": "f0bb67f6-7197-4b39-a777-f7bb01981bd4",
     "showTitle": false,
     "tableResultSettingsMap": {},
     "title": ""
    }
   },
   "outputs": [
    {
     "output_type": "display_data",
     "data": {
      "text/html": [
       "<style scoped>\n",
       "  .ansiout {\n",
       "    display: block;\n",
       "    unicode-bidi: embed;\n",
       "    white-space: pre-wrap;\n",
       "    word-wrap: break-word;\n",
       "    word-break: break-all;\n",
       "    font-family: \"Menlo\", \"Monaco\", \"Consolas\", \"Ubuntu Mono\", \"Source Code Pro\", monospace;\n",
       "    font-size: 13px;\n",
       "    color: #555;\n",
       "    margin-left: 4px;\n",
       "    line-height: 19px;\n",
       "  }\n",
       "</style>\n",
       "<div class=\"ansiout\"></div>"
      ]
     },
     "metadata": {
      "application/vnd.databricks.v1+output": {
       "addedWidgets": {},
       "arguments": {},
       "data": "<div class=\"ansiout\"></div>",
       "datasetInfos": [],
       "metadata": {},
       "removedWidgets": [],
       "type": "html"
      }
     },
     "output_type": "display_data"
    }
   ],
   "source": [
    "from azure.eventhub import EventHubProducerClient, EventData\n",
    "from pyspark.sql.functions import col\n",
    "import json"
   ]
  },
  {
   "cell_type": "code",
   "execution_count": 0,
   "metadata": {
    "application/vnd.databricks.v1+cell": {
     "cellMetadata": {
      "byteLimit": 2048000,
      "rowLimit": 10000
     },
     "inputWidgets": {},
     "nuid": "2c362c7c-9628-4ded-b183-c6d536312699",
     "showTitle": false,
     "tableResultSettingsMap": {},
     "title": ""
    }
   },
   "outputs": [
    {
     "output_type": "display_data",
     "data": {
      "text/html": [
       "<style scoped>\n",
       "  .ansiout {\n",
       "    display: block;\n",
       "    unicode-bidi: embed;\n",
       "    white-space: pre-wrap;\n",
       "    word-wrap: break-word;\n",
       "    word-break: break-all;\n",
       "    font-family: \"Menlo\", \"Monaco\", \"Consolas\", \"Ubuntu Mono\", \"Source Code Pro\", monospace;\n",
       "    font-size: 13px;\n",
       "    color: #555;\n",
       "    margin-left: 4px;\n",
       "    line-height: 19px;\n",
       "  }\n",
       "</style>\n",
       "<div class=\"ansiout\"></div>"
      ]
     },
     "metadata": {
      "application/vnd.databricks.v1+output": {
       "addedWidgets": {},
       "arguments": {},
       "data": "<div class=\"ansiout\"></div>",
       "datasetInfos": [],
       "metadata": {},
       "removedWidgets": [],
       "type": "html"
      }
     },
     "output_type": "display_data"
    }
   ],
   "source": [
    "spark.conf.set(\n",
    "    \"fs.azure.account.key.streaminputsa01.dfs.core.windows.net\",\n",
    "    $value\n",
    ")\n"
   ]
  },
  {
   "cell_type": "code",
   "execution_count": 0,
   "metadata": {
    "application/vnd.databricks.v1+cell": {
     "cellMetadata": {
      "byteLimit": 2048000,
      "rowLimit": 10000
     },
     "inputWidgets": {},
     "nuid": "46832949-8412-4b0c-99dd-09968175d3ea",
     "showTitle": false,
     "tableResultSettingsMap": {},
     "title": ""
    }
   },
   "outputs": [
    {
     "output_type": "display_data",
     "data": {
      "text/html": [
       "<style scoped>\n",
       "  .ansiout {\n",
       "    display: block;\n",
       "    unicode-bidi: embed;\n",
       "    white-space: pre-wrap;\n",
       "    word-wrap: break-word;\n",
       "    word-break: break-all;\n",
       "    font-family: \"Menlo\", \"Monaco\", \"Consolas\", \"Ubuntu Mono\", \"Source Code Pro\", monospace;\n",
       "    font-size: 13px;\n",
       "    color: #555;\n",
       "    margin-left: 4px;\n",
       "    line-height: 19px;\n",
       "  }\n",
       "</style>\n",
       "<div class=\"ansiout\"></div>"
      ]
     },
     "metadata": {
      "application/vnd.databricks.v1+output": {
       "addedWidgets": {},
       "arguments": {},
       "data": "<div class=\"ansiout\"></div>",
       "datasetInfos": [],
       "metadata": {},
       "removedWidgets": [],
       "type": "html"
      }
     },
     "output_type": "display_data"
    }
   ],
   "source": [
    "# ==== 1) Config ====\n",
    "from pyspark.sql import functions as F\n",
    "from azure.eventhub import EventHubProducerClient, EventData\n",
    "\n",
    "SRC_DIR       = \"abfss://retail-input-data@streaminputsa01.dfs.core.windows.net/manual/product-reviews/\"\n",
    "ARCHIVE_ROOT  = \"abfss://retail-input-data@streaminputsa01.dfs.core.windows.net/archive/product-reviews/\"\n",
    "CHK_ROOT      = \"abfss://retail-input-data@streaminputsa01.dfs.core.windows.net/_chk/files_to_eh_phase1_json\"\n",
    "\n",
    "# FIRST run must process all existing files:\n",
    "INCLUDE_EXISTING = \"false\"            # <-- Phase 1 only. We'll flip to \"false\" in Phase 2.\n",
    "\n",
    "# Choose your input style:\n",
    "MULTILINE = False                    # False = NDJSON (one JSON per line); True = pretty/multiline JSON\n",
    "\n",
    "# Event Hubs\n",
    "EH_CONNECTION_STR = $connection_str\n",
    "MAX_EVENT_BYTES   = 950_000          # EH ~1MB/event safety\n",
    "MAX_FILES_PER_TRIGGER = 5\n",
    "TRIGGER_INTERVAL      = \"45 seconds\"\n",
    "\n"
   ]
  },
  {
   "cell_type": "code",
   "execution_count": 0,
   "metadata": {
    "application/vnd.databricks.v1+cell": {
     "cellMetadata": {
      "byteLimit": 2048000,
      "rowLimit": 10000
     },
     "inputWidgets": {},
     "nuid": "867a32cb-5424-4ad9-b614-c1c849674768",
     "showTitle": false,
     "tableResultSettingsMap": {},
     "title": ""
    }
   },
   "outputs": [
    {
     "output_type": "display_data",
     "data": {
      "text/html": [
       "<style scoped>\n",
       "  .ansiout {\n",
       "    display: block;\n",
       "    unicode-bidi: embed;\n",
       "    white-space: pre-wrap;\n",
       "    word-wrap: break-word;\n",
       "    word-break: break-all;\n",
       "    font-family: \"Menlo\", \"Monaco\", \"Consolas\", \"Ubuntu Mono\", \"Source Code Pro\", monospace;\n",
       "    font-size: 13px;\n",
       "    color: #555;\n",
       "    margin-left: 4px;\n",
       "    line-height: 19px;\n",
       "  }\n",
       "</style>\n",
       "<div class=\"ansiout\"></div>"
      ]
     },
     "metadata": {
      "application/vnd.databricks.v1+output": {
       "addedWidgets": {},
       "arguments": {},
       "data": "<div class=\"ansiout\"></div>",
       "datasetInfos": [],
       "metadata": {},
       "removedWidgets": [],
       "type": "html"
      }
     },
     "output_type": "display_data"
    }
   ],
   "source": [
    "# ==== 2) Streaming source for JSON ====\n",
    "if MULTILINE:\n",
    "    # Each file contains one or more pretty-printed JSON objects/arrays.\n",
    "    # Read as JSON (records), then re-serialize each record to a compact JSON string.\n",
    "    stream_df = (\n",
    "        spark.readStream\n",
    "             .format(\"cloudFiles\")\n",
    "             .option(\"cloudFiles.format\", \"json\")\n",
    "             .option(\"multiLine\", \"true\")\n",
    "             .option(\"cloudFiles.includeExistingFiles\", INCLUDE_EXISTING)\n",
    "             .option(\"cloudFiles.schemaLocation\", f\"{CHK_ROOT}/schema\")\n",
    "             .load(SRC_DIR)\n",
    "    )\n",
    "    json_lines = (\n",
    "        stream_df\n",
    "        .select(F.to_json(F.struct(\"*\")).alias(\"json\"),\n",
    "                F.input_file_name().alias(\"file_path\"))\n",
    "        .where(F.col(\"json\").isNotNull() & (F.length(\"json\") > 0))\n",
    "    )\n",
    "else:\n",
    "    # NDJSON: each line is a full JSON object already\n",
    "    json_lines = (\n",
    "        spark.readStream\n",
    "             .format(\"cloudFiles\")\n",
    "             .option(\"cloudFiles.format\", \"text\")\n",
    "             .option(\"cloudFiles.includeExistingFiles\", INCLUDE_EXISTING)\n",
    "             .option(\"cloudFiles.schemaLocation\", f\"{CHK_ROOT}/schema\")\n",
    "             .load(SRC_DIR)\n",
    "             .select(F.col(\"value\").alias(\"json\"),\n",
    "                     F.input_file_name().alias(\"file_path\"))\n",
    "             .where(F.col(\"json\").isNotNull() & (F.length(\"json\") > 0))\n",
    "    )\n"
   ]
  },
  {
   "cell_type": "code",
   "execution_count": 0,
   "metadata": {
    "application/vnd.databricks.v1+cell": {
     "cellMetadata": {
      "byteLimit": 2048000,
      "rowLimit": 10000
     },
     "inputWidgets": {},
     "nuid": "33df9dc2-dcc4-4750-b69a-727904fbf4c5",
     "showTitle": false,
     "tableResultSettingsMap": {},
     "title": ""
    }
   },
   "outputs": [
    {
     "output_type": "display_data",
     "data": {
      "text/html": [
       "<style scoped>\n",
       "  .ansiout {\n",
       "    display: block;\n",
       "    unicode-bidi: embed;\n",
       "    white-space: pre-wrap;\n",
       "    word-wrap: break-word;\n",
       "    word-break: break-all;\n",
       "    font-family: \"Menlo\", \"Monaco\", \"Consolas\", \"Ubuntu Mono\", \"Source Code Pro\", monospace;\n",
       "    font-size: 13px;\n",
       "    color: #555;\n",
       "    margin-left: 4px;\n",
       "    line-height: 19px;\n",
       "  }\n",
       "</style>\n",
       "<div class=\"ansiout\"></div>"
      ]
     },
     "metadata": {
      "application/vnd.databricks.v1+output": {
       "addedWidgets": {},
       "arguments": {},
       "data": "<div class=\"ansiout\"></div>",
       "datasetInfos": [],
       "metadata": {},
       "removedWidgets": [],
       "type": "html"
      }
     },
     "output_type": "display_data"
    }
   ],
   "source": [
    "import time\n",
    "from azure.eventhub import EventHubProducerClient, EventData\n",
    "from azure.eventhub.exceptions import EventDataSendError\n",
    "\n",
    "MAX_EVENT_BYTES = 950_000          # EH ~1MB/event safety\n",
    "BATCH_MAX_EVENTS = 400             # flush every N events even if batch not \"full\"\n",
    "RETRY_MAX_ATTEMPTS = 6             # ~ total wait up to ~ (2+4+8+16+32+32)=94s worst case\n",
    "RETRY_BASE_SECONDS = 2.0\n",
    "\n",
    "def safe_send(producer, batch):\n",
    "    \"\"\"Send with exponential backoff on server-busy.\"\"\"\n",
    "    attempt = 0\n",
    "    while True:\n",
    "        try:\n",
    "            if len(batch) > 0:\n",
    "                producer.send_batch(batch)\n",
    "            return\n",
    "        except EventDataSendError as e:\n",
    "            # Server busy / throttling\n",
    "            attempt += 1\n",
    "            if attempt > RETRY_MAX_ATTEMPTS:\n",
    "                raise\n",
    "            sleep_s = min(RETRY_BASE_SECONDS * (2 ** (attempt-1)), 32.0)\n",
    "            print(f\"[EH] Throttled (attempt {attempt}) — sleeping {sleep_s:.1f}s\")\n",
    "            time.sleep(sleep_s)\n",
    "        except Exception:\n",
    "            # retry other transient errors too\n",
    "            attempt += 1\n",
    "            if attempt > RETRY_MAX_ATTEMPTS:\n",
    "                raise\n",
    "            sleep_s = min(RETRY_BASE_SECONDS * (2 ** (attempt-1)), 32.0)\n",
    "            print(f\"[EH] Transient send error (attempt {attempt}) — sleeping {sleep_s:.1f}s\")\n",
    "            time.sleep(sleep_s)\n",
    "\n",
    "def publish_then_archive(batch_df, epoch_id: int):\n",
    "    # 1) Publish\n",
    "    producer = EventHubProducerClient.from_connection_string(\n",
    "        EH_CONNECTION_STR, eventhub_name=\"product-reviews\"\n",
    "    )\n",
    "\n",
    "    batch = producer.create_batch()\n",
    "    sent, skipped, in_batch = 0, 0, 0\n",
    "\n",
    "    # throttle: bound how many rows we try to push in this micro-batch\n",
    "    rows = batch_df.select(\"json\").toLocalIterator()\n",
    "\n",
    "    for row in rows:\n",
    "        b = row[\"json\"].encode(\"utf-8\")\n",
    "        if len(b) > MAX_EVENT_BYTES:\n",
    "            skipped += 1\n",
    "            continue\n",
    "        try:\n",
    "            batch.add(EventData(b))\n",
    "            in_batch += 1\n",
    "        except ValueError:\n",
    "            # batch would overflow → flush current batch, start a new one\n",
    "            safe_send(producer, batch)\n",
    "            batch = producer.create_batch()\n",
    "            batch.add(EventData(b))\n",
    "            in_batch = 1\n",
    "\n",
    "        # proactive flush to avoid building huge batches that trigger throttling\n",
    "        if in_batch >= BATCH_MAX_EVENTS:\n",
    "            safe_send(producer, batch)\n",
    "            batch = producer.create_batch()\n",
    "            in_batch = 0\n",
    "            # small pacing to reduce server-busy\n",
    "            time.sleep(0.1)\n",
    "\n",
    "        sent += 1\n",
    "\n",
    "    # flush any remainder\n",
    "    safe_send(producer, batch)\n",
    "    producer.close()\n",
    "    print(f\"[epoch {epoch_id}] Sent {sent} events; skipped {skipped} oversized.\")\n",
    "\n",
    "    # 2) Archive files from this micro-batch (best-effort)\n",
    "    files = [r.file_path for r in batch_df.select(\"file_path\").distinct().collect()]\n",
    "    for src in files:\n",
    "        dst = ARCHIVE_ROOT + src.split(\"/\")[-1]\n",
    "        try:\n",
    "            dbutils.fs.mv(src, dst, recurse=False)\n",
    "        except Exception as e:\n",
    "            print(f\"[epoch {epoch_id}] WARN archive {src} -> {dst}: {e}\")\n",
    "\n"
   ]
  },
  {
   "cell_type": "code",
   "execution_count": 0,
   "metadata": {
    "application/vnd.databricks.v1+cell": {
     "cellMetadata": {
      "byteLimit": 2048000,
      "rowLimit": 10000
     },
     "inputWidgets": {},
     "nuid": "4e0f784c-3278-482e-bd1c-473b482291eb",
     "showTitle": false,
     "tableResultSettingsMap": {},
     "title": ""
    }
   },
   "outputs": [
    {
     "output_type": "display_data",
     "data": {
      "text/html": [
       "<style scoped>\n",
       "  .ansiout {\n",
       "    display: block;\n",
       "    unicode-bidi: embed;\n",
       "    white-space: pre-wrap;\n",
       "    word-wrap: break-word;\n",
       "    word-break: break-all;\n",
       "    font-family: \"Menlo\", \"Monaco\", \"Consolas\", \"Ubuntu Mono\", \"Source Code Pro\", monospace;\n",
       "    font-size: 13px;\n",
       "    color: #555;\n",
       "    margin-left: 4px;\n",
       "    line-height: 19px;\n",
       "  }\n",
       "</style>\n",
       "<div class=\"ansiout\"></div>"
      ]
     },
     "metadata": {
      "application/vnd.databricks.v1+output": {
       "addedWidgets": {},
       "arguments": {},
       "data": "<div class=\"ansiout\"></div>",
       "datasetInfos": [],
       "metadata": {},
       "removedWidgets": [],
       "type": "html"
      }
     },
     "output_type": "display_data"
    }
   ],
   "source": [
    "query = (\n",
    "    json_lines.writeStream\n",
    "              .foreachBatch(publish_then_archive)\n",
    "              .option(\"checkpointLocation\", f\"{CHK_ROOT}/cp\")\n",
    "              .option(\"maxFilesPerTrigger\", MAX_FILES_PER_TRIGGER)\n",
    "              .trigger(processingTime=TRIGGER_INTERVAL)\n",
    "              .start()\n",
    ")"
   ]
  },
  {
   "cell_type": "code",
   "execution_count": 0,
   "metadata": {
    "application/vnd.databricks.v1+cell": {
     "cellMetadata": {
      "byteLimit": 2048000,
      "rowLimit": 10000
     },
     "inputWidgets": {},
     "nuid": "cbdcf63f-2cf1-4cba-9f08-8cd6eeabb2b1",
     "showTitle": false,
     "tableResultSettingsMap": {},
     "title": ""
    }
   },
   "outputs": [
    {
     "output_type": "display_data",
     "data": {
      "text/html": [
       "<style scoped>\n",
       "  .ansiout {\n",
       "    display: block;\n",
       "    unicode-bidi: embed;\n",
       "    white-space: pre-wrap;\n",
       "    word-wrap: break-word;\n",
       "    word-break: break-all;\n",
       "    font-family: \"Menlo\", \"Monaco\", \"Consolas\", \"Ubuntu Mono\", \"Source Code Pro\", monospace;\n",
       "    font-size: 13px;\n",
       "    color: #555;\n",
       "    margin-left: 4px;\n",
       "    line-height: 19px;\n",
       "  }\n",
       "</style>\n",
       "<div class=\"ansiout\">Out[33]: {&#39;id&#39;: &#39;69c3f55d-2722-4938-a808-943bd6bb6d91&#39;,\n",
       " &#39;runId&#39;: &#39;ba499c83-e299-4d61-a904-6109e1b3cb8e&#39;,\n",
       " &#39;name&#39;: None,\n",
       " &#39;timestamp&#39;: &#39;2025-08-10T14:38:15.000Z&#39;,\n",
       " &#39;batchId&#39;: 1,\n",
       " &#39;numInputRows&#39;: 0,\n",
       " &#39;inputRowsPerSecond&#39;: 0.0,\n",
       " &#39;processedRowsPerSecond&#39;: 0.0,\n",
       " &#39;durationMs&#39;: {&#39;latestOffset&#39;: 179, &#39;triggerExecution&#39;: 179},\n",
       " &#39;stateOperators&#39;: [],\n",
       " &#39;sources&#39;: [{&#39;description&#39;: &#39;CloudFilesSource[abfss://retail-input-data@streaminputsa01.dfs.core.windows.net/manual/product-reviews/]&#39;,\n",
       "   &#39;startOffset&#39;: {&#39;seqNum&#39;: 3, &#39;sourceVersion&#39;: 1},\n",
       "   &#39;endOffset&#39;: {&#39;seqNum&#39;: 3, &#39;sourceVersion&#39;: 1},\n",
       "   &#39;latestOffset&#39;: None,\n",
       "   &#39;numInputRows&#39;: 0,\n",
       "   &#39;inputRowsPerSecond&#39;: 0.0,\n",
       "   &#39;processedRowsPerSecond&#39;: 0.0,\n",
       "   &#39;metrics&#39;: {&#39;numBytesOutstanding&#39;: &#39;0&#39;, &#39;numFilesOutstanding&#39;: &#39;0&#39;}}],\n",
       " &#39;sink&#39;: {&#39;description&#39;: &#39;ForeachBatchSink&#39;, &#39;numOutputRows&#39;: -1}}</div>"
      ]
     },
     "metadata": {
      "application/vnd.databricks.v1+output": {
       "addedWidgets": {},
       "arguments": {},
       "data": "<div class=\"ansiout\">Out[33]: {&#39;id&#39;: &#39;69c3f55d-2722-4938-a808-943bd6bb6d91&#39;,\n &#39;runId&#39;: &#39;ba499c83-e299-4d61-a904-6109e1b3cb8e&#39;,\n &#39;name&#39;: None,\n &#39;timestamp&#39;: &#39;2025-08-10T14:38:15.000Z&#39;,\n &#39;batchId&#39;: 1,\n &#39;numInputRows&#39;: 0,\n &#39;inputRowsPerSecond&#39;: 0.0,\n &#39;processedRowsPerSecond&#39;: 0.0,\n &#39;durationMs&#39;: {&#39;latestOffset&#39;: 179, &#39;triggerExecution&#39;: 179},\n &#39;stateOperators&#39;: [],\n &#39;sources&#39;: [{&#39;description&#39;: &#39;CloudFilesSource[abfss://retail-input-data@streaminputsa01.dfs.core.windows.net/manual/product-reviews/]&#39;,\n   &#39;startOffset&#39;: {&#39;seqNum&#39;: 3, &#39;sourceVersion&#39;: 1},\n   &#39;endOffset&#39;: {&#39;seqNum&#39;: 3, &#39;sourceVersion&#39;: 1},\n   &#39;latestOffset&#39;: None,\n   &#39;numInputRows&#39;: 0,\n   &#39;inputRowsPerSecond&#39;: 0.0,\n   &#39;processedRowsPerSecond&#39;: 0.0,\n   &#39;metrics&#39;: {&#39;numBytesOutstanding&#39;: &#39;0&#39;, &#39;numFilesOutstanding&#39;: &#39;0&#39;}}],\n &#39;sink&#39;: {&#39;description&#39;: &#39;ForeachBatchSink&#39;, &#39;numOutputRows&#39;: -1}}</div>",
       "datasetInfos": [],
       "metadata": {},
       "removedWidgets": [],
       "type": "html"
      }
     },
     "output_type": "display_data"
    }
   ],
   "source": [
    "query.lastProgress"
   ]
  },
  {
   "cell_type": "code",
   "execution_count": 0,
   "metadata": {
    "application/vnd.databricks.v1+cell": {
     "cellMetadata": {
      "byteLimit": 2048000,
      "rowLimit": 10000
     },
     "inputWidgets": {},
     "nuid": "dd690686-8f77-418f-8593-870a093694e1",
     "showTitle": false,
     "tableResultSettingsMap": {},
     "title": ""
    }
   },
   "outputs": [
    {
     "output_type": "display_data",
     "data": {
      "text/html": [
       "<style scoped>\n",
       "  .table-result-container {\n",
       "    max-height: 300px;\n",
       "    overflow: auto;\n",
       "  }\n",
       "  table, th, td {\n",
       "    border: 1px solid black;\n",
       "    border-collapse: collapse;\n",
       "  }\n",
       "  th, td {\n",
       "    padding: 5px;\n",
       "  }\n",
       "  th {\n",
       "    text-align: left;\n",
       "  }\n",
       "</style><div class='table-result-container'><table class='table-result'><thead style='background-color: white'><tr><th>path</th><th>name</th><th>size</th><th>modificationTime</th></tr></thead><tbody><tr><td>abfss://retail-input-data@streaminputsa01.dfs.core.windows.net/manual/product-reviews/review_part_1.json</td><td>review_part_1.json</td><td>63032189</td><td>1754834138000</td></tr></tbody></table></div>"
      ]
     },
     "metadata": {
      "application/vnd.databricks.v1+output": {
       "addedWidgets": {},
       "aggData": [],
       "aggError": "",
       "aggOverflow": false,
       "aggSchema": [],
       "aggSeriesLimitReached": false,
       "aggType": "",
       "arguments": {},
       "columnCustomDisplayInfos": {},
       "data": [
        [
         "abfss://retail-input-data@streaminputsa01.dfs.core.windows.net/manual/product-reviews/review_part_1.json",
         "review_part_1.json",
         63032189,
         1754834138000
        ]
       ],
       "datasetInfos": [],
       "dbfsResultPath": null,
       "isJsonSchema": true,
       "metadata": {},
       "overflow": false,
       "plotOptions": {
        "customPlotOptions": {},
        "displayType": "table",
        "pivotAggregation": null,
        "pivotColumns": null,
        "xColumns": null,
        "yColumns": null
       },
       "removedWidgets": [],
       "schema": [
        {
         "metadata": "{}",
         "name": "path",
         "type": "\"string\""
        },
        {
         "metadata": "{}",
         "name": "name",
         "type": "\"string\""
        },
        {
         "metadata": "{}",
         "name": "size",
         "type": "\"long\""
        },
        {
         "metadata": "{}",
         "name": "modificationTime",
         "type": "\"long\""
        }
       ],
       "type": "table"
      }
     },
     "output_type": "display_data"
    }
   ],
   "source": [
    "display(dbutils.fs.ls(\"abfss://retail-input-data@streaminputsa01.dfs.core.windows.net/manual/product-reviews/\"))"
   ]
  },
  {
   "cell_type": "code",
   "execution_count": 0,
   "metadata": {
    "application/vnd.databricks.v1+cell": {
     "cellMetadata": {
      "byteLimit": 2048000,
      "rowLimit": 10000
     },
     "inputWidgets": {},
     "nuid": "cbfcbcfe-0687-4891-89ba-d434f4f1f5a1",
     "showTitle": false,
     "tableResultSettingsMap": {},
     "title": ""
    }
   },
   "outputs": [
    {
     "output_type": "display_data",
     "data": {
      "text/html": [
       "<style scoped>\n",
       "  .ansiout {\n",
       "    display: block;\n",
       "    unicode-bidi: embed;\n",
       "    white-space: pre-wrap;\n",
       "    word-wrap: break-word;\n",
       "    word-break: break-all;\n",
       "    font-family: \"Menlo\", \"Monaco\", \"Consolas\", \"Ubuntu Mono\", \"Source Code Pro\", monospace;\n",
       "    font-size: 13px;\n",
       "    color: #555;\n",
       "    margin-left: 4px;\n",
       "    line-height: 19px;\n",
       "  }\n",
       "</style>\n",
       "<div class=\"ansiout\">Out[14]: &lt;bound method StreamingQuery.stop of &lt;pyspark.sql.streaming.StreamingQuery object at 0x7f77b60b7fa0&gt;&gt;</div>"
      ]
     },
     "metadata": {
      "application/vnd.databricks.v1+output": {
       "addedWidgets": {},
       "arguments": {},
       "data": "<div class=\"ansiout\">Out[14]: &lt;bound method StreamingQuery.stop of &lt;pyspark.sql.streaming.StreamingQuery object at 0x7f77b60b7fa0&gt;&gt;</div>",
       "datasetInfos": [],
       "metadata": {},
       "removedWidgets": [],
       "type": "html"
      }
     },
     "output_type": "display_data"
    }
   ],
   "source": [
    "query.stop"
   ]
  },
  {
   "cell_type": "code",
   "execution_count": 0,
   "metadata": {
    "application/vnd.databricks.v1+cell": {
     "cellMetadata": {
      "byteLimit": 2048000,
      "rowLimit": 10000
     },
     "inputWidgets": {},
     "nuid": "872feedc-a22a-4320-95d9-1cfc534ea3a2",
     "showTitle": false,
     "tableResultSettingsMap": {},
     "title": ""
    }
   },
   "outputs": [
    {
     "output_type": "display_data",
     "data": {
      "text/html": [
       "<style scoped>\n",
       "  .ansiout {\n",
       "    display: block;\n",
       "    unicode-bidi: embed;\n",
       "    white-space: pre-wrap;\n",
       "    word-wrap: break-word;\n",
       "    word-break: break-all;\n",
       "    font-family: \"Menlo\", \"Monaco\", \"Consolas\", \"Ubuntu Mono\", \"Source Code Pro\", monospace;\n",
       "    font-size: 13px;\n",
       "    color: #555;\n",
       "    margin-left: 4px;\n",
       "    line-height: 19px;\n",
       "  }\n",
       "</style>\n",
       "<div class=\"ansiout\">Out[98]: (True,\n",
       " {&#39;message&#39;: &#39;Waiting for next trigger&#39;,\n",
       "  &#39;isDataAvailable&#39;: False,\n",
       "  &#39;isTriggerActive&#39;: False})</div>"
      ]
     },
     "metadata": {
      "application/vnd.databricks.v1+output": {
       "addedWidgets": {},
       "arguments": {},
       "data": "<div class=\"ansiout\">Out[98]: (True,\n {&#39;message&#39;: &#39;Waiting for next trigger&#39;,\n  &#39;isDataAvailable&#39;: False,\n  &#39;isTriggerActive&#39;: False})</div>",
       "datasetInfos": [],
       "metadata": {},
       "removedWidgets": [],
       "type": "html"
      }
     },
     "output_type": "display_data"
    }
   ],
   "source": [
    "query.isActive, query.status"
   ]
  },
  {
   "cell_type": "code",
   "execution_count": 0,
   "metadata": {
    "application/vnd.databricks.v1+cell": {
     "cellMetadata": {
      "byteLimit": 2048000,
      "rowLimit": 10000
     },
     "inputWidgets": {},
     "nuid": "6e762527-76d5-46c3-bd4c-d806a559507b",
     "showTitle": false,
     "tableResultSettingsMap": {},
     "title": ""
    }
   },
   "outputs": [
    {
     "output_type": "display_data",
     "data": {
      "text/html": [
       "<style scoped>\n",
       "  .table-result-container {\n",
       "    max-height: 300px;\n",
       "    overflow: auto;\n",
       "  }\n",
       "  table, th, td {\n",
       "    border: 1px solid black;\n",
       "    border-collapse: collapse;\n",
       "  }\n",
       "  th, td {\n",
       "    padding: 5px;\n",
       "  }\n",
       "  th {\n",
       "    text-align: left;\n",
       "  }\n",
       "</style><div class='table-result-container'><table class='table-result'><thead style='background-color: white'><tr><th>path</th><th>name</th><th>size</th><th>modificationTime</th></tr></thead><tbody><tr><td>abfss://retail-input-data@streaminputsa01.dfs.core.windows.net/manual/product-reviews/review_part_1.json</td><td>review_part_1.json</td><td>63032189</td><td>1754754782000</td></tr><tr><td>abfss://retail-input-data@streaminputsa01.dfs.core.windows.net/manual/product-reviews/review_part_2.json</td><td>review_part_2.json</td><td>63664806</td><td>1754810625000</td></tr></tbody></table></div>"
      ]
     },
     "metadata": {
      "application/vnd.databricks.v1+output": {
       "addedWidgets": {},
       "aggData": [],
       "aggError": "",
       "aggOverflow": false,
       "aggSchema": [],
       "aggSeriesLimitReached": false,
       "aggType": "",
       "arguments": {},
       "columnCustomDisplayInfos": {},
       "data": [
        [
         "abfss://retail-input-data@streaminputsa01.dfs.core.windows.net/manual/product-reviews/review_part_1.json",
         "review_part_1.json",
         63032189,
         1754754782000
        ],
        [
         "abfss://retail-input-data@streaminputsa01.dfs.core.windows.net/manual/product-reviews/review_part_2.json",
         "review_part_2.json",
         63664806,
         1754810625000
        ]
       ],
       "datasetInfos": [],
       "dbfsResultPath": null,
       "isJsonSchema": true,
       "metadata": {},
       "overflow": false,
       "plotOptions": {
        "customPlotOptions": {},
        "displayType": "table",
        "pivotAggregation": null,
        "pivotColumns": null,
        "xColumns": null,
        "yColumns": null
       },
       "removedWidgets": [],
       "schema": [
        {
         "metadata": "{}",
         "name": "path",
         "type": "\"string\""
        },
        {
         "metadata": "{}",
         "name": "name",
         "type": "\"string\""
        },
        {
         "metadata": "{}",
         "name": "size",
         "type": "\"long\""
        },
        {
         "metadata": "{}",
         "name": "modificationTime",
         "type": "\"long\""
        }
       ],
       "type": "table"
      }
     },
     "output_type": "display_data"
    }
   ],
   "source": [
    "src = \"abfss://retail-input-data@streaminputsa01.dfs.core.windows.net/manual/product-reviews/\"\n",
    "display(dbutils.fs.ls(src))"
   ]
  },
  {
   "cell_type": "code",
   "execution_count": 0,
   "metadata": {
    "application/vnd.databricks.v1+cell": {
     "cellMetadata": {
      "byteLimit": 2048000,
      "rowLimit": 10000
     },
     "inputWidgets": {},
     "nuid": "59a430a4-8a8f-47ae-9941-4c4967ca2ba3",
     "showTitle": false,
     "tableResultSettingsMap": {},
     "title": ""
    }
   },
   "outputs": [
    {
     "output_type": "display_data",
     "data": {
      "text/html": [
       "<style scoped>\n",
       "  .ansiout {\n",
       "    display: block;\n",
       "    unicode-bidi: embed;\n",
       "    white-space: pre-wrap;\n",
       "    word-wrap: break-word;\n",
       "    word-break: break-all;\n",
       "    font-family: \"Menlo\", \"Monaco\", \"Consolas\", \"Ubuntu Mono\", \"Source Code Pro\", monospace;\n",
       "    font-size: 13px;\n",
       "    color: #555;\n",
       "    margin-left: 4px;\n",
       "    line-height: 19px;\n",
       "  }\n",
       "</style>\n",
       "<div class=\"ansiout\"></div>"
      ]
     },
     "metadata": {
      "application/vnd.databricks.v1+output": {
       "addedWidgets": {},
       "arguments": {},
       "data": "<div class=\"ansiout\"></div>",
       "datasetInfos": [],
       "metadata": {},
       "removedWidgets": [],
       "type": "html"
      }
     },
     "output_type": "display_data"
    }
   ],
   "source": [
    "import urllib\n",
    "from pyspark.sql.functions import col, desc\n",
    "\n",
    "# CHANGE if you store secrets in Key Vault\n",
    "EH_NAMESPACE = \"retail-eh-ns\"\n",
    "EH_NAME      = \"product-reviews\"\n",
    "POLICY       = \"read-policy\"\n",
    "EH_KEY       = $eh_key   # or paste once for testing\n",
    "\n",
    "eh_conn = f\"Endpoint=sb://{EH_NAMESPACE}.servicebus.windows.net/;SharedAccessKeyName={POLICY};SharedAccessKey={EH_KEY};EntityPath={EH_NAME}\"\n",
    "encrypted = sc._jvm.org.apache.spark.eventhubs.EventHubsUtils.encrypt(eh_conn)\n",
    "eh_conf = {\n",
    "  \"eventhubs.connectionString\": encrypted,\n",
    "  \"consumerGroup\": \"$Default\",\n",
    "  # start at latest so we only read new messages your producer sends\n",
    "  \"startingPosition\": \"\"\"{\"offset\":\"-1\",\"seqNo\":-1,\"enqueuedTime\":null,\"isInclusive\":false}\"\"\",\n",
    "  \"maxEventsPerTrigger\": \"2000\"\n",
    "}\n",
    "\n",
    "CHECKPOINT_BASE = \"abfss://retail-input-data@streaminputsa01.dfs.core.windows.net/_chk/eh_consumer_simple\"\n",
    "BRONZE_PATH     = \"abfss://retail-input-data@streaminputsa01.dfs.core.windows.net/delta/bronze_product_reviews\"\n"
   ]
  },
  {
   "cell_type": "code",
   "execution_count": 0,
   "metadata": {
    "application/vnd.databricks.v1+cell": {
     "cellMetadata": {
      "byteLimit": 2048000,
      "rowLimit": 10000
     },
     "inputWidgets": {},
     "nuid": "847da366-8a26-4c9f-9f5b-0121ff1ac7cd",
     "showTitle": false,
     "tableResultSettingsMap": {},
     "title": ""
    }
   },
   "outputs": [
    {
     "output_type": "display_data",
     "data": {
      "text/html": [
       "<style scoped>\n",
       "  .ansiout {\n",
       "    display: block;\n",
       "    unicode-bidi: embed;\n",
       "    white-space: pre-wrap;\n",
       "    word-wrap: break-word;\n",
       "    word-break: break-all;\n",
       "    font-family: \"Menlo\", \"Monaco\", \"Consolas\", \"Ubuntu Mono\", \"Source Code Pro\", monospace;\n",
       "    font-size: 13px;\n",
       "    color: #555;\n",
       "    margin-left: 4px;\n",
       "    line-height: 19px;\n",
       "  }\n",
       "</style>\n",
       "<div class=\"ansiout\">Out[3]: &#39;com.microsoft.azure:azure-eventhubs-spark_2.12:2.3.22&#39;</div>"
      ]
     },
     "metadata": {
      "application/vnd.databricks.v1+output": {
       "addedWidgets": {},
       "arguments": {},
       "data": "<div class=\"ansiout\">Out[3]: &#39;com.microsoft.azure:azure-eventhubs-spark_2.12:2.3.22&#39;</div>",
       "datasetInfos": [],
       "metadata": {},
       "removedWidgets": [],
       "type": "html"
      }
     },
     "output_type": "display_data"
    }
   ],
   "source": [
    "spark.conf.get(\"spark.jars.packages\")"
   ]
  },
  {
   "cell_type": "code",
   "execution_count": 0,
   "metadata": {
    "application/vnd.databricks.v1+cell": {
     "cellMetadata": {
      "byteLimit": 2048000,
      "rowLimit": 10000
     },
     "inputWidgets": {},
     "nuid": "beb9e163-926a-46e1-bf8d-f074d4eda7d5",
     "showTitle": false,
     "tableResultSettingsMap": {},
     "title": ""
    }
   },
   "outputs": [
    {
     "output_type": "display_data",
     "data": {
      "text/html": [
       "<style scoped>\n",
       "  .ansiout {\n",
       "    display: block;\n",
       "    unicode-bidi: embed;\n",
       "    white-space: pre-wrap;\n",
       "    word-wrap: break-word;\n",
       "    word-break: break-all;\n",
       "    font-family: \"Menlo\", \"Monaco\", \"Consolas\", \"Ubuntu Mono\", \"Source Code Pro\", monospace;\n",
       "    font-size: 13px;\n",
       "    color: #555;\n",
       "    margin-left: 4px;\n",
       "    line-height: 19px;\n",
       "  }\n",
       "</style>\n",
       "<div class=\"ansiout\"></div>"
      ]
     },
     "metadata": {
      "application/vnd.databricks.v1+output": {
       "addedWidgets": {},
       "arguments": {},
       "data": "<div class=\"ansiout\"></div>",
       "datasetInfos": [],
       "metadata": {},
       "removedWidgets": [],
       "type": "html"
      }
     },
     "output_type": "display_data"
    }
   ],
   "source": [
    "raw = (spark.readStream\n",
    "           .format(\"eventhubs\")  # Ensure the correct format is used with the external package\n",
    "           .options(**eh_conf)\n",
    "           .load()\n",
    "           .select(col(\"body\").alias(\"payload\"), col(\"enqueuedTime\").alias(\"enq_ts\")))\n",
    "\n",
    "\n"
   ]
  },
  {
   "cell_type": "code",
   "execution_count": 0,
   "metadata": {
    "application/vnd.databricks.v1+cell": {
     "cellMetadata": {
      "byteLimit": 2048000,
      "rowLimit": 10000
     },
     "inputWidgets": {},
     "nuid": "06d9b959-bad5-4de1-a08a-4d8c030b2b49",
     "showTitle": false,
     "tableResultSettingsMap": {},
     "title": ""
    }
   },
   "outputs": [
    {
     "output_type": "display_data",
     "data": {
      "text/html": [
       "<style scoped>\n",
       "  .ansiout {\n",
       "    display: block;\n",
       "    unicode-bidi: embed;\n",
       "    white-space: pre-wrap;\n",
       "    word-wrap: break-word;\n",
       "    word-break: break-all;\n",
       "    font-family: \"Menlo\", \"Monaco\", \"Consolas\", \"Ubuntu Mono\", \"Source Code Pro\", monospace;\n",
       "    font-size: 13px;\n",
       "    color: #555;\n",
       "    margin-left: 4px;\n",
       "    line-height: 19px;\n",
       "  }\n",
       "</style>\n",
       "<div class=\"ansiout\"></div>"
      ]
     },
     "metadata": {
      "application/vnd.databricks.v1+output": {
       "addedWidgets": {},
       "arguments": {},
       "data": "<div class=\"ansiout\"></div>",
       "datasetInfos": [],
       "metadata": {},
       "removedWidgets": [],
       "type": "html"
      }
     },
     "output_type": "display_data"
    }
   ],
   "source": [
    "q_bronze = (raw.writeStream\n",
    "               .format(\"delta\")\n",
    "               .option(\"checkpointLocation\", f\"{CHECKPOINT_BASE}/bronze\")\n",
    "               .outputMode(\"append\")\n",
    "               .start(BRONZE_PATH))"
   ]
  },
  {
   "cell_type": "code",
   "execution_count": 0,
   "metadata": {
    "application/vnd.databricks.v1+cell": {
     "cellMetadata": {
      "byteLimit": 2048000,
      "rowLimit": 10000
     },
     "inputWidgets": {},
     "nuid": "d258cc8f-45ee-49a2-89f9-58a493110e0d",
     "showTitle": false,
     "tableResultSettingsMap": {},
     "title": ""
    }
   },
   "outputs": [
    {
     "output_type": "display_data",
     "data": {
      "text/html": [
       "<style scoped>\n",
       "  .ansiout {\n",
       "    display: block;\n",
       "    unicode-bidi: embed;\n",
       "    white-space: pre-wrap;\n",
       "    word-wrap: break-word;\n",
       "    word-break: break-all;\n",
       "    font-family: \"Menlo\", \"Monaco\", \"Consolas\", \"Ubuntu Mono\", \"Source Code Pro\", monospace;\n",
       "    font-size: 13px;\n",
       "    color: #555;\n",
       "    margin-left: 4px;\n",
       "    line-height: 19px;\n",
       "  }\n",
       "</style>\n",
       "<div class=\"ansiout\">Out[47]: {&#39;id&#39;: &#39;30cb4431-5745-4477-b074-a274c8399c4a&#39;,\n",
       " &#39;runId&#39;: &#39;29f5c278-df74-47c0-a7b4-5a2d4783e9ce&#39;,\n",
       " &#39;name&#39;: None,\n",
       " &#39;timestamp&#39;: &#39;2025-08-10T14:41:44.000Z&#39;,\n",
       " &#39;batchId&#39;: 71,\n",
       " &#39;numInputRows&#39;: 0,\n",
       " &#39;inputRowsPerSecond&#39;: 0.0,\n",
       " &#39;processedRowsPerSecond&#39;: 0.0,\n",
       " &#39;durationMs&#39;: {&#39;getOffset&#39;: 4, &#39;triggerExecution&#39;: 4},\n",
       " &#39;stateOperators&#39;: [],\n",
       " &#39;sources&#39;: [{&#39;description&#39;: &#39;org.apache.spark.sql.eventhubs.EventHubsSource@8ee322d&#39;,\n",
       "   &#39;startOffset&#39;: {&#39;product-reviews&#39;: {&#39;1&#39;: 301754, &#39;0&#39;: 269919}},\n",
       "   &#39;endOffset&#39;: {&#39;product-reviews&#39;: {&#39;1&#39;: 301754, &#39;0&#39;: 269919}},\n",
       "   &#39;latestOffset&#39;: {&#39;product-reviews&#39;: {&#39;1&#39;: 301754, &#39;0&#39;: 269919}},\n",
       "   &#39;numInputRows&#39;: 0,\n",
       "   &#39;inputRowsPerSecond&#39;: 0.0,\n",
       "   &#39;processedRowsPerSecond&#39;: 0.0}],\n",
       " &#39;sink&#39;: {&#39;description&#39;: &#39;DeltaSink[abfss://retail-input-data@streaminputsa01.dfs.core.windows.net/delta/bronze_product_reviews]&#39;,\n",
       "  &#39;numOutputRows&#39;: -1}}</div>"
      ]
     },
     "metadata": {
      "application/vnd.databricks.v1+output": {
       "addedWidgets": {},
       "arguments": {},
       "data": "<div class=\"ansiout\">Out[47]: {&#39;id&#39;: &#39;30cb4431-5745-4477-b074-a274c8399c4a&#39;,\n &#39;runId&#39;: &#39;29f5c278-df74-47c0-a7b4-5a2d4783e9ce&#39;,\n &#39;name&#39;: None,\n &#39;timestamp&#39;: &#39;2025-08-10T14:41:44.000Z&#39;,\n &#39;batchId&#39;: 71,\n &#39;numInputRows&#39;: 0,\n &#39;inputRowsPerSecond&#39;: 0.0,\n &#39;processedRowsPerSecond&#39;: 0.0,\n &#39;durationMs&#39;: {&#39;getOffset&#39;: 4, &#39;triggerExecution&#39;: 4},\n &#39;stateOperators&#39;: [],\n &#39;sources&#39;: [{&#39;description&#39;: &#39;org.apache.spark.sql.eventhubs.EventHubsSource@8ee322d&#39;,\n   &#39;startOffset&#39;: {&#39;product-reviews&#39;: {&#39;1&#39;: 301754, &#39;0&#39;: 269919}},\n   &#39;endOffset&#39;: {&#39;product-reviews&#39;: {&#39;1&#39;: 301754, &#39;0&#39;: 269919}},\n   &#39;latestOffset&#39;: {&#39;product-reviews&#39;: {&#39;1&#39;: 301754, &#39;0&#39;: 269919}},\n   &#39;numInputRows&#39;: 0,\n   &#39;inputRowsPerSecond&#39;: 0.0,\n   &#39;processedRowsPerSecond&#39;: 0.0}],\n &#39;sink&#39;: {&#39;description&#39;: &#39;DeltaSink[abfss://retail-input-data@streaminputsa01.dfs.core.windows.net/delta/bronze_product_reviews]&#39;,\n  &#39;numOutputRows&#39;: -1}}</div>",
       "datasetInfos": [],
       "metadata": {},
       "removedWidgets": [],
       "type": "html"
      }
     },
     "output_type": "display_data"
    }
   ],
   "source": [
    "q_bronze.lastProgress"
   ]
  },
  {
   "cell_type": "code",
   "execution_count": 0,
   "metadata": {
    "application/vnd.databricks.v1+cell": {
     "cellMetadata": {
      "byteLimit": 2048000,
      "rowLimit": 10000
     },
     "inputWidgets": {},
     "nuid": "5a572888-5e1e-400b-a1c3-389730f02ac3",
     "showTitle": false,
     "tableResultSettingsMap": {},
     "title": ""
    }
   },
   "outputs": [
    {
     "output_type": "display_data",
     "data": {
      "text/html": [
       "<style scoped>\n",
       "  .ansiout {\n",
       "    display: block;\n",
       "    unicode-bidi: embed;\n",
       "    white-space: pre-wrap;\n",
       "    word-wrap: break-word;\n",
       "    word-break: break-all;\n",
       "    font-family: \"Menlo\", \"Monaco\", \"Consolas\", \"Ubuntu Mono\", \"Source Code Pro\", monospace;\n",
       "    font-size: 13px;\n",
       "    color: #555;\n",
       "    margin-left: 4px;\n",
       "    line-height: 19px;\n",
       "  }\n",
       "</style>\n",
       "<div class=\"ansiout\">+----------------------------------------------------------------------------------------------------------------------------------------------------------------------------------------------------------------------------------------------------------------------------------------------------------------------------------------------------------------------------------------------------------------------------------------------------------------------------------------------------------------------------------------------------------------------------------------------------------------------------------------------------------------------------------------------------------------------------------------------------------------------------------------------------------------------------------------------------------------------------------------------------------------------------------------------------------------------------------------------------------------------------------------------------------------------------------------------------------------------------------------------------------------------------------------------------------------------------------------------------------------------------------------------------------------------------------------------------------------------------------------------------------------------------------------------------------------------------------------------------------------------------------------------------------------------------------------------------------------------------------------------------------------------------------------------------------------------------------------------------------------------------------------------------------------------------------------------------------------------------------------------------------------------------------------------------------------------------------------------------------------------------------------------------------------------------------------------------------------------------------------------------------------------------------------------------------------------------------------------------------------------------------------------------------------------------------------------------------------------------------------------------------------------------------------------------------------------------------------------------------------------------------------------------------------------------------------------------------------------------------------------------------------------------------------------------------------------------------------------------------------------------------------------------------------------------------------------------------------------------------------------------------------------------------------------------------------------------------------------------------------------------------------------------------------------------------------------------------------------------------------------------------------------------------------------------------------------------------------------------------------------------------------------------------------------------------------------------------------------------------------------------------------------------------------------------------------------------------------------------------------------------------------------------------------------------------------------------------------------------------------------------------------------------------------------------------------------------------------------------------------------------------------------------------------+-----------------------+\n",
       "payload                                                                                                                                                                                                                                                                                                                                                                                                                                                                                                                                                                                                                                                                                                                                                                                                                                                                                                                                                                                                                                                                                                                                                                                                                                                                                                                                                                                                                                                                                                                                                                                                                                                                                                                                                                                                                                                                                                                                                                                                                                                                                                                                                                                                                                                                                                                                                                                                                                                                                                                                                                                                                                                                                                                                                                                                                                                                                                                                                                                                                                                                                                                                                                                                                                                                                                                                                                                                                                                                                                                                                                                                                                                                                                                                                                                                         |enq_ts                 |\n",
       "+----------------------------------------------------------------------------------------------------------------------------------------------------------------------------------------------------------------------------------------------------------------------------------------------------------------------------------------------------------------------------------------------------------------------------------------------------------------------------------------------------------------------------------------------------------------------------------------------------------------------------------------------------------------------------------------------------------------------------------------------------------------------------------------------------------------------------------------------------------------------------------------------------------------------------------------------------------------------------------------------------------------------------------------------------------------------------------------------------------------------------------------------------------------------------------------------------------------------------------------------------------------------------------------------------------------------------------------------------------------------------------------------------------------------------------------------------------------------------------------------------------------------------------------------------------------------------------------------------------------------------------------------------------------------------------------------------------------------------------------------------------------------------------------------------------------------------------------------------------------------------------------------------------------------------------------------------------------------------------------------------------------------------------------------------------------------------------------------------------------------------------------------------------------------------------------------------------------------------------------------------------------------------------------------------------------------------------------------------------------------------------------------------------------------------------------------------------------------------------------------------------------------------------------------------------------------------------------------------------------------------------------------------------------------------------------------------------------------------------------------------------------------------------------------------------------------------------------------------------------------------------------------------------------------------------------------------------------------------------------------------------------------------------------------------------------------------------------------------------------------------------------------------------------------------------------------------------------------------------------------------------------------------------------------------------------------------------------------------------------------------------------------------------------------------------------------------------------------------------------------------------------------------------------------------------------------------------------------------------------------------------------------------------------------------------------------------------------------------------------------------------------------------------------------------------------+-----------------------+\n",
       "[7B 22 49 64 22 3A 32 38 33 38 38 39 2C 22 50 72 6F 64 75 63 74 49 64 22 3A 22 42 30 30 31 43 57 53 4B 39 38 22 2C 22 55 73 65 72 49 64 22 3A 22 41 37 5A 52 41 45 42 52 43 43 33 56 48 22 2C 22 50 72 6F 66 69 6C 65 4E 61 6D 65 22 3A 22 52 2E 20 42 6C 65 61 73 65 22 2C 22 48 65 6C 70 66 75 6C 6E 65 73 73 4E 75 6D 65 72 61 74 6F 72 22 3A 30 2C 22 48 65 6C 70 66 75 6C 6E 65 73 73 44 65 6E 6F 6D 69 6E 61 74 6F 72 22 3A 30 2C 22 53 63 6F 72 65 22 3A 34 2C 22 54 69 6D 65 22 3A 31 32 38 34 33 33 36 30 30 30 2C 22 53 75 6D 6D 61 72 79 22 3A 22 50 72 65 74 74 79 20 67 6F 6F 64 21 20 42 65 74 74 65 72 20 74 68 61 6E 20 6D 6F 73 74 20 47 46 20 63 72 61 63 6B 65 72 73 2E 22 2C 22 54 65 78 74 22 3A 22 54 72 79 20 74 68 65 73 65 20 69 66 20 79 6F 75 20 63 61 6E 27 74 20 68 61 76 65 20 67 6C 75 74 65 6E 2E 20 43 72 61 63 6B 65 72 73 20 61 72 65 20 6F 6E 65 20 6F 66 20 74 68 65 20 74 68 69 6E 67 73 20 49 20 6D 69 73 73 20 6D 6F 73 74 20 61 6E 64 20 74 68 65 73 65 20 61 72 65 20 61 20 6E 69 63 65 20 70 6C 61 74 66 6F 72 6D 20 66 6F 72 20 61 20 67 6F 6F 64 20 63 68 65 64 64 61 72 2C 20 20 63 72 65 61 6D 65 64 20 68 65 72 72 69 6E 67 2C 20 6F 72 20 73 6D 6F 6B 65 64 20 73 61 6C 6D 6F 6E 2E 20 49 20 6C 69 6B 65 20 74 68 65 20 66 65 6E 6E 65 6C 20 6F 76 65 72 74 6F 6E 65 73 2E 20 41 73 20 61 6E 79 6F 6E 65 20 77 68 6F 20 68 61 73 20 65 76 65 72 20 73 65 61 72 63 68 65 64 20 66 6F 72 20 61 20 67 72 65 61 74 20 28 6F 72 20 65 76 65 6E 20 67 6F 6F 64 29 20 67 6C 75 74 65 6E 20 66 72 65 65 20 63 72 61 63 6B 65 72 20 69 74 27 73 20 64 69 66 66 69 63 75 6C 74 2E 3C 62 72 20 5C 2F 3E 3C 62 72 20 5C 2F 3E 57 69 74 68 20 74 68 61 74 20 73 61 69 64 2C 20 74 68 65 79 20 6F 66 74 65 6E 20 61 72 65 20 62 72 6F 6B 65 6E 20 61 6E 64 20 49 20 68 61 74 65 20 74 68 65 20 6C 69 74 74 6C 65 20 66 6F 69 6C 20 70 6F 75 63 68 65 73 20 74 68 65 79 20 63 6F 6D 65 20 69 6E 20 2D 20 79 6F 75 20 63 61 6E 27 74 20 72 65 73 65 61 6C 20 74 68 65 6D 20 6F 72 20 66 6F 6C 64 20 74 68 65 6D 20 6F 76 65 72 2E 20 49 20 61 6D 20 6C 6F 6F 6B 69 6E 67 20 66 6F 72 77 61 72 64 20 74 6F 20 74 72 79 69 6E 67 20 74 68 65 20 76 65 67 65 74 61 62 6C 65 20 47 6C 75 74 69 6E 6F 73 2E 20 49 20 61 6C 73 6F 20 77 69 73 68 20 74 68 65 79 20 63 6F 75 6C 64 20 62 65 20 62 72 6F 77 6E 65 64 20 61 20 6C 69 74 74 6C 65 20 6D 6F 72 65 20 2D 20 6D 69 67 68 74 20 67 69 76 65 20 74 68 65 6D 20 61 20 6C 69 74 74 6C 65 20 6D 6F 72 65 20 72 65 73 69 73 74 61 6E 63 65 20 74 6F 20 74 68 65 20 74 65 65 74 68 2E 20 41 74 20 61 6E 79 20 72 61 74 65 2C 20 67 69 76 65 20 27 65 6D 20 61 20 74 72 79 2E 22 7D]                                                                                                                                                                                                                                                                                                                                                                                                                                                                                                                                                                                                                                                                                                                                                                                                                                                                                                                                                                                                                                                                                                                                                |2025-08-10 15:15:34.136|\n",
       "[7B 22 49 64 22 3A 32 38 33 38 39 31 2C 22 50 72 6F 64 75 63 74 49 64 22 3A 22 42 30 30 31 43 57 53 4B 39 38 22 2C 22 55 73 65 72 49 64 22 3A 22 41 33 54 4B 4B 36 36 45 59 35 5A 34 53 5A 22 2C 22 50 72 6F 66 69 6C 65 4E 61 6D 65 22 3A 22 53 2E 20 4D 69 74 63 68 65 6C 6C 20 5C 22 6B 61 72 6D 61 6C 61 77 5C 22 22 2C 22 48 65 6C 70 66 75 6C 6E 65 73 73 4E 75 6D 65 72 61 74 6F 72 22 3A 30 2C 22 48 65 6C 70 66 75 6C 6E 65 73 73 44 65 6E 6F 6D 69 6E 61 74 6F 72 22 3A 30 2C 22 53 63 6F 72 65 22 3A 35 2C 22 54 69 6D 65 22 3A 31 32 36 37 36 36 30 38 30 30 2C 22 53 75 6D 6D 61 72 79 22 3A 22 47 72 65 61 74 20 54 65 78 74 75 72 65 20 61 6E 64 20 5A 69 6E 67 79 20 46 6C 61 76 6F 72 2E 2E 2E 2E 20 59 75 6D 21 22 2C 22 54 65 78 74 22 3A 22 4F 6B 61 79 2C 20 73 6F 6D 65 20 70 65 6F 70 6C 65 20 64 6F 6E 27 74 20 6C 69 6B 65 20 6D 75 63 68 20 66 6C 61 76 6F 72 20 2D 2D 20 61 6E 64 20 69 66 20 79 6F 75 27 72 65 20 6F 6E 65 20 6F 66 20 74 68 65 20 76 61 6E 69 6C 6C 61 20 6D 69 64 64 6C 65 2D 6F 66 2D 74 68 65 2D 72 6F 61 64 20 74 79 70 65 73 20 77 68 6F 27 64 20 6E 65 76 65 72 20 74 6F 75 63 68 20 61 20 70 69 65 63 65 20 6F 66 20 72 79 65 20 62 72 65 61 64 20 6F 72 20 61 64 64 20 61 20 64 61 73 68 20 6F 66 20 66 65 6E 6E 65 6C 20 74 6F 20 61 20 64 69 73 68 2C 20 74 68 65 73 65 20 63 72 61 63 6B 65 72 73 20 2A 6D 61 79 2A 20 6E 6F 74 20 62 65 20 66 6F 72 20 79 6F 75 2E 2E 20 42 55 54 2C 20 74 68 61 74 20 62 65 69 6E 67 20 73 61 69 64 2C 20 74 68 65 79 20 68 61 76 65 20 61 20 47 52 45 41 54 20 74 65 78 74 75 72 65 20 28 74 68 69 6E 6B 20 52 69 74 7A 20 6C 69 6B 65 20 66 6C 61 6B 79 20 63 72 75 6E 63 68 29 20 77 69 74 68 20 61 6E 20 61 6C 6D 6F 73 74 20 72 79 65 20 62 72 65 61 64 20 74 79 70 65 20 6F 66 20 74 61 73 74 65 20 28 79 65 73 20 2D 2D 20 69 74 27 73 20 66 72 6F 6D 20 74 68 65 20 66 65 6E 6E 65 6C 20 2D 2D 20 62 75 74 20 74 68 65 20 66 6C 61 76 6F 72 20 69 73 20 76 65 72 79 20 63 6C 6F 73 65 20 74 6F 20 77 68 61 74 20 79 6F 75 20 6D 69 67 68 74 20 72 65 6D 65 6D 62 65 72 20 68 61 76 69 6E 67 20 69 6E 20 61 20 70 69 65 63 65 20 6F 66 20 72 79 65 20 62 72 65 61 64 29 2E 20 54 68 65 20 66 6C 61 76 6F 72 20 69 73 20 6E 6F 74 20 6F 76 65 72 77 68 65 6C 6D 69 6E 67 2C 20 62 75 74 20 69 74 27 73 20 74 68 65 72 65 20 61 73 20 61 20 6C 6F 76 65 6C 79 20 61 64 64 69 74 69 6F 6E 20 74 6F 20 61 20 67 72 65 61 74 20 63 72 61 63 6B 65 72 2E 20 49 20 4C 4F 56 45 20 74 68 65 73 65 20 63 72 61 63 6B 65 72 73 2E 20 20 54 72 79 20 74 68 65 6D 20 77 69 74 68 20 73 6F 6D 65 20 73 61 6C 6D 6F 6E 20 73 61 6C 61 64 20 6F 6E 20 74 6F 70 20 66 6F 72 20 61 20 74 72 65 61 74 28 75 73 65 20 63 61 6E 6E 65 64 20 70 69 6E 6B 20 73 61 6C 6D 6F 6E 20 69 6E 20 70 6C 61 63 65 20 6F 66 20 74 75 6E 61 20 74 6F 20 6D 61 6B 65 20 79 6F 75 72 20 73 61 6C 61 64 29 2E 2E 2E 20 77 68 61 74 65 76 65 72 20 79 6F 75 20 64 6F 2C 20 72 65 61 6C 69 7A 65 20 79 6F 75 27 72 65 20 67 6F 69 6E 67 20 74 6F 20 77 61 6E 74 20 74 6F 20 67 6F 62 62 6C 65 20 74 68 65 6D 20 64 6F 77 6E 20 73 6F 20 6D 61 6B 65 20 73 75 72 65 20 79 6F 75 20 68 61 76 65 20 65 6E 6F 75 67 68 20 6F 66 20 74 68 65 6D 21 20 20 49 66 20 74 68 65 73 65 20 61 72 65 6E 27 74 20 66 6F 72 20 79 6F 75 20 2D 2D 20 74 72 79 20 74 68 65 20 6F 72 69 67 69 6E 61 6C 20 6F 72 20 63 68 65 65 73 65 20 76 65 72 73 69 6F 6E 2E 20 20 4A 75 73 74 20 6B 65 65 70 20 74 68 65 6D 20 61 77 61 79 20 66 72 6F 6D 20 79 6F 75 72 20 6E 6F 6E 2D 47 46 20 66 72 69 65 6E 64 73 5C 2F 66 61 6D 69 6C 79 20 2D 2D 20 74 68 65 79 27 72 65 20 73 6F 20 67 6F 6F 64 20 74 68 65 79 27 6C 6C 20 65 61 74 20 74 68 65 6D 20 75 70 20 62 65 66 6F 72 65 20 79 6F 75 20 68 61 76 65 20 61 20 63 68 61 6E 63 65 20 74 6F 20 64 6F 20 73 6F 2E 22 7D]|2025-08-10 15:15:34.136|\n",
       "[7B 22 49 64 22 3A 32 38 33 38 38 38 2C 22 50 72 6F 64 75 63 74 49 64 22 3A 22 42 30 30 31 43 57 53 4B 39 38 22 2C 22 55 73 65 72 49 64 22 3A 22 41 32 56 37 31 41 58 31 4F 33 46 49 53 50 22 2C 22 50 72 6F 66 69 6C 65 4E 61 6D 65 22 3A 22 4C 2E 20 43 72 6F 6B 65 72 20 5C 22 48 61 70 70 79 20 48 69 6B 65 72 5C 22 22 2C 22 48 65 6C 70 66 75 6C 6E 65 73 73 4E 75 6D 65 72 61 74 6F 72 22 3A 30 2C 22 48 65 6C 70 66 75 6C 6E 65 73 73 44 65 6E 6F 6D 69 6E 61 74 6F 72 22 3A 30 2C 22 53 63 6F 72 65 22 3A 35 2C 22 54 69 6D 65 22 3A 31 32 38 35 30 32 37 32 30 30 2C 22 53 75 6D 6D 61 72 79 22 3A 22 56 65 72 79 20 74 61 73 74 79 22 2C 22 54 65 78 74 22 3A 22 49 20 68 61 76 65 20 73 65 72 76 65 64 20 74 68 65 73 65 20 63 72 61 63 6B 65 72 73 20 74 6F 20 66 61 6D 69 6C 79 20 61 6E 64 20 66 72 69 65 6E 64 73 20 77 69 74 68 20 63 68 65 65 73 65 2C 20 64 69 70 2C 20 65 74 63 2E 20 4E 6F 74 20 6F 6E 65 20 6F 66 20 74 68 65 6D 20 63 6F 75 6C 64 20 74 65 6C 6C 20 69 74 20 77 61 73 20 61 20 73 70 65 63 69 61 6C 20 63 72 61 63 6B 65 72 21 20 49 20 77 6F 75 6C 64 20 64 65 66 69 6E 69 74 65 6C 79 20 72 65 63 6F 6D 6D 65 6E 64 20 74 68 65 73 65 20 2D 2D 20 76 65 72 79 20 74 61 73 74 79 21 22 7D]                                                                                                                                                                                                                                                                                                                                                                                                                                                                                                                                                                                                                                                                                                                                                                                                                                                                                                                                                                                                                                                                                                                                                                                                                                                                                                                                                                                                                                                                                                                                                                                                                                                                                                                                                                                                                                                                                                                                                                                                                                                                                                                                                                                                                                                                                                                                                                                                                                                                                                                                                                              |2025-08-10 15:15:34.136|\n",
       "[7B 22 49 64 22 3A 32 38 33 38 38 37 2C 22 50 72 6F 64 75 63 74 49 64 22 3A 22 42 30 30 31 43 57 53 4B 39 38 22 2C 22 55 73 65 72 49 64 22 3A 22 41 31 49 47 52 58 49 46 4E 39 55 54 4F 49 22 2C 22 50 72 6F 66 69 6C 65 4E 61 6D 65 22 3A 22 67 6C 75 74 65 6E 66 72 65 65 67 61 6C 22 2C 22 48 65 6C 70 66 75 6C 6E 65 73 73 4E 75 6D 65 72 61 74 6F 72 22 3A 30 2C 22 48 65 6C 70 66 75 6C 6E 65 73 73 44 65 6E 6F 6D 69 6E 61 74 6F 72 22 3A 30 2C 22 53 63 6F 72 65 22 3A 35 2C 22 54 69 6D 65 22 3A 31 33 30 34 31 32 31 36 30 30 2C 22 53 75 6D 6D 61 72 79 22 3A 22 42 65 73 74 20 47 46 20 43 72 61 63 6B 65 72 73 20 49 27 76 65 20 54 72 69 65 64 22 2C 22 54 65 78 74 22 3A 22 49 27 76 65 20 62 65 65 6E 20 6F 6E 20 61 20 47 46 20 64 69 65 74 20 66 6F 72 20 61 6C 6D 6F 73 74 20 61 20 79 65 61 72 20 6E 6F 77 2E 20 42 65 66 6F 72 65 20 62 65 69 6E 67 20 64 69 61 67 6E 6F 73 65 64 20 77 69 74 68 20 63 65 6C 69 61 63 20 64 69 73 65 61 73 65 2C 20 49 20 6C 6F 76 65 64 20 65 61 74 69 6E 67 20 63 72 61 63 6B 65 72 73 20 77 69 74 68 20 73 6F 75 70 2C 20 70 65 61 6E 75 74 20 62 75 74 74 65 72 2C 20 6F 72 20 6F 74 68 65 72 20 74 6F 70 70 69 6E 67 73 2E 20 49 20 77 61 73 20 69 6E 63 72 65 64 69 62 6C 79 20 64 69 73 61 70 70 6F 69 6E 74 65 64 20 6B 6E 6F 77 69 6E 67 20 49 20 63 6F 75 6C 64 20 6E 65 76 65 72 20 65 6E 6A 6F 79 20 74 61 73 74 79 20 63 72 61 63 6B 65 72 73 20 61 67 61 69 6E 2E 20 57 65 6C 6C 2C 20 61 66 74 65 72 20 73 65 61 72 63 68 69 6E 67 20 74 68 65 20 6D 61 72 6B 65 74 20 61 6E 64 20 74 72 79 69 6E 67 20 28 61 6E 64 20 77 61 73 74 69 6E 67 20 24 20 6F 6E 29 20 76 61 72 69 6F 75 73 20 47 46 20 63 72 61 63 6B 65 72 73 2C 20 49 20 77 61 73 20 61 6C 61 72 6D 65 64 2E 20 41 6C 6C 20 74 68 65 20 47 46 20 63 72 61 63 6B 65 72 73 20 49 20 74 72 69 65 64 20 77 65 72 65 20 74 65 72 72 69 62 6C 65 2E 20 54 68 65 79 20 74 61 73 74 65 64 20 6D 6F 72 65 20 6C 69 6B 65 20 61 20 74 6F 72 74 69 6C 6C 61 20 63 68 69 70 20 74 68 61 6E 20 61 20 63 72 61 63 6B 65 72 2E 20 4F 6E 20 61 20 77 68 69 6D 2C 20 49 20 62 6F 75 67 68 74 20 74 68 65 20 47 6C 75 74 69 6E 6F 20 63 72 61 63 6B 65 72 73 20 69 6E 20 4D 75 6C 74 69 67 72 61 69 6E 2E 20 41 6D 61 7A 69 6E 67 21 20 4E 6F 74 20 61 20 74 6F 6E 20 6F 66 20 66 6C 61 76 6F 72 2C 20 62 75 74 20 77 69 6C 6C 20 73 61 74 69 61 74 65 20 6D 6F 73 74 20 61 6E 79 20 70 61 6C 61 74 65 2E 20 47 72 65 61 74 20 77 69 74 68 20 6F 74 68 65 72 20 69 74 65 6D 73 2E 20 54 68 65 73 65 20 61 72 65 20 6F 6E 65 20 6F 66 20 6D 79 20 6E 65 77 20 66 61 76 6F 72 69 74 65 20 47 46 20 69 74 65 6D 73 2E 20 49 27 6D 20 65 78 63 69 74 65 64 20 74 6F 20 74 72 79 20 74 68 65 6D 20 77 69 74 68 20 73 6F 75 70 2C 20 6F 72 20 69 6E 20 63 61 73 73 65 72 6F 6C 65 73 2E 20 45 6E 6A 6F 79 21 22 7D]                                                                                                                                                                                                                                                                                                                                                                                                                                                                                                                                                                                                                                                                                                                                                                                                                                                                                                                                                                                    |2025-08-10 15:15:34.136|\n",
       "[7B 22 49 64 22 3A 32 38 33 38 39 30 2C 22 50 72 6F 64 75 63 74 49 64 22 3A 22 42 30 30 31 43 57 53 4B 39 38 22 2C 22 55 73 65 72 49 64 22 3A 22 41 32 4E 43 51 42 5A 35 31 55 43 56 31 53 22 2C 22 50 72 6F 66 69 6C 65 4E 61 6D 65 22 3A 22 4D 6F 6C 6C 79 27 73 20 26 20 4B 61 74 65 27 73 20 4D 6F 6D 6D 61 22 2C 22 48 65 6C 70 66 75 6C 6E 65 73 73 4E 75 6D 65 72 61 74 6F 72 22 3A 30 2C 22 48 65 6C 70 66 75 6C 6E 65 73 73 44 65 6E 6F 6D 69 6E 61 74 6F 72 22 3A 30 2C 22 53 63 6F 72 65 22 3A 34 2C 22 54 69 6D 65 22 3A 31 32 37 39 36 37 30 34 30 30 2C 22 53 75 6D 6D 61 72 79 22 3A 22 47 6F 6F 64 20 43 72 61 63 6B 65 72 20 2D 20 53 74 72 6F 6E 67 2C 20 62 75 74 20 6E 6F 74 20 6F 76 65 72 77 68 65 6C 6D 69 6E 67 20 66 65 6E 6E 65 6C 20 66 6C 61 76 6F 72 22 2C 22 54 65 78 74 22 3A 22 47 6F 6F 64 20 73 6F 6C 69 64 20 63 72 61 63 6B 65 72 20 2D 20 49 27 64 20 73 61 79 20 69 74 27 73 20 6C 69 6B 65 20 61 20 77 61 74 65 72 20 63 72 61 63 6B 65 72 20 77 69 74 68 20 61 20 73 74 72 6F 6E 67 20 66 65 6E 6E 65 6C 20 66 6C 61 76 6F 72 2E 20 54 68 65 20 66 65 6E 6E 65 6C 20 66 6C 61 76 6F 72 20 77 61 73 20 75 6E 65 78 70 65 63 74 65 64 20 61 74 20 66 69 72 73 74 2C 20 62 75 74 20 49 27 76 65 20 67 72 6F 77 6E 20 74 6F 20 6C 69 6B 65 20 74 68 65 73 65 2E 20 20 54 68 65 79 20 74 61 73 74 65 20 67 72 65 61 74 20 77 69 74 68 20 73 6F 6D 65 20 70 6C 61 69 6E 20 62 72 69 65 2E 20 20 49 27 6C 6C 20 64 65 66 69 6E 69 74 65 6C 79 20 62 75 79 20 74 68 65 73 65 20 61 67 61 69 6E 2E 22 7D]                                                                                                                                                                                                                                                                                                                                                                                                                                                                                                                                                                                                                                                                                                                                                                                                                                                                                                                                                                                                                                                                                                                                                                                                                                                                                                                                                                                                                                                                                                                                                                                                                                                                                                                                                                                                                                                                                                                                                                                                                                                                                                                                                                                                                                                                        |2025-08-10 15:15:34.136|\n",
       "+----------------------------------------------------------------------------------------------------------------------------------------------------------------------------------------------------------------------------------------------------------------------------------------------------------------------------------------------------------------------------------------------------------------------------------------------------------------------------------------------------------------------------------------------------------------------------------------------------------------------------------------------------------------------------------------------------------------------------------------------------------------------------------------------------------------------------------------------------------------------------------------------------------------------------------------------------------------------------------------------------------------------------------------------------------------------------------------------------------------------------------------------------------------------------------------------------------------------------------------------------------------------------------------------------------------------------------------------------------------------------------------------------------------------------------------------------------------------------------------------------------------------------------------------------------------------------------------------------------------------------------------------------------------------------------------------------------------------------------------------------------------------------------------------------------------------------------------------------------------------------------------------------------------------------------------------------------------------------------------------------------------------------------------------------------------------------------------------------------------------------------------------------------------------------------------------------------------------------------------------------------------------------------------------------------------------------------------------------------------------------------------------------------------------------------------------------------------------------------------------------------------------------------------------------------------------------------------------------------------------------------------------------------------------------------------------------------------------------------------------------------------------------------------------------------------------------------------------------------------------------------------------------------------------------------------------------------------------------------------------------------------------------------------------------------------------------------------------------------------------------------------------------------------------------------------------------------------------------------------------------------------------------------------------------------------------------------------------------------------------------------------------------------------------------------------------------------------------------------------------------------------------------------------------------------------------------------------------------------------------------------------------------------------------------------------------------------------------------------------------------------------------------------------------------------------+-----------------------+\n",
       "\n",
       "</div>"
      ]
     },
     "metadata": {
      "application/vnd.databricks.v1+output": {
       "addedWidgets": {},
       "arguments": {},
       "data": "<div class=\"ansiout\">+----------------------------------------------------------------------------------------------------------------------------------------------------------------------------------------------------------------------------------------------------------------------------------------------------------------------------------------------------------------------------------------------------------------------------------------------------------------------------------------------------------------------------------------------------------------------------------------------------------------------------------------------------------------------------------------------------------------------------------------------------------------------------------------------------------------------------------------------------------------------------------------------------------------------------------------------------------------------------------------------------------------------------------------------------------------------------------------------------------------------------------------------------------------------------------------------------------------------------------------------------------------------------------------------------------------------------------------------------------------------------------------------------------------------------------------------------------------------------------------------------------------------------------------------------------------------------------------------------------------------------------------------------------------------------------------------------------------------------------------------------------------------------------------------------------------------------------------------------------------------------------------------------------------------------------------------------------------------------------------------------------------------------------------------------------------------------------------------------------------------------------------------------------------------------------------------------------------------------------------------------------------------------------------------------------------------------------------------------------------------------------------------------------------------------------------------------------------------------------------------------------------------------------------------------------------------------------------------------------------------------------------------------------------------------------------------------------------------------------------------------------------------------------------------------------------------------------------------------------------------------------------------------------------------------------------------------------------------------------------------------------------------------------------------------------------------------------------------------------------------------------------------------------------------------------------------------------------------------------------------------------------------------------------------------------------------------------------------------------------------------------------------------------------------------------------------------------------------------------------------------------------------------------------------------------------------------------------------------------------------------------------------------------------------------------------------------------------------------------------------------------------------------------------------------------------+-----------------------+\n|payload                                                                                                                                                                                                                                                                                                                                                                                                                                                                                                                                                                                                                                                                                                                                                                                                                                                                                                                                                                                                                                                                                                                                                                                                                                                                                                                                                                                                                                                                                                                                                                                                                                                                                                                                                                                                                                                                                                                                                                                                                                                                                                                                                                                                                                                                                                                                                                                                                                                                                                                                                                                                                                                                                                                                                                                                                                                                                                                                                                                                                                                                                                                                                                                                                                                                                                                                                                                                                                                                                                                                                                                                                                                                                                                                                                                                         |enq_ts                 |\n+----------------------------------------------------------------------------------------------------------------------------------------------------------------------------------------------------------------------------------------------------------------------------------------------------------------------------------------------------------------------------------------------------------------------------------------------------------------------------------------------------------------------------------------------------------------------------------------------------------------------------------------------------------------------------------------------------------------------------------------------------------------------------------------------------------------------------------------------------------------------------------------------------------------------------------------------------------------------------------------------------------------------------------------------------------------------------------------------------------------------------------------------------------------------------------------------------------------------------------------------------------------------------------------------------------------------------------------------------------------------------------------------------------------------------------------------------------------------------------------------------------------------------------------------------------------------------------------------------------------------------------------------------------------------------------------------------------------------------------------------------------------------------------------------------------------------------------------------------------------------------------------------------------------------------------------------------------------------------------------------------------------------------------------------------------------------------------------------------------------------------------------------------------------------------------------------------------------------------------------------------------------------------------------------------------------------------------------------------------------------------------------------------------------------------------------------------------------------------------------------------------------------------------------------------------------------------------------------------------------------------------------------------------------------------------------------------------------------------------------------------------------------------------------------------------------------------------------------------------------------------------------------------------------------------------------------------------------------------------------------------------------------------------------------------------------------------------------------------------------------------------------------------------------------------------------------------------------------------------------------------------------------------------------------------------------------------------------------------------------------------------------------------------------------------------------------------------------------------------------------------------------------------------------------------------------------------------------------------------------------------------------------------------------------------------------------------------------------------------------------------------------------------------------------------------------+-----------------------+\n|[7B 22 49 64 22 3A 32 38 33 38 38 39 2C 22 50 72 6F 64 75 63 74 49 64 22 3A 22 42 30 30 31 43 57 53 4B 39 38 22 2C 22 55 73 65 72 49 64 22 3A 22 41 37 5A 52 41 45 42 52 43 43 33 56 48 22 2C 22 50 72 6F 66 69 6C 65 4E 61 6D 65 22 3A 22 52 2E 20 42 6C 65 61 73 65 22 2C 22 48 65 6C 70 66 75 6C 6E 65 73 73 4E 75 6D 65 72 61 74 6F 72 22 3A 30 2C 22 48 65 6C 70 66 75 6C 6E 65 73 73 44 65 6E 6F 6D 69 6E 61 74 6F 72 22 3A 30 2C 22 53 63 6F 72 65 22 3A 34 2C 22 54 69 6D 65 22 3A 31 32 38 34 33 33 36 30 30 30 2C 22 53 75 6D 6D 61 72 79 22 3A 22 50 72 65 74 74 79 20 67 6F 6F 64 21 20 42 65 74 74 65 72 20 74 68 61 6E 20 6D 6F 73 74 20 47 46 20 63 72 61 63 6B 65 72 73 2E 22 2C 22 54 65 78 74 22 3A 22 54 72 79 20 74 68 65 73 65 20 69 66 20 79 6F 75 20 63 61 6E 27 74 20 68 61 76 65 20 67 6C 75 74 65 6E 2E 20 43 72 61 63 6B 65 72 73 20 61 72 65 20 6F 6E 65 20 6F 66 20 74 68 65 20 74 68 69 6E 67 73 20 49 20 6D 69 73 73 20 6D 6F 73 74 20 61 6E 64 20 74 68 65 73 65 20 61 72 65 20 61 20 6E 69 63 65 20 70 6C 61 74 66 6F 72 6D 20 66 6F 72 20 61 20 67 6F 6F 64 20 63 68 65 64 64 61 72 2C 20 20 63 72 65 61 6D 65 64 20 68 65 72 72 69 6E 67 2C 20 6F 72 20 73 6D 6F 6B 65 64 20 73 61 6C 6D 6F 6E 2E 20 49 20 6C 69 6B 65 20 74 68 65 20 66 65 6E 6E 65 6C 20 6F 76 65 72 74 6F 6E 65 73 2E 20 41 73 20 61 6E 79 6F 6E 65 20 77 68 6F 20 68 61 73 20 65 76 65 72 20 73 65 61 72 63 68 65 64 20 66 6F 72 20 61 20 67 72 65 61 74 20 28 6F 72 20 65 76 65 6E 20 67 6F 6F 64 29 20 67 6C 75 74 65 6E 20 66 72 65 65 20 63 72 61 63 6B 65 72 20 69 74 27 73 20 64 69 66 66 69 63 75 6C 74 2E 3C 62 72 20 5C 2F 3E 3C 62 72 20 5C 2F 3E 57 69 74 68 20 74 68 61 74 20 73 61 69 64 2C 20 74 68 65 79 20 6F 66 74 65 6E 20 61 72 65 20 62 72 6F 6B 65 6E 20 61 6E 64 20 49 20 68 61 74 65 20 74 68 65 20 6C 69 74 74 6C 65 20 66 6F 69 6C 20 70 6F 75 63 68 65 73 20 74 68 65 79 20 63 6F 6D 65 20 69 6E 20 2D 20 79 6F 75 20 63 61 6E 27 74 20 72 65 73 65 61 6C 20 74 68 65 6D 20 6F 72 20 66 6F 6C 64 20 74 68 65 6D 20 6F 76 65 72 2E 20 49 20 61 6D 20 6C 6F 6F 6B 69 6E 67 20 66 6F 72 77 61 72 64 20 74 6F 20 74 72 79 69 6E 67 20 74 68 65 20 76 65 67 65 74 61 62 6C 65 20 47 6C 75 74 69 6E 6F 73 2E 20 49 20 61 6C 73 6F 20 77 69 73 68 20 74 68 65 79 20 63 6F 75 6C 64 20 62 65 20 62 72 6F 77 6E 65 64 20 61 20 6C 69 74 74 6C 65 20 6D 6F 72 65 20 2D 20 6D 69 67 68 74 20 67 69 76 65 20 74 68 65 6D 20 61 20 6C 69 74 74 6C 65 20 6D 6F 72 65 20 72 65 73 69 73 74 61 6E 63 65 20 74 6F 20 74 68 65 20 74 65 65 74 68 2E 20 41 74 20 61 6E 79 20 72 61 74 65 2C 20 67 69 76 65 20 27 65 6D 20 61 20 74 72 79 2E 22 7D]                                                                                                                                                                                                                                                                                                                                                                                                                                                                                                                                                                                                                                                                                                                                                                                                                                                                                                                                                                                                                                                                                                                                                |2025-08-10 15:15:34.136|\n|[7B 22 49 64 22 3A 32 38 33 38 39 31 2C 22 50 72 6F 64 75 63 74 49 64 22 3A 22 42 30 30 31 43 57 53 4B 39 38 22 2C 22 55 73 65 72 49 64 22 3A 22 41 33 54 4B 4B 36 36 45 59 35 5A 34 53 5A 22 2C 22 50 72 6F 66 69 6C 65 4E 61 6D 65 22 3A 22 53 2E 20 4D 69 74 63 68 65 6C 6C 20 5C 22 6B 61 72 6D 61 6C 61 77 5C 22 22 2C 22 48 65 6C 70 66 75 6C 6E 65 73 73 4E 75 6D 65 72 61 74 6F 72 22 3A 30 2C 22 48 65 6C 70 66 75 6C 6E 65 73 73 44 65 6E 6F 6D 69 6E 61 74 6F 72 22 3A 30 2C 22 53 63 6F 72 65 22 3A 35 2C 22 54 69 6D 65 22 3A 31 32 36 37 36 36 30 38 30 30 2C 22 53 75 6D 6D 61 72 79 22 3A 22 47 72 65 61 74 20 54 65 78 74 75 72 65 20 61 6E 64 20 5A 69 6E 67 79 20 46 6C 61 76 6F 72 2E 2E 2E 2E 20 59 75 6D 21 22 2C 22 54 65 78 74 22 3A 22 4F 6B 61 79 2C 20 73 6F 6D 65 20 70 65 6F 70 6C 65 20 64 6F 6E 27 74 20 6C 69 6B 65 20 6D 75 63 68 20 66 6C 61 76 6F 72 20 2D 2D 20 61 6E 64 20 69 66 20 79 6F 75 27 72 65 20 6F 6E 65 20 6F 66 20 74 68 65 20 76 61 6E 69 6C 6C 61 20 6D 69 64 64 6C 65 2D 6F 66 2D 74 68 65 2D 72 6F 61 64 20 74 79 70 65 73 20 77 68 6F 27 64 20 6E 65 76 65 72 20 74 6F 75 63 68 20 61 20 70 69 65 63 65 20 6F 66 20 72 79 65 20 62 72 65 61 64 20 6F 72 20 61 64 64 20 61 20 64 61 73 68 20 6F 66 20 66 65 6E 6E 65 6C 20 74 6F 20 61 20 64 69 73 68 2C 20 74 68 65 73 65 20 63 72 61 63 6B 65 72 73 20 2A 6D 61 79 2A 20 6E 6F 74 20 62 65 20 66 6F 72 20 79 6F 75 2E 2E 20 42 55 54 2C 20 74 68 61 74 20 62 65 69 6E 67 20 73 61 69 64 2C 20 74 68 65 79 20 68 61 76 65 20 61 20 47 52 45 41 54 20 74 65 78 74 75 72 65 20 28 74 68 69 6E 6B 20 52 69 74 7A 20 6C 69 6B 65 20 66 6C 61 6B 79 20 63 72 75 6E 63 68 29 20 77 69 74 68 20 61 6E 20 61 6C 6D 6F 73 74 20 72 79 65 20 62 72 65 61 64 20 74 79 70 65 20 6F 66 20 74 61 73 74 65 20 28 79 65 73 20 2D 2D 20 69 74 27 73 20 66 72 6F 6D 20 74 68 65 20 66 65 6E 6E 65 6C 20 2D 2D 20 62 75 74 20 74 68 65 20 66 6C 61 76 6F 72 20 69 73 20 76 65 72 79 20 63 6C 6F 73 65 20 74 6F 20 77 68 61 74 20 79 6F 75 20 6D 69 67 68 74 20 72 65 6D 65 6D 62 65 72 20 68 61 76 69 6E 67 20 69 6E 20 61 20 70 69 65 63 65 20 6F 66 20 72 79 65 20 62 72 65 61 64 29 2E 20 54 68 65 20 66 6C 61 76 6F 72 20 69 73 20 6E 6F 74 20 6F 76 65 72 77 68 65 6C 6D 69 6E 67 2C 20 62 75 74 20 69 74 27 73 20 74 68 65 72 65 20 61 73 20 61 20 6C 6F 76 65 6C 79 20 61 64 64 69 74 69 6F 6E 20 74 6F 20 61 20 67 72 65 61 74 20 63 72 61 63 6B 65 72 2E 20 49 20 4C 4F 56 45 20 74 68 65 73 65 20 63 72 61 63 6B 65 72 73 2E 20 20 54 72 79 20 74 68 65 6D 20 77 69 74 68 20 73 6F 6D 65 20 73 61 6C 6D 6F 6E 20 73 61 6C 61 64 20 6F 6E 20 74 6F 70 20 66 6F 72 20 61 20 74 72 65 61 74 28 75 73 65 20 63 61 6E 6E 65 64 20 70 69 6E 6B 20 73 61 6C 6D 6F 6E 20 69 6E 20 70 6C 61 63 65 20 6F 66 20 74 75 6E 61 20 74 6F 20 6D 61 6B 65 20 79 6F 75 72 20 73 61 6C 61 64 29 2E 2E 2E 20 77 68 61 74 65 76 65 72 20 79 6F 75 20 64 6F 2C 20 72 65 61 6C 69 7A 65 20 79 6F 75 27 72 65 20 67 6F 69 6E 67 20 74 6F 20 77 61 6E 74 20 74 6F 20 67 6F 62 62 6C 65 20 74 68 65 6D 20 64 6F 77 6E 20 73 6F 20 6D 61 6B 65 20 73 75 72 65 20 79 6F 75 20 68 61 76 65 20 65 6E 6F 75 67 68 20 6F 66 20 74 68 65 6D 21 20 20 49 66 20 74 68 65 73 65 20 61 72 65 6E 27 74 20 66 6F 72 20 79 6F 75 20 2D 2D 20 74 72 79 20 74 68 65 20 6F 72 69 67 69 6E 61 6C 20 6F 72 20 63 68 65 65 73 65 20 76 65 72 73 69 6F 6E 2E 20 20 4A 75 73 74 20 6B 65 65 70 20 74 68 65 6D 20 61 77 61 79 20 66 72 6F 6D 20 79 6F 75 72 20 6E 6F 6E 2D 47 46 20 66 72 69 65 6E 64 73 5C 2F 66 61 6D 69 6C 79 20 2D 2D 20 74 68 65 79 27 72 65 20 73 6F 20 67 6F 6F 64 20 74 68 65 79 27 6C 6C 20 65 61 74 20 74 68 65 6D 20 75 70 20 62 65 66 6F 72 65 20 79 6F 75 20 68 61 76 65 20 61 20 63 68 61 6E 63 65 20 74 6F 20 64 6F 20 73 6F 2E 22 7D]|2025-08-10 15:15:34.136|\n|[7B 22 49 64 22 3A 32 38 33 38 38 38 2C 22 50 72 6F 64 75 63 74 49 64 22 3A 22 42 30 30 31 43 57 53 4B 39 38 22 2C 22 55 73 65 72 49 64 22 3A 22 41 32 56 37 31 41 58 31 4F 33 46 49 53 50 22 2C 22 50 72 6F 66 69 6C 65 4E 61 6D 65 22 3A 22 4C 2E 20 43 72 6F 6B 65 72 20 5C 22 48 61 70 70 79 20 48 69 6B 65 72 5C 22 22 2C 22 48 65 6C 70 66 75 6C 6E 65 73 73 4E 75 6D 65 72 61 74 6F 72 22 3A 30 2C 22 48 65 6C 70 66 75 6C 6E 65 73 73 44 65 6E 6F 6D 69 6E 61 74 6F 72 22 3A 30 2C 22 53 63 6F 72 65 22 3A 35 2C 22 54 69 6D 65 22 3A 31 32 38 35 30 32 37 32 30 30 2C 22 53 75 6D 6D 61 72 79 22 3A 22 56 65 72 79 20 74 61 73 74 79 22 2C 22 54 65 78 74 22 3A 22 49 20 68 61 76 65 20 73 65 72 76 65 64 20 74 68 65 73 65 20 63 72 61 63 6B 65 72 73 20 74 6F 20 66 61 6D 69 6C 79 20 61 6E 64 20 66 72 69 65 6E 64 73 20 77 69 74 68 20 63 68 65 65 73 65 2C 20 64 69 70 2C 20 65 74 63 2E 20 4E 6F 74 20 6F 6E 65 20 6F 66 20 74 68 65 6D 20 63 6F 75 6C 64 20 74 65 6C 6C 20 69 74 20 77 61 73 20 61 20 73 70 65 63 69 61 6C 20 63 72 61 63 6B 65 72 21 20 49 20 77 6F 75 6C 64 20 64 65 66 69 6E 69 74 65 6C 79 20 72 65 63 6F 6D 6D 65 6E 64 20 74 68 65 73 65 20 2D 2D 20 76 65 72 79 20 74 61 73 74 79 21 22 7D]                                                                                                                                                                                                                                                                                                                                                                                                                                                                                                                                                                                                                                                                                                                                                                                                                                                                                                                                                                                                                                                                                                                                                                                                                                                                                                                                                                                                                                                                                                                                                                                                                                                                                                                                                                                                                                                                                                                                                                                                                                                                                                                                                                                                                                                                                                                                                                                                                                                                                                                                                                              |2025-08-10 15:15:34.136|\n|[7B 22 49 64 22 3A 32 38 33 38 38 37 2C 22 50 72 6F 64 75 63 74 49 64 22 3A 22 42 30 30 31 43 57 53 4B 39 38 22 2C 22 55 73 65 72 49 64 22 3A 22 41 31 49 47 52 58 49 46 4E 39 55 54 4F 49 22 2C 22 50 72 6F 66 69 6C 65 4E 61 6D 65 22 3A 22 67 6C 75 74 65 6E 66 72 65 65 67 61 6C 22 2C 22 48 65 6C 70 66 75 6C 6E 65 73 73 4E 75 6D 65 72 61 74 6F 72 22 3A 30 2C 22 48 65 6C 70 66 75 6C 6E 65 73 73 44 65 6E 6F 6D 69 6E 61 74 6F 72 22 3A 30 2C 22 53 63 6F 72 65 22 3A 35 2C 22 54 69 6D 65 22 3A 31 33 30 34 31 32 31 36 30 30 2C 22 53 75 6D 6D 61 72 79 22 3A 22 42 65 73 74 20 47 46 20 43 72 61 63 6B 65 72 73 20 49 27 76 65 20 54 72 69 65 64 22 2C 22 54 65 78 74 22 3A 22 49 27 76 65 20 62 65 65 6E 20 6F 6E 20 61 20 47 46 20 64 69 65 74 20 66 6F 72 20 61 6C 6D 6F 73 74 20 61 20 79 65 61 72 20 6E 6F 77 2E 20 42 65 66 6F 72 65 20 62 65 69 6E 67 20 64 69 61 67 6E 6F 73 65 64 20 77 69 74 68 20 63 65 6C 69 61 63 20 64 69 73 65 61 73 65 2C 20 49 20 6C 6F 76 65 64 20 65 61 74 69 6E 67 20 63 72 61 63 6B 65 72 73 20 77 69 74 68 20 73 6F 75 70 2C 20 70 65 61 6E 75 74 20 62 75 74 74 65 72 2C 20 6F 72 20 6F 74 68 65 72 20 74 6F 70 70 69 6E 67 73 2E 20 49 20 77 61 73 20 69 6E 63 72 65 64 69 62 6C 79 20 64 69 73 61 70 70 6F 69 6E 74 65 64 20 6B 6E 6F 77 69 6E 67 20 49 20 63 6F 75 6C 64 20 6E 65 76 65 72 20 65 6E 6A 6F 79 20 74 61 73 74 79 20 63 72 61 63 6B 65 72 73 20 61 67 61 69 6E 2E 20 57 65 6C 6C 2C 20 61 66 74 65 72 20 73 65 61 72 63 68 69 6E 67 20 74 68 65 20 6D 61 72 6B 65 74 20 61 6E 64 20 74 72 79 69 6E 67 20 28 61 6E 64 20 77 61 73 74 69 6E 67 20 24 20 6F 6E 29 20 76 61 72 69 6F 75 73 20 47 46 20 63 72 61 63 6B 65 72 73 2C 20 49 20 77 61 73 20 61 6C 61 72 6D 65 64 2E 20 41 6C 6C 20 74 68 65 20 47 46 20 63 72 61 63 6B 65 72 73 20 49 20 74 72 69 65 64 20 77 65 72 65 20 74 65 72 72 69 62 6C 65 2E 20 54 68 65 79 20 74 61 73 74 65 64 20 6D 6F 72 65 20 6C 69 6B 65 20 61 20 74 6F 72 74 69 6C 6C 61 20 63 68 69 70 20 74 68 61 6E 20 61 20 63 72 61 63 6B 65 72 2E 20 4F 6E 20 61 20 77 68 69 6D 2C 20 49 20 62 6F 75 67 68 74 20 74 68 65 20 47 6C 75 74 69 6E 6F 20 63 72 61 63 6B 65 72 73 20 69 6E 20 4D 75 6C 74 69 67 72 61 69 6E 2E 20 41 6D 61 7A 69 6E 67 21 20 4E 6F 74 20 61 20 74 6F 6E 20 6F 66 20 66 6C 61 76 6F 72 2C 20 62 75 74 20 77 69 6C 6C 20 73 61 74 69 61 74 65 20 6D 6F 73 74 20 61 6E 79 20 70 61 6C 61 74 65 2E 20 47 72 65 61 74 20 77 69 74 68 20 6F 74 68 65 72 20 69 74 65 6D 73 2E 20 54 68 65 73 65 20 61 72 65 20 6F 6E 65 20 6F 66 20 6D 79 20 6E 65 77 20 66 61 76 6F 72 69 74 65 20 47 46 20 69 74 65 6D 73 2E 20 49 27 6D 20 65 78 63 69 74 65 64 20 74 6F 20 74 72 79 20 74 68 65 6D 20 77 69 74 68 20 73 6F 75 70 2C 20 6F 72 20 69 6E 20 63 61 73 73 65 72 6F 6C 65 73 2E 20 45 6E 6A 6F 79 21 22 7D]                                                                                                                                                                                                                                                                                                                                                                                                                                                                                                                                                                                                                                                                                                                                                                                                                                                                                                                                                                                    |2025-08-10 15:15:34.136|\n|[7B 22 49 64 22 3A 32 38 33 38 39 30 2C 22 50 72 6F 64 75 63 74 49 64 22 3A 22 42 30 30 31 43 57 53 4B 39 38 22 2C 22 55 73 65 72 49 64 22 3A 22 41 32 4E 43 51 42 5A 35 31 55 43 56 31 53 22 2C 22 50 72 6F 66 69 6C 65 4E 61 6D 65 22 3A 22 4D 6F 6C 6C 79 27 73 20 26 20 4B 61 74 65 27 73 20 4D 6F 6D 6D 61 22 2C 22 48 65 6C 70 66 75 6C 6E 65 73 73 4E 75 6D 65 72 61 74 6F 72 22 3A 30 2C 22 48 65 6C 70 66 75 6C 6E 65 73 73 44 65 6E 6F 6D 69 6E 61 74 6F 72 22 3A 30 2C 22 53 63 6F 72 65 22 3A 34 2C 22 54 69 6D 65 22 3A 31 32 37 39 36 37 30 34 30 30 2C 22 53 75 6D 6D 61 72 79 22 3A 22 47 6F 6F 64 20 43 72 61 63 6B 65 72 20 2D 20 53 74 72 6F 6E 67 2C 20 62 75 74 20 6E 6F 74 20 6F 76 65 72 77 68 65 6C 6D 69 6E 67 20 66 65 6E 6E 65 6C 20 66 6C 61 76 6F 72 22 2C 22 54 65 78 74 22 3A 22 47 6F 6F 64 20 73 6F 6C 69 64 20 63 72 61 63 6B 65 72 20 2D 20 49 27 64 20 73 61 79 20 69 74 27 73 20 6C 69 6B 65 20 61 20 77 61 74 65 72 20 63 72 61 63 6B 65 72 20 77 69 74 68 20 61 20 73 74 72 6F 6E 67 20 66 65 6E 6E 65 6C 20 66 6C 61 76 6F 72 2E 20 54 68 65 20 66 65 6E 6E 65 6C 20 66 6C 61 76 6F 72 20 77 61 73 20 75 6E 65 78 70 65 63 74 65 64 20 61 74 20 66 69 72 73 74 2C 20 62 75 74 20 49 27 76 65 20 67 72 6F 77 6E 20 74 6F 20 6C 69 6B 65 20 74 68 65 73 65 2E 20 20 54 68 65 79 20 74 61 73 74 65 20 67 72 65 61 74 20 77 69 74 68 20 73 6F 6D 65 20 70 6C 61 69 6E 20 62 72 69 65 2E 20 20 49 27 6C 6C 20 64 65 66 69 6E 69 74 65 6C 79 20 62 75 79 20 74 68 65 73 65 20 61 67 61 69 6E 2E 22 7D]                                                                                                                                                                                                                                                                                                                                                                                                                                                                                                                                                                                                                                                                                                                                                                                                                                                                                                                                                                                                                                                                                                                                                                                                                                                                                                                                                                                                                                                                                                                                                                                                                                                                                                                                                                                                                                                                                                                                                                                                                                                                                                                                                                                                                                                                        |2025-08-10 15:15:34.136|\n+----------------------------------------------------------------------------------------------------------------------------------------------------------------------------------------------------------------------------------------------------------------------------------------------------------------------------------------------------------------------------------------------------------------------------------------------------------------------------------------------------------------------------------------------------------------------------------------------------------------------------------------------------------------------------------------------------------------------------------------------------------------------------------------------------------------------------------------------------------------------------------------------------------------------------------------------------------------------------------------------------------------------------------------------------------------------------------------------------------------------------------------------------------------------------------------------------------------------------------------------------------------------------------------------------------------------------------------------------------------------------------------------------------------------------------------------------------------------------------------------------------------------------------------------------------------------------------------------------------------------------------------------------------------------------------------------------------------------------------------------------------------------------------------------------------------------------------------------------------------------------------------------------------------------------------------------------------------------------------------------------------------------------------------------------------------------------------------------------------------------------------------------------------------------------------------------------------------------------------------------------------------------------------------------------------------------------------------------------------------------------------------------------------------------------------------------------------------------------------------------------------------------------------------------------------------------------------------------------------------------------------------------------------------------------------------------------------------------------------------------------------------------------------------------------------------------------------------------------------------------------------------------------------------------------------------------------------------------------------------------------------------------------------------------------------------------------------------------------------------------------------------------------------------------------------------------------------------------------------------------------------------------------------------------------------------------------------------------------------------------------------------------------------------------------------------------------------------------------------------------------------------------------------------------------------------------------------------------------------------------------------------------------------------------------------------------------------------------------------------------------------------------------------------------------------------+-----------------------+\n\n</div>",
       "datasetInfos": [],
       "metadata": {},
       "removedWidgets": [],
       "type": "html"
      }
     },
     "output_type": "display_data"
    }
   ],
   "source": [
    "spark.read.format(\"delta\").load(BRONZE_PATH).orderBy(\"enq_ts\", ascending=False).limit(5).show(truncate=False)"
   ]
  }
 ],
 "metadata": {
  "application/vnd.databricks.v1+notebook": {
   "computePreferences": null,
   "dashboards": [],
   "environmentMetadata": {
    "base_environment": "",
    "environment_version": "2"
   },
   "inputWidgetPreferences": null,
   "language": "python",
   "notebookMetadata": {
    "pythonIndentUnit": 4
   },
   "notebookName": "Send JSON records → Event Hub",
   "widgets": {}
  },
  "language_info": {
   "name": "python"
  }
 },
 "nbformat": 4,
 "nbformat_minor": 0
}