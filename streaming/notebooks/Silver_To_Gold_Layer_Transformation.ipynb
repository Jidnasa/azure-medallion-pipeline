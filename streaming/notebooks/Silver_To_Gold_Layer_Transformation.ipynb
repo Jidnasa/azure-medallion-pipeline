{
 "cells": [
  {
   "cell_type": "code",
   "execution_count": 0,
   "metadata": {
    "application/vnd.databricks.v1+cell": {
     "cellMetadata": {
      "byteLimit": 2048000,
      "implicitDf": true,
      "rowLimit": 10000
     },
     "inputWidgets": {},
     "nuid": "ae29337f-2358-4dc8-ac52-edea37f4bba0",
     "showTitle": false,
     "tableResultSettingsMap": {},
     "title": ""
    }
   },
   "outputs": [
    {
     "output_type": "display_data",
     "data": {
      "text/html": [
       "<style scoped>\n",
       "  .table-result-container {\n",
       "    max-height: 300px;\n",
       "    overflow: auto;\n",
       "  }\n",
       "  table, th, td {\n",
       "    border: 1px solid black;\n",
       "    border-collapse: collapse;\n",
       "  }\n",
       "  th, td {\n",
       "    padding: 5px;\n",
       "  }\n",
       "  th {\n",
       "    text-align: left;\n",
       "  }\n",
       "</style><div class='table-result-container'><table class='table-result'><thead style='background-color: white'><tr></tr></thead><tbody></tbody></table></div>"
      ]
     },
     "metadata": {
      "application/vnd.databricks.v1+output": {
       "addedWidgets": {},
       "aggData": [],
       "aggError": "",
       "aggOverflow": false,
       "aggSchema": [],
       "aggSeriesLimitReached": false,
       "aggType": "",
       "arguments": {},
       "columnCustomDisplayInfos": {},
       "data": [],
       "datasetInfos": [],
       "dbfsResultPath": null,
       "isJsonSchema": true,
       "metadata": {},
       "overflow": false,
       "plotOptions": {
        "customPlotOptions": {},
        "displayType": "table",
        "pivotAggregation": null,
        "pivotColumns": null,
        "xColumns": null,
        "yColumns": null
       },
       "removedWidgets": [],
       "schema": [],
       "type": "table"
      }
     },
     "output_type": "display_data"
    }
   ],
   "source": [
    "%sql\n",
    "CREATE SCHEMA IF NOT EXISTS retail.gold;"
   ]
  },
  {
   "cell_type": "code",
   "execution_count": 0,
   "metadata": {
    "application/vnd.databricks.v1+cell": {
     "cellMetadata": {
      "byteLimit": 2048000,
      "implicitDf": true,
      "rowLimit": 10000
     },
     "inputWidgets": {},
     "nuid": "5b6d237b-74d3-4c83-b256-3bf0e4de8ad1",
     "showTitle": false,
     "tableResultSettingsMap": {},
     "title": ""
    }
   },
   "outputs": [
    {
     "output_type": "display_data",
     "data": {
      "text/html": [
       "<style scoped>\n",
       "  .table-result-container {\n",
       "    max-height: 300px;\n",
       "    overflow: auto;\n",
       "  }\n",
       "  table, th, td {\n",
       "    border: 1px solid black;\n",
       "    border-collapse: collapse;\n",
       "  }\n",
       "  th, td {\n",
       "    padding: 5px;\n",
       "  }\n",
       "  th {\n",
       "    text-align: left;\n",
       "  }\n",
       "</style><div class='table-result-container'><table class='table-result'><thead style='background-color: white'><tr></tr></thead><tbody></tbody></table></div>"
      ]
     },
     "metadata": {
      "application/vnd.databricks.v1+output": {
       "addedWidgets": {},
       "aggData": [],
       "aggError": "",
       "aggOverflow": false,
       "aggSchema": [],
       "aggSeriesLimitReached": false,
       "aggType": "",
       "arguments": {},
       "columnCustomDisplayInfos": {},
       "data": [],
       "datasetInfos": [],
       "dbfsResultPath": null,
       "isJsonSchema": true,
       "metadata": {},
       "overflow": false,
       "plotOptions": {
        "customPlotOptions": {},
        "displayType": "table",
        "pivotAggregation": null,
        "pivotColumns": null,
        "xColumns": null,
        "yColumns": null
       },
       "removedWidgets": [],
       "schema": [],
       "type": "table"
      }
     },
     "output_type": "display_data"
    }
   ],
   "source": [
    "%sql\n",
    "CREATE TABLE IF NOT EXISTS retail.gold.product_daily (\n",
    "  ProductId STRING,\n",
    "  event_date DATE,\n",
    "  review_count BIGINT,\n",
    "  avg_rating DOUBLE,\n",
    "  avg_sentiment DOUBLE,\n",
    "  pct_negative DOUBLE,\n",
    "  last_event_time TIMESTAMP\n",
    ")\n",
    "USING DELTA;"
   ]
  },
  {
   "cell_type": "code",
   "execution_count": 0,
   "metadata": {
    "application/vnd.databricks.v1+cell": {
     "cellMetadata": {
      "byteLimit": 2048000,
      "implicitDf": true,
      "rowLimit": 10000
     },
     "inputWidgets": {},
     "nuid": "baaccc7f-37b0-4404-83ba-2fe67461aa01",
     "showTitle": false,
     "tableResultSettingsMap": {},
     "title": ""
    }
   },
   "outputs": [
    {
     "output_type": "display_data",
     "data": {
      "text/html": [
       "<style scoped>\n",
       "  .table-result-container {\n",
       "    max-height: 300px;\n",
       "    overflow: auto;\n",
       "  }\n",
       "  table, th, td {\n",
       "    border: 1px solid black;\n",
       "    border-collapse: collapse;\n",
       "  }\n",
       "  th, td {\n",
       "    padding: 5px;\n",
       "  }\n",
       "  th {\n",
       "    text-align: left;\n",
       "  }\n",
       "</style><div class='table-result-container'><table class='table-result'><thead style='background-color: white'><tr><th>num_affected_rows</th><th>num_updated_rows</th><th>num_deleted_rows</th><th>num_inserted_rows</th></tr></thead><tbody><tr><td>207778</td><td>0</td><td>0</td><td>207778</td></tr></tbody></table></div>"
      ]
     },
     "metadata": {
      "application/vnd.databricks.v1+output": {
       "addedWidgets": {},
       "aggData": [],
       "aggError": "",
       "aggOverflow": false,
       "aggSchema": [],
       "aggSeriesLimitReached": false,
       "aggType": "",
       "arguments": {},
       "columnCustomDisplayInfos": {},
       "data": [
        [
         207778,
         0,
         0,
         207778
        ]
       ],
       "datasetInfos": [],
       "dbfsResultPath": null,
       "isJsonSchema": true,
       "metadata": {},
       "overflow": false,
       "plotOptions": {
        "customPlotOptions": {},
        "displayType": "table",
        "pivotAggregation": null,
        "pivotColumns": null,
        "xColumns": null,
        "yColumns": null
       },
       "removedWidgets": [],
       "schema": [
        {
         "metadata": "{}",
         "name": "num_affected_rows",
         "type": "\"long\""
        },
        {
         "metadata": "{}",
         "name": "num_updated_rows",
         "type": "\"long\""
        },
        {
         "metadata": "{}",
         "name": "num_deleted_rows",
         "type": "\"long\""
        },
        {
         "metadata": "{}",
         "name": "num_inserted_rows",
         "type": "\"long\""
        }
       ],
       "type": "table"
      }
     },
     "output_type": "display_data"
    }
   ],
   "source": [
    "%sql\n",
    "MERGE INTO retail.gold.product_daily t\n",
    "USING (\n",
    "  SELECT\n",
    "    ProductId,\n",
    "    event_date,\n",
    "    COUNT(*)                                    AS review_count,\n",
    "    AVG(rating)                                 AS avg_rating,\n",
    "    AVG(sentiment_score)                        AS avg_sentiment,\n",
    "    AVG(CASE WHEN sentiment_label='negative' THEN 1.0 ELSE 0.0 END) AS pct_negative,\n",
    "    MAX(event_time)                             AS last_event_time\n",
    "  FROM retail.clean.silver_reviews\n",
    "  GROUP BY ProductId, event_date\n",
    ") a\n",
    "ON  t.ProductId = a.ProductId\n",
    "AND t.event_date = a.event_date\n",
    "WHEN MATCHED THEN UPDATE SET\n",
    "  t.review_count    = a.review_count,\n",
    "  t.avg_rating      = a.avg_rating,\n",
    "  t.avg_sentiment   = a.avg_sentiment,\n",
    "  t.pct_negative    = a.pct_negative,\n",
    "  t.last_event_time = a.last_event_time\n",
    "WHEN NOT MATCHED THEN INSERT *;\n"
   ]
  },
  {
   "cell_type": "code",
   "execution_count": 0,
   "metadata": {
    "application/vnd.databricks.v1+cell": {
     "cellMetadata": {
      "byteLimit": 2048000,
      "rowLimit": 10000
     },
     "inputWidgets": {},
     "nuid": "16d8a9ff-c6b7-409f-86cd-9e8fda328e28",
     "showTitle": false,
     "tableResultSettingsMap": {},
     "title": ""
    }
   },
   "outputs": [
    {
     "output_type": "display_data",
     "data": {
      "text/html": [
       "<style scoped>\n",
       "  .ansiout {\n",
       "    display: block;\n",
       "    unicode-bidi: embed;\n",
       "    white-space: pre-wrap;\n",
       "    word-wrap: break-word;\n",
       "    word-break: break-all;\n",
       "    font-family: \"Menlo\", \"Monaco\", \"Consolas\", \"Ubuntu Mono\", \"Source Code Pro\", monospace;\n",
       "    font-size: 13px;\n",
       "    color: #555;\n",
       "    margin-left: 4px;\n",
       "    line-height: 19px;\n",
       "  }\n",
       "</style>\n",
       "<div class=\"ansiout\"></div>"
      ]
     },
     "metadata": {
      "application/vnd.databricks.v1+output": {
       "addedWidgets": {},
       "arguments": {},
       "data": "<div class=\"ansiout\"></div>",
       "datasetInfos": [],
       "metadata": {},
       "removedWidgets": [],
       "type": "html"
      }
     },
     "output_type": "display_data"
    }
   ],
   "source": [
    "CHK_GOLD   = \"abfss://retail-input-data@streaminputsa01.dfs.core.windows.net/_chk/silver_to_gold/product_daily\""
   ]
  },
  {
   "cell_type": "code",
   "execution_count": 0,
   "metadata": {
    "application/vnd.databricks.v1+cell": {
     "cellMetadata": {},
     "inputWidgets": {},
     "nuid": "d870c510-7b1d-402c-bff1-774624d535aa",
     "showTitle": false,
     "tableResultSettingsMap": {},
     "title": ""
    }
   },
   "outputs": [],
   "source": [
    "#Turn on the incremental updater (stream)\n",
    "q_gold = (\n",
    "    silver_changes.writeStream\n",
    "      .option(\"checkpointLocation\", CHK_GOLD)\n",
    "      .foreachBatch(upsert_product_daily)\n",
    "      .start()\n",
    ")"
   ]
  },
  {
   "cell_type": "code",
   "execution_count": 0,
   "metadata": {
    "application/vnd.databricks.v1+cell": {
     "cellMetadata": {
      "byteLimit": 2048000,
      "implicitDf": true,
      "rowLimit": 10000
     },
     "inputWidgets": {},
     "nuid": "7343e240-e67b-47f0-9c3c-352a8e6acf2a",
     "showTitle": false,
     "tableResultSettingsMap": {},
     "title": ""
    }
   },
   "outputs": [
    {
     "output_type": "display_data",
     "data": {
      "text/html": [
       "<style scoped>\n",
       "  .table-result-container {\n",
       "    max-height: 300px;\n",
       "    overflow: auto;\n",
       "  }\n",
       "  table, th, td {\n",
       "    border: 1px solid black;\n",
       "    border-collapse: collapse;\n",
       "  }\n",
       "  th, td {\n",
       "    padding: 5px;\n",
       "  }\n",
       "  th {\n",
       "    text-align: left;\n",
       "  }\n",
       "</style><div class='table-result-container'><table class='table-result'><thead style='background-color: white'><tr></tr></thead><tbody></tbody></table></div>"
      ]
     },
     "metadata": {
      "application/vnd.databricks.v1+output": {
       "addedWidgets": {},
       "aggData": [],
       "aggError": "",
       "aggOverflow": false,
       "aggSchema": [],
       "aggSeriesLimitReached": false,
       "aggType": "",
       "arguments": {},
       "columnCustomDisplayInfos": {},
       "data": [],
       "datasetInfos": [],
       "dbfsResultPath": null,
       "isJsonSchema": true,
       "metadata": {},
       "overflow": false,
       "plotOptions": {
        "customPlotOptions": {},
        "displayType": "table",
        "pivotAggregation": null,
        "pivotColumns": null,
        "xColumns": null,
        "yColumns": null
       },
       "removedWidgets": [],
       "schema": [],
       "type": "table"
      }
     },
     "output_type": "display_data"
    }
   ],
   "source": [
    "%sql\n",
    "--Top 5 products by 7-day review volume (with weighted quality)\n",
    "\n",
    "CREATE OR REPLACE VIEW retail.bi.v_top5_products_7d_by_reviews AS\n",
    "WITH mx AS (SELECT MAX(event_date) AS max_d FROM retail.gold.product_daily)\n",
    "SELECT\n",
    "  p.ProductId,\n",
    "  SUM(p.review_count) AS reviews_7d,\n",
    "  ROUND(SUM(p.avg_rating   * p.review_count) / SUM(p.review_count), 2) AS w_avg_rating_7d,\n",
    "  ROUND(SUM(p.avg_sentiment* p.review_count) / SUM(p.review_count), 3) AS w_avg_sentiment_7d,\n",
    "  ROUND(SUM(p.pct_negative * p.review_count) / SUM(p.review_count), 3) AS w_neg_rate_7d\n",
    "FROM retail.gold.product_daily p, mx\n",
    "WHERE p.event_date BETWEEN date_sub(mx.max_d, 6) AND mx.max_d\n",
    "GROUP BY p.ProductId\n",
    "ORDER BY reviews_7d DESC\n",
    "LIMIT 5;\n"
   ]
  },
  {
   "cell_type": "code",
   "execution_count": 0,
   "metadata": {
    "application/vnd.databricks.v1+cell": {
     "cellMetadata": {
      "byteLimit": 2048000,
      "implicitDf": true,
      "rowLimit": 10000
     },
     "inputWidgets": {},
     "nuid": "8accf1a9-89a1-4e3d-a99d-92035772bcc8",
     "showTitle": false,
     "tableResultSettingsMap": {},
     "title": ""
    }
   },
   "outputs": [
    {
     "output_type": "display_data",
     "data": {
      "text/html": [
       "<style scoped>\n",
       "  .table-result-container {\n",
       "    max-height: 300px;\n",
       "    overflow: auto;\n",
       "  }\n",
       "  table, th, td {\n",
       "    border: 1px solid black;\n",
       "    border-collapse: collapse;\n",
       "  }\n",
       "  th, td {\n",
       "    padding: 5px;\n",
       "  }\n",
       "  th {\n",
       "    text-align: left;\n",
       "  }\n",
       "</style><div class='table-result-container'><table class='table-result'><thead style='background-color: white'><tr></tr></thead><tbody></tbody></table></div>"
      ]
     },
     "metadata": {
      "application/vnd.databricks.v1+output": {
       "addedWidgets": {},
       "aggData": [],
       "aggError": "",
       "aggOverflow": false,
       "aggSchema": [],
       "aggSeriesLimitReached": false,
       "aggType": "",
       "arguments": {},
       "columnCustomDisplayInfos": {},
       "data": [],
       "datasetInfos": [],
       "dbfsResultPath": null,
       "isJsonSchema": true,
       "metadata": {},
       "overflow": false,
       "plotOptions": {
        "customPlotOptions": {},
        "displayType": "table",
        "pivotAggregation": null,
        "pivotColumns": null,
        "xColumns": null,
        "yColumns": null
       },
       "removedWidgets": [],
       "schema": [],
       "type": "table"
      }
     },
     "output_type": "display_data"
    }
   ],
   "source": [
    "%sql\n",
    "--Top 5 products by highest 7-day negative rate (min 30 reviews)\n",
    "\n",
    "CREATE OR REPLACE VIEW retail.gold.v_top5_products_7d_by_neg_rate AS\n",
    "WITH mx AS (SELECT MAX(event_date) AS max_d FROM retail.gold.product_daily),\n",
    "agg AS (\n",
    "  SELECT\n",
    "    p.ProductId,\n",
    "    SUM(p.review_count) AS reviews_7d,\n",
    "    SUM(p.pct_negative * p.review_count) / NULLIF(SUM(p.review_count),0) AS w_neg_rate_7d\n",
    "  FROM retail.gold.product_daily p, mx\n",
    "  WHERE p.event_date BETWEEN date_sub(mx.max_d, 6) AND mx.max_d\n",
    "  GROUP BY p.ProductId\n",
    ")\n",
    "SELECT ProductId, reviews_7d,\n",
    "       ROUND(w_neg_rate_7d, 3) AS w_neg_rate_7d\n",
    "FROM agg\n",
    "WHERE reviews_7d >= 30\n",
    "ORDER BY w_neg_rate_7d DESC\n",
    "LIMIT 5;\n",
    "\n"
   ]
  },
  {
   "cell_type": "code",
   "execution_count": 0,
   "metadata": {
    "application/vnd.databricks.v1+cell": {
     "cellMetadata": {
      "byteLimit": 2048000,
      "implicitDf": true,
      "rowLimit": 10000
     },
     "inputWidgets": {},
     "nuid": "24e0a847-8f81-41ef-aaad-92adebbfb00d",
     "showTitle": false,
     "tableResultSettingsMap": {},
     "title": ""
    }
   },
   "outputs": [
    {
     "output_type": "display_data",
     "data": {
      "text/html": [
       "<style scoped>\n",
       "  .table-result-container {\n",
       "    max-height: 300px;\n",
       "    overflow: auto;\n",
       "  }\n",
       "  table, th, td {\n",
       "    border: 1px solid black;\n",
       "    border-collapse: collapse;\n",
       "  }\n",
       "  th, td {\n",
       "    padding: 5px;\n",
       "  }\n",
       "  th {\n",
       "    text-align: left;\n",
       "  }\n",
       "</style><div class='table-result-container'><table class='table-result'><thead style='background-color: white'><tr></tr></thead><tbody></tbody></table></div>"
      ]
     },
     "metadata": {
      "application/vnd.databricks.v1+output": {
       "addedWidgets": {},
       "aggData": [],
       "aggError": "",
       "aggOverflow": false,
       "aggSchema": [],
       "aggSeriesLimitReached": false,
       "aggType": "",
       "arguments": {},
       "columnCustomDisplayInfos": {},
       "data": [],
       "datasetInfos": [],
       "dbfsResultPath": null,
       "isJsonSchema": true,
       "metadata": {},
       "overflow": false,
       "plotOptions": {
        "customPlotOptions": {},
        "displayType": "table",
        "pivotAggregation": null,
        "pivotColumns": null,
        "xColumns": null,
        "yColumns": null
       },
       "removedWidgets": [],
       "schema": [],
       "type": "table"
      }
     },
     "output_type": "display_data"
    }
   ],
   "source": [
    "%sql\n",
    "--Top 5 products with week-over-week spike in negative rate\n",
    "\n",
    "CREATE OR REPLACE VIEW retail.gold.v_top5_products_wow_neg_spike AS\n",
    "WITH mx AS (SELECT MAX(event_date) AS max_d FROM retail.gold.product_daily),\n",
    "win1 AS (  -- last 7 days\n",
    "  SELECT p.ProductId,\n",
    "         SUM(p.review_count) AS rev1,\n",
    "         SUM(p.pct_negative * p.review_count) / NULLIF(SUM(p.review_count),0) AS neg1\n",
    "  FROM retail.gold.product_daily p, mx\n",
    "  WHERE p.event_date BETWEEN date_sub(mx.max_d, 6) AND mx.max_d\n",
    "  GROUP BY p.ProductId\n",
    "),\n",
    "win0 AS (  -- prior 7 days\n",
    "  SELECT p.ProductId,\n",
    "         SUM(p.review_count) AS rev0,\n",
    "         SUM(p.pct_negative * p.review_count) / NULLIF(SUM(p.review_count),0) AS neg0\n",
    "  FROM retail.gold.product_daily p, mx\n",
    "  WHERE p.event_date BETWEEN date_sub(mx.max_d, 13) AND date_sub(mx.max_d, 7)\n",
    "  GROUP BY p.ProductId\n",
    ")\n",
    "SELECT\n",
    "  w1.ProductId,\n",
    "  w1.rev1 AS reviews_7d,\n",
    "  ROUND(w1.neg1, 3) AS neg_rate_curr_7d,\n",
    "  ROUND(w0.neg0, 3) AS neg_rate_prev_7d,\n",
    "  ROUND(w1.neg1 - w0.neg0, 3) AS neg_rate_wow_delta\n",
    "FROM win1 w1\n",
    "JOIN win0 w0 USING (ProductId)\n",
    "WHERE w1.rev1 >= 30 AND w0.rev0 >= 30\n",
    "ORDER BY neg_rate_wow_delta DESC\n",
    "LIMIT 5;\n"
   ]
  },
  {
   "cell_type": "code",
   "execution_count": 0,
   "metadata": {
    "application/vnd.databricks.v1+cell": {
     "cellMetadata": {
      "byteLimit": 2048000,
      "implicitDf": true,
      "rowLimit": 10000
     },
     "inputWidgets": {},
     "nuid": "0061b90c-da70-4c12-b212-025f6440db5a",
     "showTitle": false,
     "tableResultSettingsMap": {},
     "title": ""
    }
   },
   "outputs": [
    {
     "output_type": "display_data",
     "data": {
      "text/html": [
       "<style scoped>\n",
       "  .table-result-container {\n",
       "    max-height: 300px;\n",
       "    overflow: auto;\n",
       "  }\n",
       "  table, th, td {\n",
       "    border: 1px solid black;\n",
       "    border-collapse: collapse;\n",
       "  }\n",
       "  th, td {\n",
       "    padding: 5px;\n",
       "  }\n",
       "  th {\n",
       "    text-align: left;\n",
       "  }\n",
       "</style><div class='table-result-container'><table class='table-result'><thead style='background-color: white'><tr></tr></thead><tbody></tbody></table></div>"
      ]
     },
     "metadata": {
      "application/vnd.databricks.v1+output": {
       "addedWidgets": {},
       "aggData": [],
       "aggError": "",
       "aggOverflow": false,
       "aggSchema": [],
       "aggSeriesLimitReached": false,
       "aggType": "",
       "arguments": {},
       "columnCustomDisplayInfos": {},
       "data": [],
       "datasetInfos": [],
       "dbfsResultPath": null,
       "isJsonSchema": true,
       "metadata": {},
       "overflow": false,
       "plotOptions": {
        "customPlotOptions": {},
        "displayType": "table",
        "pivotAggregation": null,
        "pivotColumns": null,
        "xColumns": null,
        "yColumns": null
       },
       "removedWidgets": [],
       "schema": [],
       "type": "table"
      }
     },
     "output_type": "display_data"
    }
   ],
   "source": [
    "%sql\n",
    "\n",
    "--Bottom 5 products by 7-day sentiment (min 30 reviews)\n",
    "\n",
    "CREATE OR REPLACE VIEW retail.gold.v_bottom5_products_7d_by_sentiment AS\n",
    "WITH mx AS (SELECT MAX(event_date) AS max_d FROM retail.gold.product_daily),\n",
    "agg AS (\n",
    "  SELECT\n",
    "    p.ProductId,\n",
    "    SUM(p.review_count) AS reviews_7d,\n",
    "    SUM(p.avg_sentiment * p.review_count) / NULLIF(SUM(p.review_count),0) AS w_sent_7d\n",
    "  FROM retail.gold.product_daily p, mx\n",
    "  WHERE p.event_date BETWEEN date_sub(mx.max_d, 6) AND mx.max_d\n",
    "  GROUP BY p.ProductId\n",
    ")\n",
    "SELECT ProductId, reviews_7d,\n",
    "       ROUND(w_sent_7d, 3) AS w_avg_sentiment_7d\n",
    "FROM agg\n",
    "WHERE reviews_7d >= 30\n",
    "ORDER BY w_avg_sentiment_7d ASC\n",
    "LIMIT 5;\n"
   ]
  },
  {
   "cell_type": "code",
   "execution_count": 0,
   "metadata": {
    "application/vnd.databricks.v1+cell": {
     "cellMetadata": {
      "byteLimit": 2048000,
      "implicitDf": true,
      "rowLimit": 10000
     },
     "inputWidgets": {},
     "nuid": "8ad7493f-6f80-4556-a2f5-8a3b9ed85022",
     "showTitle": false,
     "tableResultSettingsMap": {},
     "title": ""
    }
   },
   "outputs": [
    {
     "output_type": "display_data",
     "data": {
      "text/html": [
       "<style scoped>\n",
       "  .table-result-container {\n",
       "    max-height: 300px;\n",
       "    overflow: auto;\n",
       "  }\n",
       "  table, th, td {\n",
       "    border: 1px solid black;\n",
       "    border-collapse: collapse;\n",
       "  }\n",
       "  th, td {\n",
       "    padding: 5px;\n",
       "  }\n",
       "  th {\n",
       "    text-align: left;\n",
       "  }\n",
       "</style><div class='table-result-container'><table class='table-result'><thead style='background-color: white'><tr></tr></thead><tbody></tbody></table></div>"
      ]
     },
     "metadata": {
      "application/vnd.databricks.v1+output": {
       "addedWidgets": {},
       "aggData": [],
       "aggError": "",
       "aggOverflow": false,
       "aggSchema": [],
       "aggSeriesLimitReached": false,
       "aggType": "",
       "arguments": {},
       "columnCustomDisplayInfos": {},
       "data": [],
       "datasetInfos": [],
       "dbfsResultPath": null,
       "isJsonSchema": true,
       "metadata": {},
       "overflow": false,
       "plotOptions": {
        "customPlotOptions": {},
        "displayType": "table",
        "pivotAggregation": null,
        "pivotColumns": null,
        "xColumns": null,
        "yColumns": null
       },
       "removedWidgets": [],
       "schema": [],
       "type": "table"
      }
     },
     "output_type": "display_data"
    }
   ],
   "source": [
    "%sql\n",
    "--Latest-day negative leaderboard\n",
    "\n",
    "CREATE OR REPLACE VIEW retail.gold.v_top5_products_latestday_by_neg_rate AS\n",
    "WITH mx AS (SELECT MAX(event_date) AS max_d FROM retail.gold.product_daily)\n",
    "SELECT\n",
    "  p.ProductId,\n",
    "  p.review_count AS reviews,\n",
    "  ROUND(p.pct_negative, 3) AS neg_rate\n",
    "FROM retail.gold.product_daily p, mx\n",
    "WHERE p.event_date = mx.max_d\n",
    "  AND p.review_count >= 10\n",
    "ORDER BY neg_rate DESC, reviews DESC\n",
    "LIMIT 5;\n"
   ]
  },
  {
   "cell_type": "code",
   "execution_count": 0,
   "metadata": {
    "application/vnd.databricks.v1+cell": {
     "cellMetadata": {
      "byteLimit": 2048000,
      "implicitDf": true,
      "rowLimit": 10000
     },
     "inputWidgets": {},
     "nuid": "0b50854b-cdb8-424f-bfdd-2a7295b57bb1",
     "showTitle": false,
     "tableResultSettingsMap": {},
     "title": ""
    }
   },
   "outputs": [
    {
     "output_type": "display_data",
     "data": {
      "text/html": [
       "<style scoped>\n",
       "  .table-result-container {\n",
       "    max-height: 300px;\n",
       "    overflow: auto;\n",
       "  }\n",
       "  table, th, td {\n",
       "    border: 1px solid black;\n",
       "    border-collapse: collapse;\n",
       "  }\n",
       "  th, td {\n",
       "    padding: 5px;\n",
       "  }\n",
       "  th {\n",
       "    text-align: left;\n",
       "  }\n",
       "</style><div class='table-result-container'><table class='table-result'><thead style='background-color: white'><tr></tr></thead><tbody></tbody></table></div>"
      ]
     },
     "metadata": {
      "application/vnd.databricks.v1+output": {
       "addedWidgets": {},
       "aggData": [],
       "aggError": "",
       "aggOverflow": false,
       "aggSchema": [],
       "aggSeriesLimitReached": false,
       "aggType": "",
       "arguments": {},
       "columnCustomDisplayInfos": {},
       "data": [],
       "datasetInfos": [],
       "dbfsResultPath": null,
       "isJsonSchema": true,
       "metadata": {},
       "overflow": false,
       "plotOptions": {
        "customPlotOptions": {},
        "displayType": "table",
        "pivotAggregation": null,
        "pivotColumns": null,
        "xColumns": null,
        "yColumns": null
       },
       "removedWidgets": [],
       "schema": [],
       "type": "table"
      }
     },
     "output_type": "display_data"
    }
   ],
   "source": [
    "%sql\n",
    "--Top 5 positive reviews on the latest day\n",
    "\n",
    "CREATE OR REPLACE VIEW retail.gold.v_top5_positive_reviews_latestday AS\n",
    "WITH mx AS (SELECT MAX(event_date) AS max_d FROM retail.gold.product_daily)\n",
    "SELECT\n",
    "  s.ProductId        AS product_id,\n",
    "  s.event_time,\n",
    "  s.rating,\n",
    "  s.sentiment_score,\n",
    "  s.Summary          AS summary,\n",
    "  s.Text             AS review_text\n",
    "FROM retail.clean.silver_reviews s, mx\n",
    "WHERE s.sentiment_label = 'positive'\n",
    "  AND s.event_date = mx.max_d\n",
    "ORDER BY s.sentiment_score DESC, s.rating DESC, s.event_time DESC\n",
    "LIMIT 5;"
   ]
  },
  {
   "cell_type": "code",
   "execution_count": 0,
   "metadata": {
    "application/vnd.databricks.v1+cell": {
     "cellMetadata": {
      "byteLimit": 2048000,
      "implicitDf": true,
      "rowLimit": 10000
     },
     "inputWidgets": {},
     "nuid": "daeda33e-99e8-4fe9-ab4a-8d295e2edc5b",
     "showTitle": false,
     "tableResultSettingsMap": {},
     "title": ""
    }
   },
   "outputs": [
    {
     "output_type": "display_data",
     "data": {
      "text/html": [
       "<style scoped>\n",
       "  .table-result-container {\n",
       "    max-height: 300px;\n",
       "    overflow: auto;\n",
       "  }\n",
       "  table, th, td {\n",
       "    border: 1px solid black;\n",
       "    border-collapse: collapse;\n",
       "  }\n",
       "  th, td {\n",
       "    padding: 5px;\n",
       "  }\n",
       "  th {\n",
       "    text-align: left;\n",
       "  }\n",
       "</style><div class='table-result-container'><table class='table-result'><thead style='background-color: white'><tr></tr></thead><tbody></tbody></table></div>"
      ]
     },
     "metadata": {
      "application/vnd.databricks.v1+output": {
       "addedWidgets": {},
       "aggData": [],
       "aggError": "",
       "aggOverflow": false,
       "aggSchema": [],
       "aggSeriesLimitReached": false,
       "aggType": "",
       "arguments": {},
       "columnCustomDisplayInfos": {},
       "data": [],
       "datasetInfos": [],
       "dbfsResultPath": null,
       "isJsonSchema": true,
       "metadata": {},
       "overflow": false,
       "plotOptions": {
        "customPlotOptions": {},
        "displayType": "table",
        "pivotAggregation": null,
        "pivotColumns": null,
        "xColumns": null,
        "yColumns": null
       },
       "removedWidgets": [],
       "schema": [],
       "type": "table"
      }
     },
     "output_type": "display_data"
    }
   ],
   "source": [
    "%sql\n",
    "--Top 5 positive reviews in the last 7 days\n",
    "\n",
    "CREATE OR REPLACE VIEW retail.gold.v_top5_positive_reviews_7d AS\n",
    "WITH mx AS (SELECT MAX(event_date) AS max_d FROM retail.gold.product_daily)\n",
    "SELECT\n",
    "  s.ProductId        AS product_id,\n",
    "  s.event_time,\n",
    "  s.rating,\n",
    "  s.sentiment_score,\n",
    "  s.Summary          AS summary,\n",
    "  s.Text             AS review_text\n",
    "FROM retail.clean.silver_reviews s, mx\n",
    "WHERE s.sentiment_label = 'positive'\n",
    "  AND s.event_date BETWEEN date_sub(mx.max_d, 6) AND mx.max_d\n",
    "ORDER BY s.sentiment_score DESC, s.rating DESC, s.event_time DESC\n",
    "LIMIT 5;\n"
   ]
  },
  {
   "cell_type": "code",
   "execution_count": 0,
   "metadata": {
    "application/vnd.databricks.v1+cell": {
     "cellMetadata": {
      "byteLimit": 2048000,
      "implicitDf": true,
      "rowLimit": 10000
     },
     "inputWidgets": {},
     "nuid": "f5c54a84-ca1b-47d2-b3c3-779a48878371",
     "showTitle": false,
     "tableResultSettingsMap": {},
     "title": ""
    }
   },
   "outputs": [
    {
     "output_type": "display_data",
     "data": {
      "text/html": [
       "<style scoped>\n",
       "  .table-result-container {\n",
       "    max-height: 300px;\n",
       "    overflow: auto;\n",
       "  }\n",
       "  table, th, td {\n",
       "    border: 1px solid black;\n",
       "    border-collapse: collapse;\n",
       "  }\n",
       "  th, td {\n",
       "    padding: 5px;\n",
       "  }\n",
       "  th {\n",
       "    text-align: left;\n",
       "  }\n",
       "</style><div class='table-result-container'><table class='table-result'><thead style='background-color: white'><tr></tr></thead><tbody></tbody></table></div>"
      ]
     },
     "metadata": {
      "application/vnd.databricks.v1+output": {
       "addedWidgets": {},
       "aggData": [],
       "aggError": "",
       "aggOverflow": false,
       "aggSchema": [],
       "aggSeriesLimitReached": false,
       "aggType": "",
       "arguments": {},
       "columnCustomDisplayInfos": {},
       "data": [],
       "datasetInfos": [],
       "dbfsResultPath": null,
       "isJsonSchema": true,
       "metadata": {},
       "overflow": false,
       "plotOptions": {
        "customPlotOptions": {},
        "displayType": "table",
        "pivotAggregation": null,
        "pivotColumns": null,
        "xColumns": null,
        "yColumns": null
       },
       "removedWidgets": [],
       "schema": [],
       "type": "table"
      }
     },
     "output_type": "display_data"
    }
   ],
   "source": [
    "%sql\n",
    "--Top 5 products by positive rate over 7 days (min 30 reviews)\n",
    "\n",
    "CREATE OR REPLACE VIEW retail.gold.v_top5_products_7d_by_positive_rate AS\n",
    "WITH mx AS (SELECT MAX(event_date) AS max_d FROM retail.gold.product_daily),\n",
    "agg AS (\n",
    "  SELECT\n",
    "    s.ProductId,\n",
    "    COUNT(*) AS reviews_7d,\n",
    "    SUM(CASE WHEN s.sentiment_label='positive' THEN 1 ELSE 0 END) AS pos_7d\n",
    "  FROM retail.clean.silver_reviews s, mx\n",
    "  WHERE s.event_date BETWEEN date_sub(mx.max_d, 6) AND mx.max_d\n",
    "  GROUP BY s.ProductId\n",
    ")\n",
    "SELECT\n",
    "  ProductId,\n",
    "  reviews_7d,\n",
    "  pos_7d,\n",
    "  ROUND(pos_7d / CAST(reviews_7d AS DOUBLE), 3) AS pos_rate_7d\n",
    "FROM agg\n",
    "WHERE reviews_7d >= 30\n",
    "ORDER BY pos_rate_7d DESC, reviews_7d DESC\n",
    "LIMIT 5;\n"
   ]
  },
  {
   "cell_type": "code",
   "execution_count": 0,
   "metadata": {
    "application/vnd.databricks.v1+cell": {
     "cellMetadata": {
      "byteLimit": 2048000,
      "implicitDf": true,
      "rowLimit": 10000
     },
     "inputWidgets": {},
     "nuid": "9a9cfc81-ee20-4c46-af0f-3f2af2e103ac",
     "showTitle": false,
     "tableResultSettingsMap": {},
     "title": ""
    }
   },
   "outputs": [
    {
     "output_type": "display_data",
     "data": {
      "text/html": [
       "<style scoped>\n",
       "  .table-result-container {\n",
       "    max-height: 300px;\n",
       "    overflow: auto;\n",
       "  }\n",
       "  table, th, td {\n",
       "    border: 1px solid black;\n",
       "    border-collapse: collapse;\n",
       "  }\n",
       "  th, td {\n",
       "    padding: 5px;\n",
       "  }\n",
       "  th {\n",
       "    text-align: left;\n",
       "  }\n",
       "</style><div class='table-result-container'><table class='table-result'><thead style='background-color: white'><tr></tr></thead><tbody></tbody></table></div>"
      ]
     },
     "metadata": {
      "application/vnd.databricks.v1+output": {
       "addedWidgets": {},
       "aggData": [],
       "aggError": "",
       "aggOverflow": false,
       "aggSchema": [],
       "aggSeriesLimitReached": false,
       "aggType": "",
       "arguments": {},
       "columnCustomDisplayInfos": {},
       "data": [],
       "datasetInfos": [],
       "dbfsResultPath": null,
       "isJsonSchema": true,
       "metadata": {},
       "overflow": false,
       "plotOptions": {
        "customPlotOptions": {},
        "displayType": "table",
        "pivotAggregation": null,
        "pivotColumns": null,
        "xColumns": null,
        "yColumns": null
       },
       "removedWidgets": [],
       "schema": [],
       "type": "table"
      }
     },
     "output_type": "display_data"
    }
   ],
   "source": [
    "%sql\n",
    "--Top 5 products by positive rate on the latest day (min 10 reviews)\n",
    "\n",
    "CREATE OR REPLACE VIEW retail.gold.v_top5_products_latestday_by_positive_rate AS\n",
    "WITH mx AS (SELECT MAX(event_date) AS max_d FROM retail.gold.product_daily),\n",
    "agg AS (\n",
    "  SELECT\n",
    "    s.ProductId,\n",
    "    COUNT(*) AS reviews_today,\n",
    "    SUM(CASE WHEN s.sentiment_label='positive' THEN 1 ELSE 0 END) AS pos_today\n",
    "  FROM retail.clean.silver_reviews s, mx\n",
    "  WHERE s.event_date = mx.max_d\n",
    "  GROUP BY s.ProductId\n",
    ")\n",
    "SELECT\n",
    "  ProductId,\n",
    "  reviews_today,\n",
    "  pos_today,\n",
    "  ROUND(pos_today / CAST(reviews_today AS DOUBLE), 3) AS pos_rate_today\n",
    "FROM agg\n",
    "WHERE reviews_today >= 10\n",
    "ORDER BY pos_rate_today DESC, reviews_today DESC\n",
    "LIMIT 5;\n"
   ]
  },
  {
   "cell_type": "code",
   "execution_count": 0,
   "metadata": {
    "application/vnd.databricks.v1+cell": {
     "cellMetadata": {
      "byteLimit": 2048000,
      "implicitDf": true,
      "rowLimit": 10000
     },
     "inputWidgets": {},
     "nuid": "7497e4e4-ffb8-4102-928e-8c43de90a321",
     "showTitle": false,
     "tableResultSettingsMap": {},
     "title": ""
    }
   },
   "outputs": [
    {
     "output_type": "display_data",
     "data": {
      "text/html": [
       "<style scoped>\n",
       "  .table-result-container {\n",
       "    max-height: 300px;\n",
       "    overflow: auto;\n",
       "  }\n",
       "  table, th, td {\n",
       "    border: 1px solid black;\n",
       "    border-collapse: collapse;\n",
       "  }\n",
       "  th, td {\n",
       "    padding: 5px;\n",
       "  }\n",
       "  th {\n",
       "    text-align: left;\n",
       "  }\n",
       "</style><div class='table-result-container'><table class='table-result'><thead style='background-color: white'><tr></tr></thead><tbody></tbody></table></div>"
      ]
     },
     "metadata": {
      "application/vnd.databricks.v1+output": {
       "addedWidgets": {},
       "aggData": [],
       "aggError": "",
       "aggOverflow": false,
       "aggSchema": [],
       "aggSeriesLimitReached": false,
       "aggType": "",
       "arguments": {},
       "columnCustomDisplayInfos": {},
       "data": [],
       "datasetInfos": [],
       "dbfsResultPath": null,
       "isJsonSchema": true,
       "metadata": {},
       "overflow": false,
       "plotOptions": {
        "customPlotOptions": {},
        "displayType": "table",
        "pivotAggregation": null,
        "pivotColumns": null,
        "xColumns": null,
        "yColumns": null
       },
       "removedWidgets": [],
       "schema": [],
       "type": "table"
      }
     },
     "output_type": "display_data"
    }
   ],
   "source": [
    "%sql\n",
    "--Top 5 products by positive volume (count of positive reviews) over 7 days\n",
    "\n",
    "CREATE OR REPLACE VIEW retail.gold.v_top5_products_7d_by_positive_volume AS\n",
    "WITH mx AS (SELECT MAX(event_date) AS max_d FROM retail.gold.product_daily)\n",
    "SELECT\n",
    "  s.ProductId,\n",
    "  SUM(CASE WHEN s.sentiment_label='positive' THEN 1 ELSE 0 END) AS pos_7d,\n",
    "  COUNT(*) AS reviews_7d,\n",
    "  ROUND(\n",
    "    SUM(CASE WHEN s.sentiment_label='positive' THEN 1 ELSE 0 END)\n",
    "    / CAST(COUNT(*) AS DOUBLE), 3\n",
    "  ) AS pos_rate_7d\n",
    "FROM retail.clean.silver_reviews s, mx\n",
    "WHERE s.event_date BETWEEN date_sub(mx.max_d, 6) AND mx.max_d\n",
    "GROUP BY s.ProductId\n",
    "ORDER BY pos_7d DESC, reviews_7d DESC\n",
    "LIMIT 5;\n"
   ]
  },
  {
   "cell_type": "code",
   "execution_count": 0,
   "metadata": {
    "application/vnd.databricks.v1+cell": {
     "cellMetadata": {
      "byteLimit": 2048000,
      "implicitDf": true,
      "rowLimit": 10000
     },
     "inputWidgets": {},
     "nuid": "64c2f908-1b0f-4e8a-9b56-b4f58301d4f1",
     "showTitle": false,
     "tableResultSettingsMap": {},
     "title": ""
    }
   },
   "outputs": [
    {
     "output_type": "display_data",
     "data": {
      "text/html": [
       "<style scoped>\n",
       "  .table-result-container {\n",
       "    max-height: 300px;\n",
       "    overflow: auto;\n",
       "  }\n",
       "  table, th, td {\n",
       "    border: 1px solid black;\n",
       "    border-collapse: collapse;\n",
       "  }\n",
       "  th, td {\n",
       "    padding: 5px;\n",
       "  }\n",
       "  th {\n",
       "    text-align: left;\n",
       "  }\n",
       "</style><div class='table-result-container'><table class='table-result'><thead style='background-color: white'><tr></tr></thead><tbody></tbody></table></div>"
      ]
     },
     "metadata": {
      "application/vnd.databricks.v1+output": {
       "addedWidgets": {},
       "aggData": [],
       "aggError": "",
       "aggOverflow": false,
       "aggSchema": [],
       "aggSeriesLimitReached": false,
       "aggType": "",
       "arguments": {},
       "columnCustomDisplayInfos": {},
       "data": [],
       "datasetInfos": [],
       "dbfsResultPath": null,
       "isJsonSchema": true,
       "metadata": {},
       "overflow": false,
       "plotOptions": {
        "customPlotOptions": {},
        "displayType": "table",
        "pivotAggregation": null,
        "pivotColumns": null,
        "xColumns": null,
        "yColumns": null
       },
       "removedWidgets": [],
       "schema": [],
       "type": "table"
      }
     },
     "output_type": "display_data"
    }
   ],
   "source": [
    "%sql\n",
    "--For the top 5 products (by 7-day volume), show top 3 positive reviews each (max 15 rows)\n",
    "\n",
    "CREATE OR REPLACE VIEW retail.gold.v_top_products_7d_with_top3_positive_reviews AS\n",
    "WITH mx AS (SELECT MAX(event_date) AS max_d FROM retail.gold.product_daily),\n",
    "top_prod AS (  -- pick 5 busiest products in last 7 days\n",
    "  SELECT s.ProductId\n",
    "  FROM retail.clean.silver_reviews s, mx\n",
    "  WHERE s.event_date BETWEEN date_sub(mx.max_d, 6) AND mx.max_d\n",
    "  GROUP BY s.ProductId\n",
    "  ORDER BY COUNT(*) DESC\n",
    "  LIMIT 5\n",
    "),\n",
    "ranked AS (\n",
    "  SELECT\n",
    "    s.ProductId AS product_id,\n",
    "    s.event_time,\n",
    "    s.rating,\n",
    "    s.sentiment_score,\n",
    "    s.Summary    AS summary,\n",
    "    s.Text       AS review_text,\n",
    "    ROW_NUMBER() OVER (\n",
    "      PARTITION BY s.ProductId\n",
    "      ORDER BY s.sentiment_score DESC, s.rating DESC, s.event_time DESC\n",
    "    ) AS rn\n",
    "  FROM retail.clean.silver_reviews s\n",
    "  JOIN top_prod t ON s.ProductId = t.ProductId\n",
    "  JOIN mx\n",
    "  WHERE s.sentiment_label = 'positive'\n",
    "    AND s.event_date BETWEEN date_sub(mx.max_d, 6) AND mx.max_d\n",
    ")\n",
    "SELECT product_id, event_time, rating, sentiment_score, summary, review_text\n",
    "FROM ranked\n",
    "WHERE rn <= 3\n",
    "ORDER BY product_id, rn;\n"
   ]
  }
 ],
 "metadata": {
  "application/vnd.databricks.v1+notebook": {
   "computePreferences": null,
   "dashboards": [],
   "environmentMetadata": {
    "base_environment": "",
    "environment_version": "2"
   },
   "inputWidgetPreferences": null,
   "language": "python",
   "notebookMetadata": {
    "mostRecentlyExecutedCommandWithImplicitDF": {
     "commandId": 8267274459135766,
     "dataframes": [
      "_sqldf"
     ]
    },
    "pythonIndentUnit": 4
   },
   "notebookName": "Silver_To_Gold_Layer_Transformation",
   "widgets": {}
  },
  "language_info": {
   "name": "python"
  }
 },
 "nbformat": 4,
 "nbformat_minor": 0
}